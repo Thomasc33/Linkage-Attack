{
 "cells": [
  {
   "attachments": {},
   "cell_type": "markdown",
   "metadata": {},
   "source": [
    "## Imports / Globals"
   ]
  },
  {
   "cell_type": "code",
   "execution_count": 1,
   "metadata": {},
   "outputs": [],
   "source": [
    "import pickle\n",
    "import pandas as pd\n",
    "from os import listdir\n",
    "from os.path import isfile, join\n",
    "from tqdm.notebook import tqdm\n",
    "import numpy as np\n",
    "from sklearn.model_selection import train_test_split\n",
    "import random\n",
    "import itertools\n",
    "\n",
    "np.random.seed(42)\n",
    "random.seed(42)"
   ]
  },
  {
   "cell_type": "code",
   "execution_count": 2,
   "metadata": {},
   "outputs": [],
   "source": [
    "# path = '/Users/thomas/Downloads/nturgb+d_skeletons'\n",
    "path = 'D:\\\\Datasets\\\\Motion Privacy\\\\NTU RGB+D 120\\\\Skeleton Data'\n",
    "X_path = 'data/X.pkl'"
   ]
  },
  {
   "cell_type": "markdown",
   "metadata": {},
   "source": [
    "## Data organization"
   ]
  },
  {
   "cell_type": "code",
   "execution_count": 3,
   "metadata": {},
   "outputs": [],
   "source": [
    "def load_files():\n",
    "    # Read the files\n",
    "    files = [f for f in listdir(path) if isfile(join(path, f))]\n",
    "\n",
    "    # Get stats for each file based on name\n",
    "    files_ = []\n",
    "    for file in files:\n",
    "        data = {'file': file,\n",
    "                's': file[0:4],\n",
    "                'c': file[4:8],\n",
    "                'p': file[8:12],\n",
    "                'r': file[12:16],\n",
    "                'a': file[16:20]\n",
    "                }\n",
    "        files_.append(data)\n",
    "\n",
    "    return files_\n",
    "files_ = None"
   ]
  },
  {
   "cell_type": "code",
   "execution_count": 4,
   "metadata": {},
   "outputs": [
    {
     "name": "stdout",
     "output_type": "stream",
     "text": [
      "Attempting to load X from pickle\n",
      "X loaded from pickle\n"
     ]
    }
   ],
   "source": [
    "# Attempt to load X and Y from pickle before generating them\n",
    "X = {}\n",
    "try:\n",
    "    print('Attempting to load X from pickle')\n",
    "    with open(X_path, 'rb') as f:\n",
    "        X = pickle.load(f)\n",
    "    print('X loaded from pickle')\n",
    "except:\n",
    "    print('Could not load X and Y, generating them now')\n",
    "    \n",
    "    # Read the files\n",
    "    files = [f for f in listdir(path) if isfile(join(path, f))]\n",
    "\n",
    "    # Get stats for each file based on name\n",
    "    files_ = []\n",
    "    for file in files:\n",
    "        data = {'file': file,\n",
    "                's': file[0:4],\n",
    "                'c': file[4:8],\n",
    "                'p': file[8:12],\n",
    "                'r': file[12:16],\n",
    "                'a': file[16:20]\n",
    "                }\n",
    "        files_.append(data)\n",
    "\n",
    "    # Generate X and Y\n",
    "    for file_ in tqdm(files_, desc='Files Parsed', position=0):\n",
    "        try:\n",
    "            file = join(path, file_['file'])\n",
    "            data = open(file, 'r')\n",
    "            lines = data.readlines()\n",
    "            frames_count = int(lines.pop(0).replace('\\n', ''))\n",
    "            file_['frames'] = frames_count\n",
    "        except UnicodeDecodeError: # .DS_Store file\n",
    "            print('UnicodeDecodeError: ', file)\n",
    "            continue\n",
    "\n",
    "        # Add filename as key to X\n",
    "        X[file_['file']] = []\n",
    "\n",
    "        # Skip file if 2 actors\n",
    "        if lines[0].replace('\\n', '') != '1': continue\n",
    "\n",
    "        for f in tqdm(range(frames_count), desc='Frames Parsed', position=1, leave=False):\n",
    "            try:\n",
    "                # Get actor count\n",
    "                actors = int(lines.pop(0).replace('\\n', ''))\n",
    "            \n",
    "                # Get actor info\n",
    "                t = lines.pop(0)\n",
    "\n",
    "                # Get joint count\n",
    "                joint_count = int(lines.pop(0).replace('\\n', ''))\n",
    "\n",
    "                # Get joint info\n",
    "                d = []\n",
    "                for j in range(joint_count):\n",
    "                    joint = lines.pop(0).replace('\\n', '').split(' ')\n",
    "                    d.extend(joint[0:3])\n",
    "\n",
    "                # Skip if not 25 joints\n",
    "                if len(d) != 75: continue\n",
    "\n",
    "                # Convert to numpy array\n",
    "                d = np.array(d)\n",
    "\n",
    "                # Append to X and Y\n",
    "                X[file_['file']].append(d)\n",
    "            except:\n",
    "                break\n",
    "        \n",
    "        # Convert to numpy array\n",
    "        X[file_['file']] = np.array(X[file_['file']], dtype=np.float16)\n",
    "\n",
    "        # Pad X size to 300 frames (300 is max frames in dataset)\n",
    "        X[file_['file']] = np.pad(X[file_['file']], ((0, 300-X[file_['file']].shape[0]), (0, 0)), 'constant')\n",
    "\n",
    "\n",
    "    print('X Generated, saving to pickle...')\n",
    "\n",
    "    # Save the data\n",
    "    with open(X_path, 'wb') as f:\n",
    "        pickle.dump(X, f)\n",
    "\n",
    "    print('X Saved to pickle')\n"
   ]
  },
  {
   "attachments": {},
   "cell_type": "markdown",
   "metadata": {},
   "source": [
    "## Data Generators"
   ]
  },
  {
   "cell_type": "code",
   "execution_count": 19,
   "metadata": {},
   "outputs": [
    {
     "data": {
      "application/vnd.jupyter.widget-view+json": {
       "model_id": "d0e18ae6919d48ce83f583aac4d7309d",
       "version_major": 2,
       "version_minor": 0
      },
      "text/plain": [
       "  0%|          | 0/40 [00:00<?, ?it/s]"
      ]
     },
     "metadata": {},
     "output_type": "display_data"
    },
    {
     "name": "stderr",
     "output_type": "stream",
     "text": [
      "C:\\Users\\Carrt\\AppData\\Local\\Temp\\ipykernel_2880\\171628044.py:43: VisibleDeprecationWarning: Creating an ndarray from ragged nested sequences (which is a list-or-tuple of lists-or-tuples-or ndarrays with different lengths or shapes) is deprecated. If you meant to do this, you must specify 'dtype=object' when creating the ndarray.\n",
      "  return np.array(samples)\n"
     ]
    },
    {
     "data": {
      "application/vnd.jupyter.widget-view+json": {
       "model_id": "c0157dd60afa40a996af46d7c2a294fb",
       "version_major": 2,
       "version_minor": 0
      },
      "text/plain": [
       "  0%|          | 0/69 [00:00<?, ?it/s]"
      ]
     },
     "metadata": {},
     "output_type": "display_data"
    },
    {
     "data": {
      "application/vnd.jupyter.widget-view+json": {
       "model_id": "198e16e5fc564d008832c3da7fc1923d",
       "version_major": 2,
       "version_minor": 0
      },
      "text/plain": [
       "  0%|          | 0/69 [00:00<?, ?it/s]"
      ]
     },
     "metadata": {},
     "output_type": "display_data"
    },
    {
     "data": {
      "text/plain": [
       "(32000, 27600, 55200)"
      ]
     },
     "execution_count": 19,
     "metadata": {},
     "output_type": "execute_result"
    }
   ],
   "source": [
    "same_samples_per_actor = 400\n",
    "diff_samples_per_actor = 400\n",
    "\n",
    "def data_generator_per_actor(X, same_samples_per_actor=1000, diff_samples_per_actor=1000, train=True):\n",
    "    actor_data = {}\n",
    "    for file in X:\n",
    "        actor = int(file[9:12])\n",
    "        action = int(file[17:20])\n",
    "\n",
    "        if train: \n",
    "            if action > 60:\n",
    "                continue\n",
    "        else:\n",
    "            if action <= 60:\n",
    "                continue\n",
    "\n",
    "        if actor not in actor_data:\n",
    "            actor_data[actor] = []\n",
    "        if len(X[file]) == 0:\n",
    "            continue\n",
    "        actor_data[actor].append(X[file])\n",
    "\n",
    "    actor_keys = list(actor_data.keys())\n",
    "\n",
    "    samples = []\n",
    "    for actor in tqdm(actor_keys):\n",
    "        for _ in range(same_samples_per_actor):\n",
    "            same_video1 = random.choice(actor_data[actor])\n",
    "            same_video2 = random.choice(actor_data[actor])\n",
    "            samples.append((np.array([same_video1, same_video2]).astype(np.float32), 1))\n",
    "\n",
    "        for _ in range(diff_samples_per_actor):\n",
    "            while True:\n",
    "                diff_actor = random.choice(actor_keys)\n",
    "                if diff_actor != actor:\n",
    "                    break\n",
    "            same_video1 = random.choice(actor_data[actor])\n",
    "            diff_video = random.choice(actor_data[diff_actor])\n",
    "            samples.append((np.array([same_video1, diff_video]).astype(np.float32), 0))\n",
    "\n",
    "        random.shuffle(samples)\n",
    "\n",
    "    return np.array(samples)\n",
    "\n",
    "\n",
    "train_gen = data_generator_per_actor(X, same_samples_per_actor, diff_samples_per_actor, train=True)\n",
    "val_gen = data_generator_per_actor(X, int(float(same_samples_per_actor)/2), int(float(diff_samples_per_actor)/2), train=False)\n",
    "test_gen = data_generator_per_actor(X, same_samples_per_actor, diff_samples_per_actor, train=False)\n",
    "\n",
    "len(train_gen), len(val_gen), len(test_gen)"
   ]
  },
  {
   "attachments": {},
   "cell_type": "markdown",
   "metadata": {},
   "source": [
    "## SGN\n",
    "\n",
    "All code in this section is adapted from Microsoft's SGN. [Github](https://github.com/microsoft/SGN)"
   ]
  },
  {
   "cell_type": "code",
   "execution_count": 21,
   "metadata": {},
   "outputs": [],
   "source": [
    "# Hyperparameters/Tuning Parameters\n",
    "dataset='NTU'\n",
    "batch_size=32\n",
    "max_epochs=200\n",
    "lr=1e-4\n",
    "weight_decay=1e-4\n",
    "do_train=1\n",
    "seg=20\n",
    "loss_lambda = 1e-5\n",
    "# load_model='best_model'\n",
    "load_model=False"
   ]
  },
  {
   "cell_type": "code",
   "execution_count": 7,
   "metadata": {},
   "outputs": [],
   "source": [
    "import os\n",
    "import numpy as np\n",
    "import torch\n",
    "import torch.nn as nn\n",
    "import torch.optim as optim\n",
    "from torch.utils.data import Dataset, DataLoader\n",
    "from model import SGN\n",
    "from sklearn.metrics import confusion_matrix, precision_recall_fscore_support, accuracy_score\n",
    "from torch.optim.lr_scheduler import ReduceLROnPlateau\n",
    "import torch.nn as nn\n",
    "import torch.nn.functional as F\n",
    "import time"
   ]
  },
  {
   "cell_type": "code",
   "execution_count": 8,
   "metadata": {},
   "outputs": [],
   "source": [
    "# Tweaks for Linkage Attack\n",
    "class SGN_Linkage_Attack(nn.Module):\n",
    "    def __init__(self, model_a, model_b, output_size):\n",
    "        super(SGN_Linkage_Attack, self).__init__()\n",
    "        self.model_a = model_a\n",
    "        self.model_b = model_b\n",
    "        self.conv1 = nn.Conv1d(1024, 512, kernel_size=1)\n",
    "        self.bn1 = nn.BatchNorm1d(512)\n",
    "        self.dropout1 = nn.Dropout(0.5)\n",
    "        self.fc1 = nn.Linear(512, 256)\n",
    "        self.bn2 = nn.BatchNorm1d(256)\n",
    "        self.dropout2 = nn.Dropout(0.5)\n",
    "        self.fc2 = nn.Linear(256, 128)\n",
    "        self.dropout3 = nn.Dropout(0.3)\n",
    "        self.fc3 = nn.Linear(128, output_size)\n",
    "        pretrained = torch.load('C:\\\\Users\\\\Carrt\\\\OneDrive\\\\Code\\\\Motion Privacy\\\\Attacking Models\\\\SGN Attack Model\\\\results\\\\NTU\\\\SGN\\\\0_best.pth')['state_dict']\n",
    "        del pretrained['fc.weight']\n",
    "        del pretrained['fc.bias']\n",
    "        self.model_a.load_state_dict(pretrained)\n",
    "        self.model_b.load_state_dict(pretrained)\n",
    "        \n",
    "        freeze = False\n",
    "        if freeze:\n",
    "            num_layers_to_unfreeze = -1\n",
    "\n",
    "            if num_layers_to_unfreeze > 0:\n",
    "            \n",
    "                for i, (name, param) in enumerate(self.model_a.named_parameters()):\n",
    "                    if i >= len(list(self.model_a.named_parameters())) - num_layers_to_unfreeze:\n",
    "                        param.requires_grad = True\n",
    "                    else:\n",
    "                        param.requires_grad = False\n",
    "                        \n",
    "                for i, (name, param) in enumerate(self.model_b.named_parameters()):\n",
    "                    if i >= len(list(self.model_b.named_parameters())) - num_layers_to_unfreeze:\n",
    "                        param.requires_grad = True\n",
    "                    else:\n",
    "                        param.requires_grad = False\n",
    "            else:\n",
    "                for param in self.model_a.parameters():\n",
    "                    param.requires_grad = False\n",
    "                    \n",
    "                for param in self.model_b.parameters():\n",
    "                    param.requires_grad = False\n",
    "\n",
    "    def forward(self, x_a, x_b):\n",
    "        a_out = self.model_a(x_a).cuda()\n",
    "        b_out = self.model_b(x_b).cuda()\n",
    "        out = torch.cat((a_out, b_out), dim=1).unsqueeze(2)\n",
    "        out = F.relu(self.bn1(self.conv1(out)))\n",
    "        out = self.dropout1(out)\n",
    "        out = out.view(out.size(0), -1)\n",
    "        out = F.relu(self.bn2(self.fc1(out)))\n",
    "        out = self.dropout2(out)\n",
    "        out = self.fc2(out)\n",
    "        out = self.dropout3(out)\n",
    "        out = self.fc3(out)\n",
    "        out = torch.sigmoid(out)\n",
    "        return out\n",
    "    \n",
    "    def print_weights(self):\n",
    "        print('FC Weights: ', self.fc[0].weight)\n",
    "        print('FC Bias: ', self.fc[0].bias)\n",
    "        print('Model A state_dict:', self.model_a.state_dict())\n",
    "        print('Model B state_dict:', self.model_b.state_dict())\n",
    "\n",
    "class SGN_Linkage_Attack_Simple(nn.Module):\n",
    "    def __init__(self, model_a, model_b, output_size):\n",
    "        super(SGN_Linkage_Attack_Simple, self).__init__()\n",
    "        self.model_a = model_a\n",
    "        self.model_b = model_b\n",
    "        self.dropout1 = nn.Dropout(0.5)\n",
    "        self.fc1 = nn.Linear(1024, 256)\n",
    "        self.dropout2 = nn.Dropout(0.5)\n",
    "        self.fc2 = nn.Linear(256, output_size)\n",
    "        pretrained = torch.load('C:\\\\Users\\\\Carrt\\\\OneDrive\\\\Code\\\\Motion Privacy\\\\Attacking Models\\\\SGN Attack Model\\\\results\\\\NTU\\\\SGN\\\\0_best.pth')['state_dict']\n",
    "        del pretrained['fc.weight']\n",
    "        del pretrained['fc.bias']\n",
    "        self.model_a.load_state_dict(pretrained)\n",
    "        self.model_b.load_state_dict(pretrained)\n",
    "        \n",
    "        freeze = True\n",
    "        if freeze:\n",
    "            for i, (name, param) in enumerate(self.model_a.named_parameters()):\n",
    "                param.requires_grad = False                    \n",
    "            for i, (name, param) in enumerate(self.model_b.named_parameters()):\n",
    "                param.requires_grad = False\n",
    "\n",
    "    def forward(self, x_a, x_b):\n",
    "        a_out = self.model_a(x_a).cuda()\n",
    "        b_out = self.model_b(x_b).cuda()\n",
    "        out = torch.cat((a_out, b_out), dim=1)\n",
    "        out = self.dropout1(out)\n",
    "        out = self.fc1(out)\n",
    "        out = self.dropout2(out)\n",
    "        out = self.fc2(out)\n",
    "        out = torch.sigmoid(out)\n",
    "        return out\n",
    "    \n",
    "    def print_weights(self):\n",
    "        print('FC Weights: ', self.fc[0].weight)\n",
    "        print('FC Bias: ', self.fc[0].bias)\n",
    "        print('Model A state_dict:', self.model_a.state_dict())\n",
    "        print('Model B state_dict:', self.model_b.state_dict())\n",
    "\n",
    "class SGN_Linkage_Dataset(Dataset):\n",
    "    def __init__(self, data_gen, seg=20):\n",
    "        self.data_gen = data_gen\n",
    "        self.seg = seg\n",
    "\n",
    "    def __len__(self):\n",
    "        return len(self.data_gen)\n",
    "\n",
    "    def __getitem__(self, idx):\n",
    "        # x, y = next(self.data_gen)\n",
    "        x, y = self.data_gen[idx]\n",
    "        x_a, x_b = self.preprocess(x)\n",
    "        return x_a, x_b, y\n",
    "\n",
    "    def preprocess(self, x):\n",
    "        x_a = x[0]\n",
    "        x_b = x[1]\n",
    "\n",
    "        x_a = self.tolist_fix([x_a])\n",
    "        x_a = torch.tensor(x_a).cuda()\n",
    "        x_b = self.tolist_fix([x_b])\n",
    "        x_b = torch.tensor(x_b).cuda()\n",
    "\n",
    "        # epsilon = 1e-8\n",
    "        # x_a = (x_a - x_a.mean(dim=1, keepdim=True)) / (x_a.std(dim=1, keepdim=True) + epsilon)\n",
    "        # x_b = (x_b - x_b.mean(dim=1, keepdim=True)) / (x_b.std(dim=1, keepdim=True) + epsilon)\n",
    "\n",
    "        x_a = x_a.squeeze(0)\n",
    "        x_b = x_b.squeeze(0)\n",
    "\n",
    "        return x_a, x_b\n",
    "\n",
    "    def tolist_fix(self, joints, train=1):\n",
    "        seqs = []\n",
    "\n",
    "        for idx, seq in enumerate(joints):\n",
    "            zero_row = []\n",
    "            for i in range(len(seq)):\n",
    "                if np.array_equal(seq[i, :], np.zeros(75)):\n",
    "                    zero_row.append(i)\n",
    "\n",
    "            seq = np.delete(seq, zero_row, axis=0)\n",
    "            seqs = self.sub_seq(seqs, seq, train=train)\n",
    "\n",
    "        return seqs\n",
    "\n",
    "    def sub_seq(self, seqs, seq, train=1):\n",
    "        group = self.seg\n",
    "\n",
    "        if seq.shape[0] < self.seg:\n",
    "            pad = np.zeros(\n",
    "                (self.seg - seq.shape[0], seq.shape[1])).astype(np.float32)\n",
    "            seq = np.concatenate([seq, pad], axis=0)\n",
    "\n",
    "        ave_duration = seq.shape[0] // group\n",
    "\n",
    "        if train == 1:\n",
    "            offsets = np.multiply(\n",
    "                list(range(group)), ave_duration) + np.random.randint(ave_duration, size=group)\n",
    "            seq = seq[offsets]\n",
    "            seqs.append(seq)\n",
    "\n",
    "        return seqs\n",
    "\n",
    "class LabelSmoothingLoss(nn.Module):\n",
    "    def __init__(self, classes, smoothing=0.0, dim=-1):\n",
    "        super(LabelSmoothingLoss, self).__init__()\n",
    "        self.confidence = 1.0 - smoothing\n",
    "        self.smoothing = smoothing\n",
    "        self.cls = classes\n",
    "        self.dim = dim\n",
    "\n",
    "    def forward(self, pred, target):\n",
    "        pred = pred.log_softmax(dim=self.dim)\n",
    "        with torch.no_grad():\n",
    "            true_dist = torch.zeros_like(pred)\n",
    "            true_dist.fill_(self.smoothing / (self.cls - 1))\n",
    "            target = target.long()  # Convert target tensor to long\n",
    "            true_dist.scatter_(1, target.data.unsqueeze(1), self.confidence)\n",
    "        return torch.mean(torch.sum(-true_dist * pred, dim=self.dim))\n",
    "\n",
    "def evaluate_metrics(model, criterion, data_loader):\n",
    "    model.eval()\n",
    "    total_loss = 0\n",
    "    total_samples = 0\n",
    "    all_targets = []\n",
    "    all_predictions = []\n",
    "\n",
    "    with torch.no_grad():\n",
    "        # for x_a, x_b, targets in tqdm(data_loader, leave=False, desc='Testing', position=1):\n",
    "        for x_a, x_b, targets in data_loader:\n",
    "            x_a, x_b, targets = x_a.cuda(), x_b.cuda(), targets.float().cuda()\n",
    "\n",
    "            outputs = model(x_a, x_b)\n",
    "            loss = criterion(outputs.squeeze(), targets)\n",
    "\n",
    "            # L1 regularization\n",
    "            # l1_norm = sum(p.abs().sum() for p in model.parameters() if p.requires_grad)  # Compute the L1 norm for trainable parameters\n",
    "            # loss = loss + loss_lambda * l1_norm\n",
    "\n",
    "            total_loss += loss.item() * targets.size(0)\n",
    "            total_samples += targets.size(0)\n",
    "\n",
    "            predictions = (outputs > 0.5).long().squeeze()  # Convert output to binary format\n",
    "            all_targets.extend(targets.tolist())\n",
    "            all_predictions.extend(predictions.tolist())\n",
    "\n",
    "    # Calculate metrics\n",
    "    loss = total_loss / total_samples\n",
    "    accuracy = accuracy_score(all_targets, all_predictions)\n",
    "    cm = confusion_matrix(all_targets, all_predictions)\n",
    "    precision, recall, f1, _ = precision_recall_fscore_support(all_targets, all_predictions, average='binary', zero_division=1)\n",
    "    \n",
    "    return accuracy, loss, cm, precision, recall, f1\n",
    "\n",
    "def test(model, data_loader):\n",
    "    model.eval()\n",
    "    total_samples = 0\n",
    "    all_targets = []\n",
    "    all_predictions = []\n",
    "\n",
    "    with torch.no_grad():\n",
    "        for x_a, x_b, targets in tqdm(data_loader, desc='Testing'):\n",
    "            x_a, x_b, targets = x_a.cuda(), x_b.cuda(), targets.float().cuda()\n",
    "\n",
    "            outputs = model(x_a, x_b)\n",
    "            total_samples += targets.size(0)\n",
    "\n",
    "            predictions = (outputs > 0.5).long().squeeze()  # Convert output to binary format\n",
    "            all_targets.extend(targets.tolist())\n",
    "            all_predictions.extend(predictions.tolist())\n",
    "\n",
    "    # Calculate metrics\n",
    "    accuracy = accuracy_score(all_targets, all_predictions)\n",
    "    cm = confusion_matrix(all_targets, all_predictions)\n",
    "    precision, recall, f1, _ = precision_recall_fscore_support(all_targets, all_predictions, average='binary', zero_division=1)\n",
    "    \n",
    "    return accuracy, cm, precision, recall, f1\n"
   ]
  },
  {
   "cell_type": "code",
   "execution_count": 22,
   "metadata": {},
   "outputs": [
    {
     "data": {
      "application/vnd.jupyter.widget-view+json": {
       "model_id": "7d527d7eeec84128a0ce0de59fc774b7",
       "version_major": 2,
       "version_minor": 0
      },
      "text/plain": [
       "Epochs:   0%|          | 0/200 [00:00<?, ?it/s]"
      ]
     },
     "metadata": {},
     "output_type": "display_data"
    },
    {
     "name": "stdout",
     "output_type": "stream",
     "text": [
      "Epoch 1\n",
      "Training Loss: 0.6108045498728752, Training Accuracy: 0.65696875, Train Precision: 0.6345278268787831, Train Recall: 0.740375, Train F1: 0.68337708038882\n",
      "Validation Loss: 0.6040101674344313, Validation Accuracy: 0.6610353828306265, Validation Precision: 0.6076986474038881, Validation Recall: 0.9087943159573697, Validation F1: 0.7283556072051133\n",
      "Epoch 2\n",
      "Training Loss: 0.5745571377277374, Training Accuracy: 0.69621875, Train Precision: 0.6568887112088352, Train Recall: 0.8215625, Train F1: 0.7300547055066507\n",
      "Validation Loss: 0.6099563392782432, Validation Accuracy: 0.6624492459396751, Validation Precision: 0.6111166203887346, Validation Recall: 0.8935692017690132, Validation F1: 0.725832572656871\n",
      "Epoch 3\n",
      "Training Loss: 0.5577322914004326, Training Accuracy: 0.7110625, Train Precision: 0.668647622852577, Train Recall: 0.8368125, Train F1: 0.7433377748167888\n",
      "Validation Loss: 0.5965534826165839, Validation Accuracy: 0.6714037122969838, Validation Precision: 0.6256710071751262, Validation Recall: 0.853476401073008, Validation F1: 0.7220314033366046\n",
      "Epoch 4\n",
      "Training Loss: 0.5245439707636833, Training Accuracy: 0.74225, Train Precision: 0.6996908809891809, Train Recall: 0.8488125, Train F1: 0.7670714487432929\n",
      "Validation Loss: 0.5871373561239022, Validation Accuracy: 0.6882613109048724, Validation Precision: 0.6429908600374408, Validation Recall: 0.8466613499601247, Validation F1: 0.7309028321076514\n",
      "Epoch 5\n",
      "Training Loss: 0.48631753009557727, Training Accuracy: 0.77078125, Train Precision: 0.7280623256303627, Train Recall: 0.8644375, Train F1: 0.7904106066234249\n",
      "Validation Loss: 0.6004549214430586, Validation Accuracy: 0.683584686774942, Validation Precision: 0.6371068160900871, Validation Recall: 0.8531863988979917, Validation F1: 0.729481775353335\n",
      "Epoch 6\n",
      "Training Loss: 0.47528558751940725, Training Accuracy: 0.77746875, Train Precision: 0.7357298359262996, Train Recall: 0.866, Train F1: 0.7955674216978152\n",
      "Validation Loss: 0.585896518729679, Validation Accuracy: 0.6960194315545244, Validation Precision: 0.6536189069423929, Validation Recall: 0.8341187558906692, Validation F1: 0.732919254658385\n",
      "Epoch 7\n",
      "Training Loss: 0.4693249519169331, Training Accuracy: 0.781875, Train Precision: 0.7393080759842937, Train Recall: 0.8708125, Train F1: 0.7996900648567984\n",
      "Validation Loss: 0.5815385893644147, Validation Accuracy: 0.6929741879350348, Validation Precision: 0.6475119139975618, Validation Recall: 0.8471688537664033, Validation F1: 0.7340054649957599\n",
      "Epoch 8\n",
      "Training Loss: 0.45937910041213037, Training Accuracy: 0.7843125, Train Precision: 0.7434703489616784, Train Recall: 0.8681875, Train F1: 0.8010033444816054\n",
      "Validation Loss: 0.5967929719703103, Validation Accuracy: 0.6917778422273781, Validation Precision: 0.6448081449449887, Validation Recall: 0.8540564054230406, Validation F1: 0.734826274093943\n",
      "Epoch 9\n",
      "Training Loss: 0.4525555061548948, Training Accuracy: 0.79175, Train Precision: 0.7500803600128576, Train Recall: 0.8750625, Train F1: 0.807765533952576\n",
      "Validation Loss: 0.6000549174032742, Validation Accuracy: 0.7049376450116009, Validation Precision: 0.6695454000239894, Validation Recall: 0.8093960704705285, Validation F1: 0.7328585026422031\n",
      "Epoch 10\n",
      "Training Loss: 0.4421993953883648, Training Accuracy: 0.7989375, Train Precision: 0.7575104985463551, Train Recall: 0.879375, Train F1: 0.8139064036559264\n",
      "Validation Loss: 0.5854131089147449, Validation Accuracy: 0.6960194315545244, Validation Precision: 0.6483106625713032, Validation Recall: 0.8569564271732037, Validation F1: 0.7381733021077284\n",
      "New best validation f1, checkpoint saved\n",
      "Epoch 11\n",
      "Training Loss: 0.4412964205890894, Training Accuracy: 0.79696875, Train Precision: 0.7577154634701958, Train Recall: 0.873125, Train F1: 0.8113366437262248\n",
      "Validation Loss: 0.575273499480533, Validation Accuracy: 0.7114269141531323, Validation Precision: 0.6717507802838466, Validation Recall: 0.8270137026027695, Validation F1: 0.7413400922856956\n",
      "New best validation f1, checkpoint saved\n",
      "Epoch 12\n",
      "Training Loss: 0.4427417996674776, Training Accuracy: 0.7965, Train Precision: 0.7569602426606001, Train Recall: 0.8734375, Train F1: 0.8110382450235042\n",
      "Validation Loss: 0.5689487416824442, Validation Accuracy: 0.7047201276102089, Validation Precision: 0.6600181323662738, Validation Recall: 0.8444863336475024, Validation F1: 0.7409433542190134\n",
      "Epoch 13\n",
      "Training Loss: 0.43419392289221287, Training Accuracy: 0.8045, Train Precision: 0.765041888804265, Train Recall: 0.8789375, Train F1: 0.8180443255191671\n",
      "Validation Loss: 0.5764186868742281, Validation Accuracy: 0.7080191415313225, Validation Precision: 0.6719189982625366, Validation Recall: 0.8130935982019866, Validation F1: 0.7357958273192494\n",
      "Epoch 14\n",
      "Training Loss: 0.4290317197293043, Training Accuracy: 0.8073125, Train Precision: 0.7677229663508657, Train Recall: 0.88125, Train F1: 0.8205784787289763\n",
      "Validation Loss: 0.6036675471095088, Validation Accuracy: 0.6968895011600929, Validation Precision: 0.6584782355000584, Validation Recall: 0.818168636264772, Validation F1: 0.7296886618602696\n",
      "Epoch 15\n",
      "Training Loss: 0.4239638697654009, Training Accuracy: 0.80790625, Train Precision: 0.7705233100873099, Train Recall: 0.877, Train F1: 0.820320949402239\n",
      "Validation Loss: 0.5960688268087303, Validation Accuracy: 0.7080191415313225, Validation Precision: 0.6751083175688045, Validation Recall: 0.8020735155513666, Validation F1: 0.7331345261762756\n",
      "Epoch 16\n",
      "Training Loss: 0.42142504726350305, Training Accuracy: 0.80984375, Train Precision: 0.7717778630557536, Train Recall: 0.879875, Train F1: 0.822289068660378\n",
      "Validation Loss: 0.5972013013683726, Validation Accuracy: 0.7013123549883991, Validation Precision: 0.6593230063109581, Validation Recall: 0.8331762488218661, Validation F1: 0.7361240111456299\n",
      "Epoch 17\n",
      "Training Loss: 0.41877657406032087, Training Accuracy: 0.811375, Train Precision: 0.7730162209557212, Train Recall: 0.881625, Train F1: 0.8237561317449195\n",
      "Validation Loss: 0.599398985193943, Validation Accuracy: 0.6976508120649652, Validation Precision: 0.6542574257425743, Validation Recall: 0.8383962879721598, Validation F1: 0.7349688572518113\n",
      "Epoch 18\n",
      "Training Loss: 0.41528373220562936, Training Accuracy: 0.81184375, Train Precision: 0.7751613081122815, Train Recall: 0.8785, Train F1: 0.8236017929862596\n",
      "Validation Loss: 0.6050775601526424, Validation Accuracy: 0.6981946055684455, Validation Precision: 0.6613550519357885, Validation Recall: 0.8124410933081998, Validation F1: 0.7291537885935517\n",
      "Epoch 19\n",
      "Training Loss: 0.4119347951859236, Training Accuracy: 0.81590625, Train Precision: 0.7770348040559057, Train Recall: 0.8860625, Train F1: 0.8279748868447948\n",
      "Validation Loss: 0.6091400029142052, Validation Accuracy: 0.70689530162413, Validation Precision: 0.6729906655352164, Validation Recall: 0.8049735373015298, Validation F1: 0.7330890363474298\n",
      "Epoch 20\n",
      "Training Loss: 0.4098120459616184, Training Accuracy: 0.81525, Train Precision: 0.7791057990261178, Train Recall: 0.88, Train F1: 0.8264850903968067\n",
      "Validation Loss: 0.606348679748876, Validation Accuracy: 0.7001160092807425, Validation Precision: 0.6601496780182167, Validation Recall: 0.8249836873776554, Validation F1: 0.733419271672575\n",
      "Epoch 21\n",
      "Training Loss: 0.40030340814590454, Training Accuracy: 0.82065625, Train Precision: 0.783813685899209, Train Recall: 0.8855625, Train F1: 0.8315872876133462\n",
      "Validation Loss: 0.6159501224064772, Validation Accuracy: 0.6997172273781903, Validation Precision: 0.6601371774006045, Validation Recall: 0.8233886754150657, Validation F1: 0.7327805916701616\n",
      "Epoch 00021: reducing learning rate of group 0 to 1.0000e-05.\n",
      "Epoch 22\n",
      "Training Loss: 0.3931796030700207, Training Accuracy: 0.82440625, Train Precision: 0.7856160237715292, Train Recall: 0.8923125, Train F1: 0.8355719427618294\n",
      "Validation Loss: 0.6146464484750257, Validation Accuracy: 0.7065327726218097, Validation Precision: 0.677286869943995, Validation Recall: 0.7890959182193866, Validation F1: 0.7289287747379701\n",
      "Epoch 23\n",
      "Training Loss: 0.3847843712568283, Training Accuracy: 0.82815625, Train Precision: 0.7904198241053155, Train Recall: 0.893125, Train F1: 0.8386396314445846\n",
      "Validation Loss: 0.6002787132412541, Validation Accuracy: 0.7045388631090487, Validation Precision: 0.6672, Validation Recall: 0.816283622127166, Validation F1: 0.7342506847528368\n",
      "Epoch 24\n",
      "Training Loss: 0.3762174093425274, Training Accuracy: 0.83540625, Train Precision: 0.7972965486676639, Train Recall: 0.8995, Train F1: 0.8453202549117501\n",
      "Validation Loss: 0.6169924697992143, Validation Accuracy: 0.7075478538283063, Validation Precision: 0.6745306022921239, Validation Recall: 0.8022185166388748, Validation F1: 0.7328542570454019\n",
      "Epoch 25\n",
      "Training Loss: 0.378684387370944, Training Accuracy: 0.83309375, Train Precision: 0.7968915380758732, Train Recall: 0.8940625, Train F1: 0.8426850460958439\n",
      "Validation Loss: 0.6201789782937884, Validation Accuracy: 0.7034875290023201, Validation Precision: 0.6665480004746648, Validation Recall: 0.814471108533314, Validation F1: 0.7331223284497668\n",
      "Epoch 26\n",
      "Training Loss: 0.3822585429996252, Training Accuracy: 0.83178125, Train Precision: 0.7954583402905326, Train Recall: 0.89325, Train F1: 0.841522654340978\n",
      "Validation Loss: 0.6097886579288407, Validation Accuracy: 0.703125, Validation Precision: 0.661666282021694, Validation Recall: 0.8314362357717683, Validation F1: 0.7368995983935743\n",
      "Epoch 27\n",
      "Training Loss: 0.3807896537035704, Training Accuracy: 0.832625, Train Precision: 0.797052913596785, Train Recall: 0.8925, Train F1: 0.842080434013445\n",
      "Validation Loss: 0.6106169893819052, Validation Accuracy: 0.7061702436194895, Validation Precision: 0.6690040408842406, Validation Recall: 0.8162111215834119, Validation F1: 0.7353123673296105\n",
      "Early stopping\n",
      "Accuracy: 0.7090217391304348\n",
      "Loss: 0.5787097433857296\n",
      "Confusion Matrix: [[16355 11245]\n",
      " [ 4817 22783]]\n",
      "Precision: 0.6695368520042319\n",
      "Recall: 0.8254710144927536\n",
      "F1: 0.7393717141559032\n"
     ]
    }
   ],
   "source": [
    "def main(do_train = True, patience = 16):\n",
    "    # Initiate the two SGN models\n",
    "    num_classes = 1 # Is the same or not the same\n",
    "    SGN_Encoder1 = SGN(num_classes, dataset, seg, batch_size, do_train).cuda()\n",
    "    SGN_Encoder2 = SGN(num_classes, dataset, seg, batch_size, do_train).cuda()\n",
    "    \n",
    "    # Combine the two SGN Models\n",
    "    model = SGN_Linkage_Attack(SGN_Encoder1, SGN_Encoder2, num_classes).cuda()\n",
    "\n",
    "    train_dataset, val_dataset, test_dataset = SGN_Linkage_Dataset(train_gen), SGN_Linkage_Dataset(val_gen), SGN_Linkage_Dataset(test_gen)\n",
    "\n",
    "    train_loader = DataLoader(train_dataset, batch_size=batch_size, shuffle=True, drop_last=True)\n",
    "    test_loader = DataLoader(test_dataset, batch_size=batch_size, shuffle=False, drop_last=True)\n",
    "    validation_loader = DataLoader(val_dataset, batch_size=batch_size, shuffle=False, drop_last=True)\n",
    "\n",
    "    # Set up checkpoint director\n",
    "    checkpoint_dir = 'models'\n",
    "    os.makedirs(checkpoint_dir, exist_ok=True)\n",
    "\n",
    "    # Load the model if specified\n",
    "    if load_model:\n",
    "        # Load the model\n",
    "        model.load_state_dict(torch.load(f'{checkpoint_dir}/{load_model}.pt'))\n",
    "        print('Model loaded')\n",
    "\n",
    "    # Initialize variables for tracking loss\n",
    "    best_loss = float('inf')\n",
    "    best_f1=0.7359543355566958\n",
    "    best_epoch = 0\n",
    "    train_losses = []\n",
    "    val_losses = []\n",
    "\n",
    "    # Train the model\n",
    "    # criterion = LabelSmoothingLoss(num_classes, smoothing=0.1).cuda()\n",
    "    criterion = nn.BCELoss().cuda()\n",
    "    # criterion = FocalLoss().cuda()\n",
    "    optimizer = optim.Adam(filter(lambda p: p.requires_grad, model.parameters()), lr=lr, weight_decay=weight_decay)\n",
    "\n",
    "    # Scheduler\n",
    "    scheduler = ReduceLROnPlateau(optimizer, 'min', patience=int(patience/2), verbose=True)\n",
    "    early_stopping_counter = 0\n",
    "\n",
    "    train_start = time.time()\n",
    "    if do_train:\n",
    "        for epoch in tqdm(range(max_epochs), desc='Epochs'):\n",
    "            # Train\n",
    "            model.train(True)\n",
    "            total_train_loss = 0\n",
    "            train_targets = []\n",
    "            train_predictions = []\n",
    "            # for i, (x_a, x_b, y) in enumerate(tqdm(train_loader, leave=True, desc='Training Batch', position=1)):\n",
    "            for i, (x_a, x_b, y) in enumerate(train_loader):\n",
    "                x_a = x_a.cuda()\n",
    "                x_b = x_b.cuda()\n",
    "                y = y.float().cuda()\n",
    "                \n",
    "                output = model(x_a, x_b)\n",
    "                loss = criterion(output.squeeze(), y)\n",
    "\n",
    "                # L1 regularization\n",
    "                # l1_norm = sum(p.abs().sum() for p in model.parameters() if p.requires_grad)  # Compute the L1 norm for trainable parameters\n",
    "                # loss = loss + loss_lambda * l1_norm\n",
    "    \n",
    "                optimizer.zero_grad()\n",
    "                total_train_loss += loss.item()  # Update total training loss\n",
    "                loss.backward()\n",
    "\n",
    "                predictions = (output > 0.5).long().squeeze()  # Convert outputs to binary format\n",
    "                train_targets.extend(y.tolist())\n",
    "                train_predictions.extend(predictions.tolist())\n",
    "                # torch.nn.utils.clip_grad_norm_(model.parameters(), max_norm=1)\n",
    "\n",
    "                optimizer.step()\n",
    "\n",
    "            avg_train_loss = total_train_loss / len(train_loader)  # Calculate average training loss\n",
    "\n",
    "            # Evaluate\n",
    "            val_acc, val_loss, _, val_precision, val_recall, val_f1 = evaluate_metrics(model, criterion, validation_loader)\n",
    "            train_acc = accuracy_score(train_targets, train_predictions)\n",
    "            train_precision, train_recall, train_f1, _ = precision_recall_fscore_support(train_targets, train_predictions, average='binary')\n",
    "            print(f'Epoch {epoch+1}\\nTraining Loss: {avg_train_loss}, Training Accuracy: {train_acc}, Train Precision: {train_precision}, Train Recall: {train_recall}, Train F1: {train_f1}\\nValidation Loss: {val_loss}, Validation Accuracy: {val_acc}, Validation Precision: {val_precision}, Validation Recall: {val_recall}, Validation F1: {val_f1}')\n",
    "            train_losses.append(avg_train_loss)\n",
    "            val_losses.append(val_loss)\n",
    "\n",
    "            # Save the best model\n",
    "            # if val_loss < best_loss:\n",
    "            if val_f1 > best_f1:\n",
    "                best_f1 = val_f1\n",
    "                # best_loss = val_loss\n",
    "                best_epoch = epoch\n",
    "                torch.save(model.state_dict(), os.path.join(checkpoint_dir, 'best_model.pt'))\n",
    "                # print(f'New best validation loss, checkpoint saved')\n",
    "                print(f'New best validation f1, checkpoint saved')\n",
    "                early_stopping_counter = 0\n",
    "            else:\n",
    "                early_stopping_counter += 1\n",
    "            \n",
    "            if early_stopping_counter >= patience:\n",
    "                print('Early stopping')\n",
    "                break\n",
    "            \n",
    "            scheduler.step(val_loss)\n",
    "\n",
    "    train_done = time.time()\n",
    "\n",
    "    # Load the best model\n",
    "    model.load_state_dict(torch.load(os.path.join(checkpoint_dir, 'best_model.pt')))\n",
    "\n",
    "    # Evaluate the model\n",
    "    accuracy, loss, cm, precision, recall, f1 = evaluate_metrics(model, criterion, test_loader)\n",
    "    print(f'Accuracy: {accuracy}')\n",
    "    print(f'Loss: {loss}')\n",
    "    print(f'Confusion Matrix: {cm}')\n",
    "    print(f'Precision: {precision}')\n",
    "    print(f'Recall: {recall}')\n",
    "    print(f'F1: {f1}')\n",
    "\n",
    "    return train_losses, val_losses, train_start-train_done\n",
    "\n",
    "tl, vl, time = main()"
   ]
  },
  {
   "cell_type": "code",
   "execution_count": 30,
   "metadata": {},
   "outputs": [
    {
     "data": {
      "application/vnd.jupyter.widget-view+json": {
       "model_id": "5bfd60bbb0d242ec8dad935f5111bc0b",
       "version_major": 2,
       "version_minor": 0
      },
      "text/plain": [
       "  0%|          | 0/40 [00:00<?, ?it/s]"
      ]
     },
     "metadata": {},
     "output_type": "display_data"
    },
    {
     "name": "stderr",
     "output_type": "stream",
     "text": [
      "C:\\Users\\Carrt\\AppData\\Local\\Temp\\ipykernel_3504\\2058692334.py:43: VisibleDeprecationWarning: Creating an ndarray from ragged nested sequences (which is a list-or-tuple of lists-or-tuples-or ndarrays with different lengths or shapes) is deprecated. If you meant to do this, you must specify 'dtype=object' when creating the ndarray.\n",
      "  return np.array(samples)\n"
     ]
    },
    {
     "data": {
      "application/vnd.jupyter.widget-view+json": {
       "model_id": "6d49773581bc4d23b3b5bc09544be22d",
       "version_major": 2,
       "version_minor": 0
      },
      "text/plain": [
       "  0%|          | 0/69 [00:00<?, ?it/s]"
      ]
     },
     "metadata": {},
     "output_type": "display_data"
    },
    {
     "data": {
      "application/vnd.jupyter.widget-view+json": {
       "model_id": "4ac87535304d4ed68a35c1e7e09e246f",
       "version_major": 2,
       "version_minor": 0
      },
      "text/plain": [
       "  0%|          | 0/69 [00:00<?, ?it/s]"
      ]
     },
     "metadata": {},
     "output_type": "display_data"
    },
    {
     "data": {
      "application/vnd.jupyter.widget-view+json": {
       "model_id": "a4ba48e84ef54a36b93cb4e14c97758d",
       "version_major": 2,
       "version_minor": 0
      },
      "text/plain": [
       "Epochs:   0%|          | 0/10 [00:00<?, ?it/s]"
      ]
     },
     "metadata": {},
     "output_type": "display_data"
    },
    {
     "name": "stdout",
     "output_type": "stream",
     "text": [
      "Epoch 1\n",
      "Training Loss: 0.6488295007944107, Training Accuracy: 0.6215, Train Precision: 0.610104213864975, Train Recall: 0.67325, Train F1: 0.6401236035179463\n",
      "Validation Loss: 0.607926984443221, Validation Accuracy: 0.6600290697674419, Validation Precision: 0.6292820272172689, Validation Recall: 0.7794245858761988, Validation F1: 0.6963520706218357\n",
      "New best validation loss, checkpoint saved\n",
      "Epoch 2\n",
      "Training Loss: 0.5976719534397126, Training Accuracy: 0.674875, Train Precision: 0.645214864023251, Train Recall: 0.777, Train F1: 0.7050017012589317\n",
      "Validation Loss: 0.6843179723551107, Validation Accuracy: 0.6207848837209302, Validation Precision: 0.5869928900041823, Validation Recall: 0.8157512351060738, Validation F1: 0.6827192022376262\n",
      "Epoch 3\n",
      "Training Loss: 0.5971073596477509, Training Accuracy: 0.68125, Train Precision: 0.6491155902920609, Train Recall: 0.789, Train F1: 0.7122545700744755\n",
      "Validation Loss: 0.655295576328455, Validation Accuracy: 0.626453488372093, Validation Precision: 0.5976238511544497, Validation Recall: 0.7747747747747747, Validation F1: 0.674765882055176\n",
      "Epoch 4\n",
      "Training Loss: 0.5838015203475952, Training Accuracy: 0.689, Train Precision: 0.6547277936962751, Train Recall: 0.79975, Train F1: 0.7200090029259508\n",
      "Validation Loss: 0.6716706981492597, Validation Accuracy: 0.6100290697674419, Validation Precision: 0.5831870061457419, Validation Recall: 0.7721592560302237, Validation F1: 0.6644991871951982\n",
      "Epoch 5\n",
      "Training Loss: 0.5827873359918594, Training Accuracy: 0.695, Train Precision: 0.6597051597051597, Train Recall: 0.8055, Train F1: 0.725348941918055\n",
      "Validation Loss: 0.6655760482300159, Validation Accuracy: 0.59375, Validation Precision: 0.5704010462074979, Validation Recall: 0.7605347282766638, Validation F1: 0.6518869099514262\n",
      "Epoch 6\n",
      "Training Loss: 0.5754298360347748, Training Accuracy: 0.701375, Train Precision: 0.662891809908999, Train Recall: 0.8195, Train F1: 0.7329234209055338\n",
      "Validation Loss: 0.6735569418862809, Validation Accuracy: 0.6267441860465116, Validation Precision: 0.6013466449965172, Validation Recall: 0.7526881720430108, Validation F1: 0.6685596282911719\n",
      "Epoch 7\n",
      "Training Loss: 0.5599990417957306, Training Accuracy: 0.718, Train Precision: 0.6818181818181818, Train Recall: 0.8175, Train F1: 0.7435197817189632\n",
      "Validation Loss: 0.6497536836668503, Validation Accuracy: 0.6431686046511628, Validation Precision: 0.6138568129330254, Validation Recall: 0.7724498692240628, Validation F1: 0.684081842748681\n",
      "Epoch 8\n",
      "Training Loss: 0.5503216782808303, Training Accuracy: 0.729625, Train Precision: 0.6981661272923408, Train Recall: 0.809, Train F1: 0.7495078170237406\n",
      "Validation Loss: 0.6192535041376602, Validation Accuracy: 0.673110465116279, Validation Precision: 0.6467980295566502, Validation Recall: 0.7631502470212148, Validation F1: 0.7001733102253033\n",
      "Epoch 9\n",
      "Training Loss: 0.5387565512657165, Training Accuracy: 0.739875, Train Precision: 0.7067442361560009, Train Recall: 0.82, Train F1: 0.7591713921999769\n",
      "Validation Loss: 0.6365762666214344, Validation Accuracy: 0.65625, Validation Precision: 0.615500214684414, Validation Recall: 0.8331880267364138, Validation F1: 0.7079886405729102\n",
      "Epoch 10\n",
      "Training Loss: 0.5302036551237106, Training Accuracy: 0.742, Train Precision: 0.7127472527472527, Train Recall: 0.81075, Train F1: 0.75859649122807\n",
      "Validation Loss: 0.6166051784227061, Validation Accuracy: 0.6790697674418604, Validation Precision: 0.6444132115249473, Validation Recall: 0.7994768962510898, Validation F1: 0.7136186770428016\n",
      "Epoch 00010: reducing learning rate of group 0 to 1.0000e-04.\n",
      "Accuracy: 0.6606003480278422\n",
      "Loss: 0.6090750185353574\n",
      "Confusion Matrix: [[3718 3176]\n",
      " [1505 5393]]\n",
      "Precision: 0.6293616524681993\n",
      "Recall: 0.781820817628298\n",
      "F1: 0.6973556604383525\n"
     ]
    },
    {
     "data": {
      "application/vnd.jupyter.widget-view+json": {
       "model_id": "1be983857ce6409c9e9c04b928d70c62",
       "version_major": 2,
       "version_minor": 0
      },
      "text/plain": [
       "  0%|          | 0/40 [00:00<?, ?it/s]"
      ]
     },
     "metadata": {},
     "output_type": "display_data"
    },
    {
     "name": "stderr",
     "output_type": "stream",
     "text": [
      "C:\\Users\\Carrt\\AppData\\Local\\Temp\\ipykernel_3504\\2058692334.py:43: VisibleDeprecationWarning: Creating an ndarray from ragged nested sequences (which is a list-or-tuple of lists-or-tuples-or ndarrays with different lengths or shapes) is deprecated. If you meant to do this, you must specify 'dtype=object' when creating the ndarray.\n",
      "  return np.array(samples)\n"
     ]
    },
    {
     "data": {
      "application/vnd.jupyter.widget-view+json": {
       "model_id": "2b42b87213a24f60876c57925314d301",
       "version_major": 2,
       "version_minor": 0
      },
      "text/plain": [
       "  0%|          | 0/69 [00:00<?, ?it/s]"
      ]
     },
     "metadata": {},
     "output_type": "display_data"
    },
    {
     "data": {
      "application/vnd.jupyter.widget-view+json": {
       "model_id": "eb163f7385554109b753e80d268a4bf5",
       "version_major": 2,
       "version_minor": 0
      },
      "text/plain": [
       "  0%|          | 0/69 [00:00<?, ?it/s]"
      ]
     },
     "metadata": {},
     "output_type": "display_data"
    },
    {
     "data": {
      "application/vnd.jupyter.widget-view+json": {
       "model_id": "87d28df069f54c1c95f7f8ca8598e15b",
       "version_major": 2,
       "version_minor": 0
      },
      "text/plain": [
       "Epochs:   0%|          | 0/10 [00:00<?, ?it/s]"
      ]
     },
     "metadata": {},
     "output_type": "display_data"
    },
    {
     "name": "stdout",
     "output_type": "stream",
     "text": [
      "Epoch 1\n",
      "Training Loss: 0.6380233761469523, Training Accuracy: 0.6298333333333334, Train Precision: 0.6158881285331747, Train Recall: 0.69, Train F1: 0.6508410627259864\n",
      "Validation Loss: 0.6254719002143517, Validation Accuracy: 0.631578947368421, Validation Precision: 0.6033145811160103, Validation Recall: 0.7679504548093672, Validation F1: 0.6757493188010899\n",
      "New best validation loss, checkpoint saved\n",
      "Epoch 2\n",
      "Training Loss: 0.6050244708855946, Training Accuracy: 0.6683333333333333, Train Precision: 0.6391951488423374, Train Recall: 0.773, Train F1: 0.6997585998793\n",
      "Validation Loss: 0.6459165054024557, Validation Accuracy: 0.6182275541795665, Validation Precision: 0.586046511627907, Validation Recall: 0.8047222759821947, Validation F1: 0.678192790735606\n",
      "Epoch 3\n",
      "Training Loss: 0.5872477964560191, Training Accuracy: 0.68225, Train Precision: 0.6473918317832592, Train Recall: 0.8005, Train F1: 0.7158506595126313\n",
      "Validation Loss: 0.7120176083163211, Validation Accuracy: 0.601296439628483, Validation Precision: 0.5833598979917118, Validation Recall: 0.7083413973292045, Validation F1: 0.6398042129184512\n",
      "Epoch 4\n",
      "Training Loss: 0.5775624174276988, Training Accuracy: 0.6978333333333333, Train Precision: 0.66417704011065, Train Recall: 0.8003333333333333, Train F1: 0.7259259259259259\n",
      "Validation Loss: 0.6571462425654149, Validation Accuracy: 0.6214202786377709, Validation Precision: 0.5977244389027432, Validation Recall: 0.7422101799883879, Validation F1: 0.6621773288439955\n",
      "Epoch 5\n",
      "Training Loss: 0.5701379845937093, Training Accuracy: 0.7055833333333333, Train Precision: 0.6683039978168918, Train Recall: 0.8163333333333334, Train F1: 0.7349388551279166\n",
      "Validation Loss: 0.6700573439937627, Validation Accuracy: 0.6105843653250774, Validation Precision: 0.5842182890855457, Validation Recall: 0.7665957035029998, Validation F1: 0.6630953377416925\n",
      "Epoch 6\n",
      "Training Loss: 0.5635761152903239, Training Accuracy: 0.7103333333333334, Train Precision: 0.6757660167130919, Train Recall: 0.8086666666666666, Train F1: 0.7362670713201821\n",
      "Validation Loss: 0.7080292527336085, Validation Accuracy: 0.6302244582043344, Validation Precision: 0.6097959183673469, Validation Recall: 0.722856589897426, Validation F1: 0.6615302869287991\n",
      "Epoch 7\n",
      "Training Loss: 0.5584491529464721, Training Accuracy: 0.7233333333333334, Train Precision: 0.6880965749578888, Train Recall: 0.817, Train F1: 0.7470283450167632\n",
      "Validation Loss: 0.6624015640732673, Validation Accuracy: 0.6281927244582043, Validation Precision: 0.6053804520853231, Validation Recall: 0.7360170311592801, Validation F1: 0.6643374967246047\n",
      "Epoch 8\n",
      "Training Loss: 0.5440318775177002, Training Accuracy: 0.7310833333333333, Train Precision: 0.6970859985785359, Train Recall: 0.8173333333333334, Train F1: 0.7524357499041043\n",
      "Validation Loss: 0.6337677205310148, Validation Accuracy: 0.6599264705882353, Validation Precision: 0.6222616933096506, Validation Recall: 0.8136249274240371, Validation F1: 0.7051916463977187\n",
      "Epoch 9\n",
      "Training Loss: 0.5349159832000733, Training Accuracy: 0.7396666666666667, Train Precision: 0.7031647358010737, Train Recall: 0.8295, Train F1: 0.761125554366111\n",
      "Validation Loss: 0.6317353081592465, Validation Accuracy: 0.6678599071207431, Validation Precision: 0.6302584134615384, Validation Recall: 0.8118831043158506, Validation F1: 0.7096337646959316\n",
      "Epoch 10\n",
      "Training Loss: 0.5258757210572561, Training Accuracy: 0.74275, Train Precision: 0.7070362473347548, Train Recall: 0.829, Train F1: 0.7631760644418872\n",
      "Validation Loss: 0.6493681531757024, Validation Accuracy: 0.6776315789473685, Validation Precision: 0.6537108393365723, Validation Recall: 0.7551770853493323, Validation F1: 0.7007902298850575\n",
      "Epoch 00010: reducing learning rate of group 0 to 1.0000e-04.\n",
      "Accuracy: 0.6428986068111455\n",
      "Loss: 0.620640715855194\n",
      "Confusion Matrix: [[5182 5151]\n",
      " [2231 8108]]\n",
      "Precision: 0.6115091635869975\n",
      "Recall: 0.7842151078440855\n",
      "F1: 0.687176879396559\n"
     ]
    },
    {
     "data": {
      "application/vnd.jupyter.widget-view+json": {
       "model_id": "be9ad406105549778af757368765982f",
       "version_major": 2,
       "version_minor": 0
      },
      "text/plain": [
       "  0%|          | 0/40 [00:00<?, ?it/s]"
      ]
     },
     "metadata": {},
     "output_type": "display_data"
    },
    {
     "name": "stderr",
     "output_type": "stream",
     "text": [
      "C:\\Users\\Carrt\\AppData\\Local\\Temp\\ipykernel_3504\\2058692334.py:43: VisibleDeprecationWarning: Creating an ndarray from ragged nested sequences (which is a list-or-tuple of lists-or-tuples-or ndarrays with different lengths or shapes) is deprecated. If you meant to do this, you must specify 'dtype=object' when creating the ndarray.\n",
      "  return np.array(samples)\n"
     ]
    },
    {
     "data": {
      "application/vnd.jupyter.widget-view+json": {
       "model_id": "74a36e620b5c404daf43594881417f24",
       "version_major": 2,
       "version_minor": 0
      },
      "text/plain": [
       "  0%|          | 0/69 [00:00<?, ?it/s]"
      ]
     },
     "metadata": {},
     "output_type": "display_data"
    },
    {
     "data": {
      "application/vnd.jupyter.widget-view+json": {
       "model_id": "6916f6866c324b5ab5521b6e8fa25076",
       "version_major": 2,
       "version_minor": 0
      },
      "text/plain": [
       "  0%|          | 0/69 [00:00<?, ?it/s]"
      ]
     },
     "metadata": {},
     "output_type": "display_data"
    },
    {
     "data": {
      "application/vnd.jupyter.widget-view+json": {
       "model_id": "e9c454bebaa2426e95d9d6fa9647af49",
       "version_major": 2,
       "version_minor": 0
      },
      "text/plain": [
       "Epochs:   0%|          | 0/10 [00:00<?, ?it/s]"
      ]
     },
     "metadata": {},
     "output_type": "display_data"
    },
    {
     "name": "stdout",
     "output_type": "stream",
     "text": [
      "Epoch 1\n",
      "Training Loss: 0.630722692668438, Training Accuracy: 0.6356875, Train Precision: 0.6162081147628734, Train Recall: 0.7195, Train F1: 0.6638602156738367\n",
      "Validation Loss: 0.6401106599035506, Validation Accuracy: 0.6296403712296984, Validation Precision: 0.5970715835140998, Validation Recall: 0.7980574079443317, Validation F1: 0.6830872316664599\n",
      "New best validation loss, checkpoint saved\n",
      "Epoch 2\n",
      "Training Loss: 0.5949784687757492, Training Accuracy: 0.6848125, Train Precision: 0.6508519538822569, Train Recall: 0.797375, Train F1: 0.7167013089152294\n",
      "Validation Loss: 0.6751248824762358, Validation Accuracy: 0.6036832946635731, Validation Precision: 0.5810504867557166, Validation Recall: 0.7441287329660772, Validation F1: 0.6525553012967201\n",
      "Epoch 3\n",
      "Training Loss: 0.5761454802155495, Training Accuracy: 0.706375, Train Precision: 0.6711235489220564, Train Recall: 0.809375, Train F1: 0.7337941976427923\n",
      "Validation Loss: 0.6651173197338034, Validation Accuracy: 0.6255075406032483, Validation Precision: 0.6002081646813924, Validation Recall: 0.7523919976804871, Validation F1: 0.6677388227725957\n",
      "Epoch 4\n",
      "Training Loss: 0.5665400556325912, Training Accuracy: 0.7095625, Train Precision: 0.674726420010422, Train Recall: 0.80925, Train F1: 0.7358908780903665\n",
      "Validation Loss: 0.6899508160394195, Validation Accuracy: 0.6342807424593968, Validation Precision: 0.6126093294460642, Validation Recall: 0.7310814728906929, Validation F1: 0.6666226040978189\n",
      "Epoch 5\n",
      "Training Loss: 0.5512818485498429, Training Accuracy: 0.726875, Train Precision: 0.6926342602419868, Train Recall: 0.81575, Train F1: 0.7491677189760073\n",
      "Validation Loss: 0.6354111554036285, Validation Accuracy: 0.669953596287703, Validation Precision: 0.6350760018424689, Validation Recall: 0.7995071035082633, Validation F1: 0.70786805288153\n",
      "New best validation loss, checkpoint saved\n",
      "Epoch 6\n",
      "Training Loss: 0.5310263283252716, Training Accuracy: 0.7399375, Train Precision: 0.7047903552757921, Train Recall: 0.82575, Train F1: 0.7604904161630116\n",
      "Validation Loss: 0.6280578861656986, Validation Accuracy: 0.6729988399071926, Validation Precision: 0.6411013944693926, Validation Recall: 0.7864598434328791, Validation F1: 0.7063802083333335\n",
      "New best validation loss, checkpoint saved\n",
      "Epoch 7\n",
      "Training Loss: 0.5291503883004188, Training Accuracy: 0.7425625, Train Precision: 0.7055396674081136, Train Recall: 0.832625, Train F1: 0.7638323490625537\n",
      "Validation Loss: 0.6177731414267192, Validation Accuracy: 0.6722012761020881, Validation Precision: 0.6306187493131113, Validation Recall: 0.8318353145839373, Validation F1: 0.7173845095955492\n",
      "New best validation loss, checkpoint saved\n",
      "Epoch 8\n",
      "Training Loss: 0.5180512558221817, Training Accuracy: 0.7520625, Train Precision: 0.7173186765815281, Train Recall: 0.832, Train F1: 0.7704149545691301\n",
      "Validation Loss: 0.6329813895535303, Validation Accuracy: 0.679741879350348, Validation Precision: 0.6457525555163905, Validation Recall: 0.7967526819367933, Validation F1: 0.7133493412940488\n",
      "Epoch 9\n",
      "Training Loss: 0.5171505111455917, Training Accuracy: 0.75025, Train Precision: 0.7129334184216124, Train Recall: 0.837875, Train F1: 0.7703712216986554\n",
      "Validation Loss: 0.6320047544492646, Validation Accuracy: 0.662050464037123, Validation Precision: 0.6240159662933806, Validation Recall: 0.8158886633806901, Validation F1: 0.707168436263115\n",
      "Epoch 10\n",
      "Training Loss: 0.5130794023871422, Training Accuracy: 0.7526875, Train Precision: 0.715167642362959, Train Recall: 0.839875, Train F1: 0.7725208393216442\n",
      "Validation Loss: 0.6022066774058508, Validation Accuracy: 0.6864849187935035, Validation Precision: 0.6454237288135594, Validation Recall: 0.8280661061177153, Validation F1: 0.7254254508509018\n",
      "New best validation loss, checkpoint saved\n",
      "Accuracy: 0.6891676334106729\n",
      "Loss: 0.5981590215747705\n",
      "Confusion Matrix: [[ 7564  6228]\n",
      " [ 2346 11446]]\n",
      "Precision: 0.6476179698992871\n",
      "Recall: 0.8299013921113689\n",
      "F1: 0.7275154134621495\n"
     ]
    },
    {
     "data": {
      "application/vnd.jupyter.widget-view+json": {
       "model_id": "e7b94f3d4a1a4522832aaa35c76d1772",
       "version_major": 2,
       "version_minor": 0
      },
      "text/plain": [
       "  0%|          | 0/40 [00:00<?, ?it/s]"
      ]
     },
     "metadata": {},
     "output_type": "display_data"
    },
    {
     "name": "stderr",
     "output_type": "stream",
     "text": [
      "C:\\Users\\Carrt\\AppData\\Local\\Temp\\ipykernel_3504\\2058692334.py:43: VisibleDeprecationWarning: Creating an ndarray from ragged nested sequences (which is a list-or-tuple of lists-or-tuples-or ndarrays with different lengths or shapes) is deprecated. If you meant to do this, you must specify 'dtype=object' when creating the ndarray.\n",
      "  return np.array(samples)\n"
     ]
    },
    {
     "data": {
      "application/vnd.jupyter.widget-view+json": {
       "model_id": "872bc2bfb86843c3b46680883aa122cc",
       "version_major": 2,
       "version_minor": 0
      },
      "text/plain": [
       "  0%|          | 0/69 [00:00<?, ?it/s]"
      ]
     },
     "metadata": {},
     "output_type": "display_data"
    },
    {
     "data": {
      "application/vnd.jupyter.widget-view+json": {
       "model_id": "29bc7562f589448a8b4be5e85f8fe664",
       "version_major": 2,
       "version_minor": 0
      },
      "text/plain": [
       "  0%|          | 0/69 [00:00<?, ?it/s]"
      ]
     },
     "metadata": {},
     "output_type": "display_data"
    },
    {
     "data": {
      "application/vnd.jupyter.widget-view+json": {
       "model_id": "78774e64a1764753bb98b9add726facc",
       "version_major": 2,
       "version_minor": 0
      },
      "text/plain": [
       "Epochs:   0%|          | 0/10 [00:00<?, ?it/s]"
      ]
     },
     "metadata": {},
     "output_type": "display_data"
    },
    {
     "name": "stdout",
     "output_type": "stream",
     "text": [
      "Epoch 1\n",
      "Training Loss: 0.6283725561141967, Training Accuracy: 0.64075, Train Precision: 0.6198586391893043, Train Recall: 0.7279, Train F1: 0.6695488203099847\n",
      "Validation Loss: 0.6678456520879423, Validation Accuracy: 0.6128826530612245, Validation Precision: 0.5908200391827596, Validation Recall: 0.7343460111317254, Validation F1: 0.654810525771597\n",
      "New best validation loss, checkpoint saved\n",
      "Epoch 2\n",
      "Training Loss: 0.5877888957500458, Training Accuracy: 0.6881, Train Precision: 0.6550189550024724, Train Recall: 0.7948, Train F1: 0.7181711394235114\n",
      "Validation Loss: 0.6751258257147553, Validation Accuracy: 0.6154336734693877, Validation Precision: 0.5854726539022924, Validation Recall: 0.7907003710575139, Validation F1: 0.6727837797839278\n",
      "Epoch 3\n",
      "Training Loss: 0.5751211658000946, Training Accuracy: 0.7078, Train Precision: 0.67334000667334, Train Recall: 0.8072, Train F1: 0.7342186647262142\n",
      "Validation Loss: 0.6568502920346269, Validation Accuracy: 0.635899814471243, Validation Precision: 0.6133681563165022, Validation Recall: 0.7352736549165121, Validation F1: 0.6688113068241747\n",
      "New best validation loss, checkpoint saved\n",
      "Epoch 4\n",
      "Training Loss: 0.5563192333221435, Training Accuracy: 0.7226, Train Precision: 0.6869017632241814, Train Recall: 0.8181, Train F1: 0.746782291191237\n",
      "Validation Loss: 0.6386960930638499, Validation Accuracy: 0.6680774582560297, Validation Precision: 0.6428782651552489, Validation Recall: 0.7562615955473099, Validation F1: 0.6949757578986627\n",
      "New best validation loss, checkpoint saved\n",
      "Epoch 5\n",
      "Training Loss: 0.5343297048568726, Training Accuracy: 0.7385, Train Precision: 0.7035677705701605, Train Recall: 0.8243, Train F1: 0.759163750230245\n",
      "Validation Loss: 0.601068075877616, Validation Accuracy: 0.6872101113172542, Validation Precision: 0.6601845421172735, Validation Recall: 0.7715677179962894, Validation F1: 0.7115436026305939\n",
      "New best validation loss, checkpoint saved\n",
      "Epoch 6\n",
      "Training Loss: 0.5243536396026611, Training Accuracy: 0.7457, Train Precision: 0.711993097497843, Train Recall: 0.8252, Train F1: 0.7644279759147754\n",
      "Validation Loss: 0.6397397527004659, Validation Accuracy: 0.6651785714285714, Validation Precision: 0.6287160025300442, Validation Recall: 0.8068181818181818, Validation F1: 0.7067188055456807\n",
      "Epoch 7\n",
      "Training Loss: 0.5231797841072082, Training Accuracy: 0.7465, Train Precision: 0.7101449275362319, Train Recall: 0.833, Train F1: 0.766682006442706\n",
      "Validation Loss: 0.6441905395108827, Validation Accuracy: 0.6666859925788498, Validation Precision: 0.6291670410638871, Validation Recall: 0.8119202226345084, Validation F1: 0.7089556016807572\n",
      "Epoch 8\n",
      "Training Loss: 0.5159985974311828, Training Accuracy: 0.75145, Train Precision: 0.715670297624153, Train Recall: 0.8344, Train F1: 0.7704880188374348\n",
      "Validation Loss: 0.5976368651098135, Validation Accuracy: 0.6870941558441559, Validation Precision: 0.6540040087811396, Validation Recall: 0.7945269016697588, Validation F1: 0.7174493482016647\n",
      "New best validation loss, checkpoint saved\n",
      "Epoch 9\n",
      "Training Loss: 0.5072064033031464, Training Accuracy: 0.75705, Train Precision: 0.7185613468242497, Train Recall: 0.8451, Train F1: 0.7767106291071183\n",
      "Validation Loss: 0.607030500396948, Validation Accuracy: 0.6850069573283859, Validation Precision: 0.645694457127203, Validation Recall: 0.8199211502782932, Validation F1: 0.7224521072796934\n",
      "Epoch 10\n",
      "Training Loss: 0.5095533756732941, Training Accuracy: 0.754, Train Precision: 0.7174285225132683, Train Recall: 0.8381, Train F1: 0.7730836638686467\n",
      "Validation Loss: 0.5971049851079597, Validation Accuracy: 0.6918483302411874, Validation Precision: 0.6688437595673028, Validation Recall: 0.7599721706864564, Validation F1: 0.7115019269391523\n",
      "New best validation loss, checkpoint saved\n",
      "Accuracy: 0.6904278756957328\n",
      "Loss: 0.5979907956105659\n",
      "Confusion Matrix: [[10772  6474]\n",
      " [ 4205 13045]]\n",
      "Precision: 0.6683231722936626\n",
      "Recall: 0.756231884057971\n",
      "F1: 0.7095651227936577\n"
     ]
    },
    {
     "data": {
      "application/vnd.jupyter.widget-view+json": {
       "model_id": "b1b91d98c9da4fcb9ab7e1b29ebeeaff",
       "version_major": 2,
       "version_minor": 0
      },
      "text/plain": [
       "  0%|          | 0/40 [00:00<?, ?it/s]"
      ]
     },
     "metadata": {},
     "output_type": "display_data"
    },
    {
     "name": "stderr",
     "output_type": "stream",
     "text": [
      "C:\\Users\\Carrt\\AppData\\Local\\Temp\\ipykernel_3504\\2058692334.py:43: VisibleDeprecationWarning: Creating an ndarray from ragged nested sequences (which is a list-or-tuple of lists-or-tuples-or ndarrays with different lengths or shapes) is deprecated. If you meant to do this, you must specify 'dtype=object' when creating the ndarray.\n",
      "  return np.array(samples)\n"
     ]
    },
    {
     "data": {
      "application/vnd.jupyter.widget-view+json": {
       "model_id": "289e23d9d4c94d229a70c58c33e2da21",
       "version_major": 2,
       "version_minor": 0
      },
      "text/plain": [
       "  0%|          | 0/69 [00:00<?, ?it/s]"
      ]
     },
     "metadata": {},
     "output_type": "display_data"
    },
    {
     "data": {
      "application/vnd.jupyter.widget-view+json": {
       "model_id": "411b3c8794ae4b7b80754c48f8edc19d",
       "version_major": 2,
       "version_minor": 0
      },
      "text/plain": [
       "  0%|          | 0/69 [00:00<?, ?it/s]"
      ]
     },
     "metadata": {},
     "output_type": "display_data"
    },
    {
     "data": {
      "application/vnd.jupyter.widget-view+json": {
       "model_id": "c44e4f4f86ac4b59b705fd171d141c5d",
       "version_major": 2,
       "version_minor": 0
      },
      "text/plain": [
       "Epochs:   0%|          | 0/10 [00:00<?, ?it/s]"
      ]
     },
     "metadata": {},
     "output_type": "display_data"
    },
    {
     "name": "stdout",
     "output_type": "stream",
     "text": [
      "Epoch 1\n",
      "Training Loss: 0.6219793054660161, Training Accuracy: 0.65325, Train Precision: 0.6314510364546104, Train Recall: 0.7361666666666666, Train F1: 0.6797999230473258\n",
      "Validation Loss: 0.6516700791131601, Validation Accuracy: 0.6309017027863777, Validation Precision: 0.5954683419213666, Validation Recall: 0.816255442670537, Validation F1: 0.688596849236797\n",
      "New best validation loss, checkpoint saved\n",
      "Epoch 2\n",
      "Training Loss: 0.5803530725638072, Training Accuracy: 0.7019583333333334, Train Precision: 0.6702493853178785, Train Recall: 0.7950833333333334, Train F1: 0.7273489613112254\n",
      "Validation Loss: 0.6486660906404903, Validation Accuracy: 0.647687693498452, Validation Precision: 0.6290158944876564, Validation Recall: 0.7198838896952104, Validation F1: 0.6713892523575327\n",
      "New best validation loss, checkpoint saved\n",
      "Epoch 3\n",
      "Training Loss: 0.5578410534063974, Training Accuracy: 0.7203333333333334, Train Precision: 0.6872256054383232, Train Recall: 0.80875, Train F1: 0.7430518337033919\n",
      "Validation Loss: 0.6024632437771688, Validation Accuracy: 0.6868227554179567, Validation Precision: 0.6649858986411418, Validation Recall: 0.7528785679729076, Validation F1: 0.7062080232347069\n",
      "New best validation loss, checkpoint saved\n",
      "Epoch 4\n",
      "Training Loss: 0.5384305235147476, Training Accuracy: 0.737375, Train Precision: 0.7019783024888322, Train Recall: 0.825, Train F1: 0.7585335018963337\n",
      "Validation Loss: 0.6100794209784398, Validation Accuracy: 0.6864357585139319, Validation Precision: 0.6567917310979083, Validation Recall: 0.7808417997097242, Validation F1: 0.7134647688091238\n",
      "Epoch 5\n",
      "Training Loss: 0.5292720367113749, Training Accuracy: 0.742125, Train Precision: 0.7072544404023111, Train Recall: 0.82625, Train F1: 0.762135362619624\n",
      "Validation Loss: 0.6070757409551933, Validation Accuracy: 0.6848393962848297, Validation Precision: 0.6419863217365448, Validation Recall: 0.835607160135462, Validation F1: 0.7261109009122629\n",
      "Epoch 6\n",
      "Training Loss: 0.5210506986776988, Training Accuracy: 0.7457916666666666, Train Precision: 0.7101232457077723, Train Recall: 0.8306666666666667, Train F1: 0.7656796097860737\n",
      "Validation Loss: 0.5983020016929314, Validation Accuracy: 0.6858068885448917, Validation Precision: 0.6475334255417243, Validation Recall: 0.8153846153846154, Validation F1: 0.7218296286778877\n",
      "New best validation loss, checkpoint saved\n",
      "Epoch 7\n",
      "Training Loss: 0.519444916288058, Training Accuracy: 0.7506666666666667, Train Precision: 0.7155654292675935, Train Recall: 0.8320833333333333, Train F1: 0.769438236880635\n",
      "Validation Loss: 0.6232690046723044, Validation Accuracy: 0.6682469040247678, Validation Precision: 0.6287491668518107, Validation Recall: 0.8214804063860668, Validation F1: 0.7123080795368739\n",
      "Epoch 8\n",
      "Training Loss: 0.5153160874446233, Training Accuracy: 0.7521666666666667, Train Precision: 0.7142149228373212, Train Recall: 0.84075, Train F1: 0.7723340733369057\n",
      "Validation Loss: 0.5842929466313252, Validation Accuracy: 0.6973200464396285, Validation Precision: 0.6670489922988694, Validation Recall: 0.7878084179970972, Validation F1: 0.7224169291513242\n",
      "New best validation loss, checkpoint saved\n",
      "Epoch 9\n",
      "Training Loss: 0.5087930154403051, Training Accuracy: 0.7590416666666666, Train Precision: 0.721418904480376, Train Recall: 0.844, Train F1: 0.7779100579899381\n",
      "Validation Loss: 0.6088263492097058, Validation Accuracy: 0.6916602167182663, Validation Precision: 0.6575200827169331, Validation Recall: 0.7999032414126753, Validation F1: 0.7217565915837262\n",
      "Epoch 10\n",
      "Training Loss: 0.5050563318729401, Training Accuracy: 0.7608333333333334, Train Precision: 0.7224907591697469, Train Recall: 0.847, Train F1: 0.7798066595059076\n",
      "Validation Loss: 0.6025807542882099, Validation Accuracy: 0.6881772445820433, Validation Precision: 0.6477695873546622, Validation Recall: 0.824770198355104, Validation F1: 0.7256320762747935\n",
      "Accuracy: 0.6950647718484145\n",
      "Loss: 0.5880317355391598\n",
      "Confusion Matrix: [[12418  8271]\n",
      " [ 4346 16341]]\n",
      "Precision: 0.6639444173573866\n",
      "Recall: 0.7899163726011504\n",
      "F1: 0.7214728801960308\n"
     ]
    },
    {
     "data": {
      "application/vnd.jupyter.widget-view+json": {
       "model_id": "c30954d17a314d26b948fc140c62ca70",
       "version_major": 2,
       "version_minor": 0
      },
      "text/plain": [
       "  0%|          | 0/40 [00:00<?, ?it/s]"
      ]
     },
     "metadata": {},
     "output_type": "display_data"
    },
    {
     "name": "stderr",
     "output_type": "stream",
     "text": [
      "C:\\Users\\Carrt\\AppData\\Local\\Temp\\ipykernel_3504\\2058692334.py:43: VisibleDeprecationWarning: Creating an ndarray from ragged nested sequences (which is a list-or-tuple of lists-or-tuples-or ndarrays with different lengths or shapes) is deprecated. If you meant to do this, you must specify 'dtype=object' when creating the ndarray.\n",
      "  return np.array(samples)\n"
     ]
    },
    {
     "data": {
      "application/vnd.jupyter.widget-view+json": {
       "model_id": "e00722705d834816afb02a05a6fe7522",
       "version_major": 2,
       "version_minor": 0
      },
      "text/plain": [
       "  0%|          | 0/69 [00:00<?, ?it/s]"
      ]
     },
     "metadata": {},
     "output_type": "display_data"
    },
    {
     "data": {
      "application/vnd.jupyter.widget-view+json": {
       "model_id": "be4b97ac819446dfb60bf1c82e09f15f",
       "version_major": 2,
       "version_minor": 0
      },
      "text/plain": [
       "  0%|          | 0/69 [00:00<?, ?it/s]"
      ]
     },
     "metadata": {},
     "output_type": "display_data"
    },
    {
     "data": {
      "application/vnd.jupyter.widget-view+json": {
       "model_id": "78ac16b70aef4760b7a927b0797739de",
       "version_major": 2,
       "version_minor": 0
      },
      "text/plain": [
       "Epochs:   0%|          | 0/10 [00:00<?, ?it/s]"
      ]
     },
     "metadata": {},
     "output_type": "display_data"
    },
    {
     "name": "stdout",
     "output_type": "stream",
     "text": [
      "Epoch 1\n",
      "Training Loss: 0.6100936388628824, Training Accuracy: 0.6653214285714286, Train Precision: 0.6390841896520641, Train Recall: 0.7596428571428572, Train F1: 0.6941679449104141\n",
      "Validation Loss: 0.6699525612734989, Validation Accuracy: 0.6319214190981433, Validation Precision: 0.6049667347342073, Validation Recall: 0.7610208816705336, Validation F1: 0.6740797827443209\n",
      "New best validation loss, checkpoint saved\n",
      "Epoch 2\n",
      "Training Loss: 0.5649178122452327, Training Accuracy: 0.7158214285714286, Train Precision: 0.6809606516140624, Train Recall: 0.8121428571428572, Train F1: 0.7407890021826237\n",
      "Validation Loss: 0.6406882695003909, Validation Accuracy: 0.6482924403183024, Validation Precision: 0.6145726714431935, Validation Recall: 0.7960722572091482, Validation F1: 0.6936462093862816\n",
      "New best validation loss, checkpoint saved\n",
      "Epoch 3\n",
      "Training Loss: 0.5395554904937744, Training Accuracy: 0.7362857142857143, Train Precision: 0.7011431351088411, Train Recall: 0.8236428571428571, Train F1: 0.7574722459436378\n",
      "Validation Loss: 0.6101336288278235, Validation Accuracy: 0.6657410477453581, Validation Precision: 0.6262855700675122, Validation Recall: 0.8225058004640371, Validation F1: 0.7111079270695275\n",
      "New best validation loss, checkpoint saved\n",
      "Epoch 4\n",
      "Training Loss: 0.526753786597933, Training Accuracy: 0.7463928571428572, Train Precision: 0.7096833019269345, Train Recall: 0.8339285714285715, Train F1: 0.766805687826344\n",
      "Validation Loss: 0.602369548352707, Validation Accuracy: 0.6848060344827587, Validation Precision: 0.6460119086566773, Validation Recall: 0.8181140205502154, Validation F1: 0.7219480092135571\n",
      "New best validation loss, checkpoint saved\n",
      "Epoch 5\n",
      "Training Loss: 0.52119834957804, Training Accuracy: 0.7477857142857143, Train Precision: 0.7122491434165443, Train Recall: 0.8315, Train F1: 0.7672686527814395\n",
      "Validation Loss: 0.5913237853454975, Validation Accuracy: 0.700058023872679, Validation Precision: 0.6741654048597592, Validation Recall: 0.774776267815711, Validation F1: 0.7209777537880249\n",
      "New best validation loss, checkpoint saved\n",
      "Epoch 6\n",
      "Training Loss: 0.5151569603170667, Training Accuracy: 0.7516071428571428, Train Precision: 0.7157733537519142, Train Recall: 0.8346428571428571, Train F1: 0.7706512778235779\n",
      "Validation Loss: 0.6043356905249133, Validation Accuracy: 0.6793352122015915, Validation Precision: 0.6440305952776854, Validation Recall: 0.8023699038780245, Validation F1: 0.7145334464819393\n",
      "Epoch 7\n",
      "Training Loss: 0.51099816601617, Training Accuracy: 0.7548571428571429, Train Precision: 0.7208194083426167, Train Recall: 0.8319285714285715, Train F1: 0.772398700179057\n",
      "Validation Loss: 0.6253401010596151, Validation Accuracy: 0.687748673740053, Validation Precision: 0.6521068169618894, Validation Recall: 0.8053529996685449, Validation F1: 0.7206732908201097\n",
      "Epoch 8\n",
      "Training Loss: 0.5068325128555298, Training Accuracy: 0.7575357142857143, Train Precision: 0.7199951186771615, Train Recall: 0.8428571428571429, Train F1: 0.7765967948928888\n",
      "Validation Loss: 0.613438544878909, Validation Accuracy: 0.7022131962864722, Validation Precision: 0.6698198511511442, Validation Recall: 0.7979781239642029, Validation F1: 0.7283040272263186\n",
      "Epoch 9\n",
      "Training Loss: 0.5055003680501665, Training Accuracy: 0.7593214285714286, Train Precision: 0.721466479594949, Train Recall: 0.8447857142857143, Train F1: 0.7782713124732669\n",
      "Validation Loss: 0.5975147518934558, Validation Accuracy: 0.7002238063660478, Validation Precision: 0.6670582544399143, Validation Recall: 0.7998839907192575, Validation F1: 0.7274577037567354\n",
      "Epoch 10\n",
      "Training Loss: 0.4992677745478494, Training Accuracy: 0.7621785714285715, Train Precision: 0.72420743998534, Train Recall: 0.8468571428571429, Train F1: 0.7807447894372921\n",
      "Validation Loss: 0.60097621551243, Validation Accuracy: 0.675895225464191, Validation Precision: 0.6339894019682059, Validation Recall: 0.8327809081869406, Validation F1: 0.7199140401146131\n",
      "Accuracy: 0.6983929754804507\n",
      "Loss: 0.588885109005107\n",
      "Confusion Matrix: [[15123  9022]\n",
      " [ 5542 18601]]\n",
      "Precision: 0.6733881185968215\n",
      "Recall: 0.770451062419749\n",
      "F1: 0.7186570335741606\n"
     ]
    },
    {
     "data": {
      "application/vnd.jupyter.widget-view+json": {
       "model_id": "b64f53d690284b86b08d166a4c726bde",
       "version_major": 2,
       "version_minor": 0
      },
      "text/plain": [
       "  0%|          | 0/40 [00:00<?, ?it/s]"
      ]
     },
     "metadata": {},
     "output_type": "display_data"
    },
    {
     "name": "stderr",
     "output_type": "stream",
     "text": [
      "C:\\Users\\Carrt\\AppData\\Local\\Temp\\ipykernel_3504\\2058692334.py:43: VisibleDeprecationWarning: Creating an ndarray from ragged nested sequences (which is a list-or-tuple of lists-or-tuples-or ndarrays with different lengths or shapes) is deprecated. If you meant to do this, you must specify 'dtype=object' when creating the ndarray.\n",
      "  return np.array(samples)\n"
     ]
    },
    {
     "data": {
      "application/vnd.jupyter.widget-view+json": {
       "model_id": "8c02302ad3844fa29f1b1f5434c4c44b",
       "version_major": 2,
       "version_minor": 0
      },
      "text/plain": [
       "  0%|          | 0/69 [00:00<?, ?it/s]"
      ]
     },
     "metadata": {},
     "output_type": "display_data"
    },
    {
     "data": {
      "application/vnd.jupyter.widget-view+json": {
       "model_id": "16a517e46c184ad097cff3bc9acb3bf8",
       "version_major": 2,
       "version_minor": 0
      },
      "text/plain": [
       "  0%|          | 0/69 [00:00<?, ?it/s]"
      ]
     },
     "metadata": {},
     "output_type": "display_data"
    },
    {
     "data": {
      "application/vnd.jupyter.widget-view+json": {
       "model_id": "78307ed0794c42eb8662fca4e3bd977a",
       "version_major": 2,
       "version_minor": 0
      },
      "text/plain": [
       "Epochs:   0%|          | 0/10 [00:00<?, ?it/s]"
      ]
     },
     "metadata": {},
     "output_type": "display_data"
    },
    {
     "name": "stdout",
     "output_type": "stream",
     "text": [
      "Epoch 1\n",
      "Training Loss: 0.6114481689929963, Training Accuracy: 0.66209375, Train Precision: 0.6370554351846959, Train Recall: 0.7534375, Train F1: 0.6903759699911233\n",
      "Validation Loss: 0.6813941687483799, Validation Accuracy: 0.6335194315545244, Validation Precision: 0.6046141607000796, Validation Recall: 0.7715176564426075, Validation F1: 0.6779445028513174\n",
      "New best validation loss, checkpoint saved\n",
      "Epoch 2\n",
      "Training Loss: 0.578256158053875, Training Accuracy: 0.70278125, Train Precision: 0.6685542106083433, Train Recall: 0.8043125, Train F1: 0.730176742602627\n",
      "Validation Loss: 0.6360831491631864, Validation Accuracy: 0.6682134570765661, Validation Precision: 0.6506071034348418, Validation Recall: 0.7265608005220796, Validation F1: 0.6864894491641546\n",
      "New best validation loss, checkpoint saved\n",
      "Epoch 3\n",
      "Training Loss: 0.5469921123087406, Training Accuracy: 0.727125, Train Precision: 0.6927238014425117, Train Recall: 0.816375, Train F1: 0.7494835896258893\n",
      "Validation Loss: 0.6207170230606592, Validation Accuracy: 0.6909802784222738, Validation Precision: 0.6531371750886783, Validation Recall: 0.814444202740918, Validation F1: 0.724925777720408\n",
      "New best validation loss, checkpoint saved\n",
      "Epoch 4\n",
      "Training Loss: 0.5345052333772182, Training Accuracy: 0.7371875, Train Precision: 0.7024647887323944, Train Recall: 0.8229375, Train F1: 0.7579438176375778\n",
      "Validation Loss: 0.5967281761896859, Validation Accuracy: 0.6893126450116009, Validation Precision: 0.6667731425285888, Validation Recall: 0.7567979116815314, Validation F1: 0.7089390028528731\n",
      "New best validation loss, checkpoint saved\n",
      "Epoch 5\n",
      "Training Loss: 0.523915886670351, Training Accuracy: 0.7461875, Train Precision: 0.7095435684647303, Train Recall: 0.833625, Train F1: 0.7665957813667452\n",
      "Validation Loss: 0.5989212228499543, Validation Accuracy: 0.6882613109048724, Validation Precision: 0.6448660714285714, Validation Recall: 0.8379377855122906, Validation F1: 0.728832266405979\n",
      "Epoch 6\n",
      "Training Loss: 0.5166202202737331, Training Accuracy: 0.7520625, Train Precision: 0.7173420995904289, Train Recall: 0.8319375, Train F1: 0.7704016668595901\n",
      "Validation Loss: 0.6061494297535956, Validation Accuracy: 0.6893126450116009, Validation Precision: 0.6541300112180434, Validation Recall: 0.8033500108766587, Validation F1: 0.7211012757094507\n",
      "Epoch 7\n",
      "Training Loss: 0.5101566467285156, Training Accuracy: 0.7563125, Train Precision: 0.720176097927628, Train Recall: 0.838375, Train F1: 0.7747935077687287\n",
      "Validation Loss: 0.5965559848015933, Validation Accuracy: 0.712768271461717, Validation Precision: 0.6914893617021277, Validation Recall: 0.7682546588354724, Validation F1: 0.7278535362209322\n",
      "New best validation loss, checkpoint saved\n",
      "Epoch 8\n",
      "Training Loss: 0.5075979962348938, Training Accuracy: 0.75753125, Train Precision: 0.7223091448610737, Train Recall: 0.83675, Train F1: 0.7753293759953669\n",
      "Validation Loss: 0.5910842214341506, Validation Accuracy: 0.6943517981438515, Validation Precision: 0.6613097387745275, Validation Recall: 0.7966789935465158, Validation F1: 0.7227100805788522\n",
      "New best validation loss, checkpoint saved\n",
      "Epoch 9\n",
      "Training Loss: 0.5069931896924973, Training Accuracy: 0.75959375, Train Precision: 0.7236069986541049, Train Recall: 0.8400625, Train F1: 0.7774981923355025\n",
      "Validation Loss: 0.6163947062951506, Validation Accuracy: 0.6723462877030162, Validation Precision: 0.6309294253760124, Validation Recall: 0.8303966354869118, Validation F1: 0.7170496524951475\n",
      "Epoch 10\n",
      "Training Loss: 0.5022840517759323, Training Accuracy: 0.761, Train Precision: 0.7245402731476502, Train Recall: 0.8421875, Train F1: 0.7789467599283196\n",
      "Validation Loss: 0.5840854708390557, Validation Accuracy: 0.6947868329466357, Validation Precision: 0.648578382564443, Validation Recall: 0.8501921543035312, Validation F1: 0.7358247827041953\n",
      "New best validation loss, checkpoint saved\n",
      "Accuracy: 0.6928260869565217\n",
      "Loss: 0.5868954420089721\n",
      "Confusion Matrix: [[14872 12728]\n",
      " [ 4228 23372]]\n",
      "Precision: 0.6474238227146815\n",
      "Recall: 0.8468115942028985\n",
      "F1: 0.7338147566718995\n"
     ]
    }
   ],
   "source": [
    "samples_to_eval = [100, 200, 300, 400]\n",
    "tls = []\n",
    "vls = []\n",
    "train_times = []\n",
    "\n",
    "for sample in samples_to_eval:\n",
    "    train_gen = data_generator_per_actor(X, sample, sample, train=True)\n",
    "    val_gen = data_generator_per_actor(X, int(float(sample)/2), int(float(sample)/2), train=False)\n",
    "    test_gen = data_generator_per_actor(X, sample, sample, train=False)\n",
    "\n",
    "    tl, vl, time_ = main()\n",
    "    tls.append(tl)\n",
    "    vls.append(vl)\n",
    "    train_times.append(time_)\n",
    "\n",
    "with open('sensitivity analysis.pkl', 'wb') as f:\n",
    "    pickle.dump([tls, vls, train_times], f)"
   ]
  },
  {
   "cell_type": "code",
   "execution_count": null,
   "metadata": {},
   "outputs": [],
   "source": [
    "import matplotlib.pyplot as plt\n",
    "\n",
    "vf1s = [0.7136186770428016, 0.7254254508509018, 0.7261109009122629, 0.7358247827041953]\n",
    "max_f1_index = vf1s.index(max(vf1s))\n",
    "\n",
    "time= [t/60 for t in train_times]\n",
    "\n",
    "max_f1_index = vf1s.index(max(vf1s))\n",
    "\n",
    "fig, ax1 = plt.subplots(figsize=(6, 2)) # Use subplots to create a figure with multiple axes\n",
    "ax1.plot(samples_to_eval, vf1s, color='red', marker='o', label='F1 Score')\n",
    "ax1.set_xlabel('Sampling Size Per Actor')\n",
    "ax1.legend(loc='upper left')\n",
    "\n",
    "ax2 = ax1.twinx() # Create a new y-axis on the right\n",
    "ax2.plot(samples_to_eval, time, color='green', marker='s', label='Time (m)')\n",
    "ax2.set_ylabel('Time (m)')\n",
    "ax2.legend(loc='lower right')\n",
    "\n",
    "ax1.set_ylabel('F1 Score')\n",
    "\n",
    "# plt.legend()\n",
    "plt.tight_layout()\n",
    "plt.show()"
   ]
  },
  {
   "cell_type": "code",
   "execution_count": null,
   "metadata": {},
   "outputs": [
    {
     "data": {
      "image/png": "[encoded data removed]",
      "text/plain": [
       "<Figure size 640x480 with 1 Axes>"
      ]
     },
     "metadata": {},
     "output_type": "display_data"
    }
   ],
   "source": [
    "import matplotlib.pyplot as plt\n",
    "plt.plot(tl, 'g', label='Training loss')\n",
    "plt.plot(vl, 'b', label='validation loss')\n",
    "plt.title('Training and Validation loss')\n",
    "plt.xlabel('Epochs')\n",
    "plt.ylabel('Loss')\n",
    "plt.legend()\n",
    "plt.show()"
   ]
  },
  {
   "attachments": {},
   "cell_type": "markdown",
   "metadata": {},
   "source": [
    "# Test Model"
   ]
  },
  {
   "cell_type": "code",
   "execution_count": 23,
   "metadata": {},
   "outputs": [],
   "source": [
    "def anonymizer_to_sgn(t, max_frames=300):\n",
    "    # (300, 150)\n",
    "    # [x:0,y:1,z:2][300][joints][actors]\n",
    "    xyz, frames, joints, actors = t.shape\n",
    "    # transpose to make loop simple\n",
    "    # [frame][actors][joints][xyz]\n",
    "    t = t.transpose(1, 3, 2, 0)\n",
    "    \n",
    "    # Reshape t into the desired 2D array\n",
    "    t_reshaped = t.reshape(t.shape[0], -1)\n",
    "    \n",
    "    # Pad 0's to 150 joints (2 actors)\n",
    "    if t_reshaped.shape[1] < xyz * joints * actors:\n",
    "        t_reshaped = np.pad(t_reshaped, ((0, 0), (0, xyz * joints * actors - t_reshaped.shape[1])), 'constant')\n",
    "    \n",
    "    # Pad 0's to max_frames\n",
    "    if t_reshaped.shape[0] < max_frames:\n",
    "        t_reshaped = np.pad(t_reshaped, ((0, max_frames - t_reshaped.shape[0]), (0, 0)), 'constant')\n",
    "        \n",
    "    return t_reshaped.astype(np.float32)"
   ]
  },
  {
   "cell_type": "code",
   "execution_count": 24,
   "metadata": {},
   "outputs": [],
   "source": [
    "# Classical MR\n",
    "# x_pkl = 'C:\\\\Users\\\\Carrt\\\\OneDrive\\\\Code\\\\Motion Privacy\\\\Defense Models\\\\Mean Skeleton\\\\X_FileNameKey_SingleActor.pkl'\n",
    "# from_moon = False\n",
    "\n",
    "# Moon ResNet\n",
    "# x_pkl = 'C:\\\\Users\\\\Carrt\\\\OneDrive\\\\Code\\\\Motion Privacy\\\\External Repositories\\\\Skeleton-anonymization\\\\X_resnet_file.pkl'\n",
    "# from_moon = True\n",
    "\n",
    "# Moon UNet\n",
    "x_pkl = 'C:\\\\Users\\\\Carrt\\\\OneDrive\\\\Code\\\\Motion Privacy\\\\External Repositories\\\\Skeleton-anonymization\\\\X_unet_file.pkl'\n",
    "from_moon = True\n",
    "\n",
    "with open(x_pkl, 'rb') as f:\n",
    "    test_x = pickle.load(f)\n",
    "\n",
    "val_files = 'data/ntu120_no_dupe_actors.pkl'\n",
    "# val_files = 'data/ntu120.pkl'\n",
    "\n",
    "with open(val_files, 'rb') as f:\n",
    "    files_ = pickle.load(f)\n",
    "\n",
    "to_del = []\n",
    "for file in test_x:\n",
    "    if file not in files_:\n",
    "        to_del.append(file)\n",
    "\n",
    "for file in to_del:\n",
    "    del test_x[file]\n",
    "\n",
    "if from_moon:\n",
    "    test_x = {k: v[0] for k, v in test_x.items()}\n",
    "\n",
    "    for file in test_x:\n",
    "        test_x[file] = anonymizer_to_sgn(test_x[file])[:, :75]"
   ]
  },
  {
   "cell_type": "code",
   "execution_count": 25,
   "metadata": {},
   "outputs": [
    {
     "data": {
      "application/vnd.jupyter.widget-view+json": {
       "model_id": "ca6a1f78d62a461da202531015c65cab",
       "version_major": 2,
       "version_minor": 0
      },
      "text/plain": [
       "  0%|          | 0/69 [00:00<?, ?it/s]"
      ]
     },
     "metadata": {},
     "output_type": "display_data"
    },
    {
     "name": "stderr",
     "output_type": "stream",
     "text": [
      "C:\\Users\\Carrt\\AppData\\Local\\Temp\\ipykernel_2880\\171628044.py:43: VisibleDeprecationWarning: Creating an ndarray from ragged nested sequences (which is a list-or-tuple of lists-or-tuples-or ndarrays with different lengths or shapes) is deprecated. If you meant to do this, you must specify 'dtype=object' when creating the ndarray.\n",
      "  return np.array(samples)\n"
     ]
    }
   ],
   "source": [
    "diff_samples_per_actor = 400\n",
    "same_samples_per_actor = 400\n",
    "test_x_gen = data_generator_per_actor(test_x, same_samples_per_actor, diff_samples_per_actor, train=False)"
   ]
  },
  {
   "cell_type": "code",
   "execution_count": 26,
   "metadata": {},
   "outputs": [
    {
     "data": {
      "application/vnd.jupyter.widget-view+json": {
       "model_id": "1dc0315a91334e3181306d6e6488950c",
       "version_major": 2,
       "version_minor": 0
      },
      "text/plain": [
       "Testing:   0%|          | 0/1725 [00:00<?, ?it/s]"
      ]
     },
     "metadata": {},
     "output_type": "display_data"
    },
    {
     "name": "stdout",
     "output_type": "stream",
     "text": [
      "Accuracy: 0.5000181159420289\n",
      "Confusion Matrix:\n",
      "[[    2 27598]\n",
      " [    1 27599]]\n",
      "Precision: 0.5000090584633223\n",
      "Recall: 0.999963768115942\n",
      "F1: 0.6666666666666667\n"
     ]
    }
   ],
   "source": [
    "model_save = 'models/best_model.pt'\n",
    "# model_save = 'models/2unfrozen_67acc.pt'\n",
    "# model_save = 'models/frozen_65.7acc.pt'\n",
    "# model_save = 'models/unfrozen_69.5acc.pt'\n",
    "\n",
    "num_classes = 1\n",
    "\n",
    "SGN_Encoder1 = SGN(num_classes, dataset, seg, batch_size, do_train).cuda()\n",
    "SGN_Encoder2 = SGN(num_classes, dataset, seg, batch_size, do_train).cuda()\n",
    "model = SGN_Linkage_Attack(SGN_Encoder1, SGN_Encoder2, num_classes).cuda()\n",
    "\n",
    "model.load_state_dict(torch.load(model_save))\n",
    "\n",
    "dataset = SGN_Linkage_Dataset(test_x_gen)\n",
    "dl = DataLoader(dataset, batch_size=batch_size, shuffle=False, drop_last=True)\n",
    "\n",
    "accuracy, cm, precision, recall, f1 = test(model, dl)\n",
    "print(f'Accuracy: {accuracy}')\n",
    "print(f'Confusion Matrix:\\n{cm}')\n",
    "print(f'Precision: {precision}')\n",
    "print(f'Recall: {recall}')\n",
    "print(f'F1: {f1}')\n",
    "\n",
    "# Optional: Test on raw data\n",
    "test_raw = False\n",
    "if test_raw:\n",
    "    raw_dataset = SGN_Linkage_Dataset(test_gen)\n",
    "    dl2 = DataLoader(raw_dataset, batch_size=batch_size, shuffle=False, drop_last=True)\n",
    "\n",
    "    accuracy, cm, precision, recall, f1 = test(model, dl2)\n",
    "    print(f'Accuracy: {accuracy}')\n",
    "    print(f'Confusion Matrix:\\n{cm}')\n",
    "    print(f'Precision: {precision}')\n",
    "    print(f'Recall: {recall}')\n",
    "    print(f'F1: {f1}')"
   ]
  }
 ],
 "metadata": {
  "kernelspec": {
   "display_name": "Python 3",
   "language": "python",
   "name": "python3"
  },
  "language_info": {
   "codemirror_mode": {
    "name": "ipython",
    "version": 3
   },
   "file_extension": ".py",
   "mimetype": "text/x-python",
   "name": "python",
   "nbconvert_exporter": "python",
   "pygments_lexer": "ipython3",
   "version": "3.9.13"
  },
  "orig_nbformat": 4,
  "vscode": {
   "interpreter": {
    "hash": "063dd9079dbbbc7ce9a24508feb60cfa7f5aa9bc9e0c912b3996301118c4566f"
   }
  }
 },
 "nbformat": 4,
 "nbformat_minor": 2
}
