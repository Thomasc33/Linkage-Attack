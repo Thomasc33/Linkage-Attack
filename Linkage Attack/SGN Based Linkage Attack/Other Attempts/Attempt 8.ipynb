{
 "cells": [
  {
   "attachments": {},
   "cell_type": "markdown",
   "metadata": {},
   "source": [
    "This attempt is changing the dataloader to embed the x_a x_b into x. But split the input in the foward call of the model and pass it to SGN"
   ]
  },
  {
   "attachments": {},
   "cell_type": "markdown",
   "metadata": {},
   "source": [
    "## Imports / Globals"
   ]
  },
  {
   "cell_type": "code",
   "execution_count": 1,
   "metadata": {},
   "outputs": [],
   "source": [
    "import pickle\n",
    "import pandas as pd\n",
    "from os import listdir\n",
    "from os.path import isfile, join\n",
    "from tqdm.notebook import tqdm\n",
    "import numpy as np\n",
    "from sklearn.model_selection import train_test_split\n",
    "import random\n",
    "import itertools\n",
    "\n",
    "np.random.seed(42)\n",
    "random.seed(42)"
   ]
  },
  {
   "cell_type": "code",
   "execution_count": 2,
   "metadata": {},
   "outputs": [],
   "source": [
    "# path = '/Users/thomas/Downloads/nturgb+d_skeletons'\n",
    "path = 'D:\\\\Datasets\\\\Motion Privacy\\\\NTU RGB+D 120\\\\Skeleton Data'\n",
    "X_path = 'data/X.pkl'"
   ]
  },
  {
   "cell_type": "markdown",
   "metadata": {},
   "source": [
    "## Data organization"
   ]
  },
  {
   "cell_type": "code",
   "execution_count": 3,
   "metadata": {},
   "outputs": [],
   "source": [
    "def load_files():\n",
    "    # Read the files\n",
    "    files = [f for f in listdir(path) if isfile(join(path, f))]\n",
    "\n",
    "    # Get stats for each file based on name\n",
    "    files_ = []\n",
    "    for file in files:\n",
    "        data = {'file': file,\n",
    "                's': file[0:4],\n",
    "                'c': file[4:8],\n",
    "                'p': file[8:12],\n",
    "                'r': file[12:16],\n",
    "                'a': file[16:20]\n",
    "                }\n",
    "        files_.append(data)\n",
    "\n",
    "    return files_\n",
    "files_ = None"
   ]
  },
  {
   "cell_type": "code",
   "execution_count": 4,
   "metadata": {},
   "outputs": [
    {
     "name": "stdout",
     "output_type": "stream",
     "text": [
      "Attempting to load X from pickle\n",
      "X loaded from pickle\n"
     ]
    }
   ],
   "source": [
    "# Attempt to load X and Y from pickle before generating them\n",
    "X = {}\n",
    "try:\n",
    "    print('Attempting to load X from pickle')\n",
    "    with open(X_path, 'rb') as f:\n",
    "        X = pickle.load(f)\n",
    "    print('X loaded from pickle')\n",
    "except:\n",
    "    print('Could not load X and Y, generating them now')\n",
    "    \n",
    "    # Read the files\n",
    "    files = [f for f in listdir(path) if isfile(join(path, f))]\n",
    "\n",
    "    # Get stats for each file based on name\n",
    "    files_ = []\n",
    "    for file in files:\n",
    "        data = {'file': file,\n",
    "                's': file[0:4],\n",
    "                'c': file[4:8],\n",
    "                'p': file[8:12],\n",
    "                'r': file[12:16],\n",
    "                'a': file[16:20]\n",
    "                }\n",
    "        files_.append(data)\n",
    "\n",
    "    # Generate X and Y\n",
    "    for file_ in tqdm(files_, desc='Files Parsed', position=0):\n",
    "        try:\n",
    "            file = join(path, file_['file'])\n",
    "            data = open(file, 'r')\n",
    "            lines = data.readlines()\n",
    "            frames_count = int(lines.pop(0).replace('\\n', ''))\n",
    "            file_['frames'] = frames_count\n",
    "        except UnicodeDecodeError: # .DS_Store file\n",
    "            print('UnicodeDecodeError: ', file)\n",
    "            continue\n",
    "\n",
    "        # Add filename as key to X\n",
    "        X[file_['file']] = []\n",
    "\n",
    "        # Skip file if 2 actors\n",
    "        if lines[0].replace('\\n', '') != '1': continue\n",
    "\n",
    "        for f in tqdm(range(frames_count), desc='Frames Parsed', position=1, leave=False):\n",
    "            try:\n",
    "                # Get actor count\n",
    "                actors = int(lines.pop(0).replace('\\n', ''))\n",
    "            \n",
    "                # Get actor info\n",
    "                t = lines.pop(0)\n",
    "\n",
    "                # Get joint count\n",
    "                joint_count = int(lines.pop(0).replace('\\n', ''))\n",
    "\n",
    "                # Get joint info\n",
    "                d = []\n",
    "                for j in range(joint_count):\n",
    "                    joint = lines.pop(0).replace('\\n', '').split(' ')\n",
    "                    d.extend(joint[0:3])\n",
    "\n",
    "                # Skip if not 25 joints\n",
    "                if len(d) != 75: continue\n",
    "\n",
    "                # Convert to numpy array\n",
    "                d = np.array(d)\n",
    "\n",
    "                # Append to X and Y\n",
    "                X[file_['file']].append(d)\n",
    "            except:\n",
    "                break\n",
    "        \n",
    "        # Convert to numpy array\n",
    "        X[file_['file']] = np.array(X[file_['file']], dtype=np.float16)\n",
    "\n",
    "        # Pad X size to 300 frames (300 is max frames in dataset)\n",
    "        X[file_['file']] = np.pad(X[file_['file']], ((0, 300-X[file_['file']].shape[0]), (0, 0)), 'constant')\n",
    "\n",
    "\n",
    "    print('X Generated, saving to pickle...')\n",
    "\n",
    "    # Save the data\n",
    "    with open(X_path, 'wb') as f:\n",
    "        pickle.dump(X, f)\n",
    "\n",
    "    print('X Saved to pickle')\n"
   ]
  },
  {
   "attachments": {},
   "cell_type": "markdown",
   "metadata": {},
   "source": [
    "## Data Generators"
   ]
  },
  {
   "cell_type": "code",
   "execution_count": 5,
   "metadata": {},
   "outputs": [],
   "source": [
    "same_samples_per_actor = 1000\n",
    "diff_samples_per_actor = 1000\n",
    "train_samples = 0\n",
    "test_samples = 0\n",
    "\n",
    "per_actor = False\n",
    "\n",
    "def data_generator_per_actor(X, same_samples_per_actor=1000, diff_samples_per_actor=1000, train=True, val_split=0.25):\n",
    "    actor_data = {}\n",
    "    for file in X:\n",
    "        actor = int(file[9:12])\n",
    "        action = int(file[17:20])\n",
    "\n",
    "        split_threshold = int((1 - val_split) * 60) if train else int(val_split * 60)\n",
    "\n",
    "        is_train_or_val = action <= split_threshold\n",
    "        if train != is_train_or_val:\n",
    "            continue\n",
    "\n",
    "        if actor not in actor_data:\n",
    "            actor_data[actor] = []\n",
    "        if len(X[file]) == 0:\n",
    "            continue\n",
    "        actor_data[actor].append(X[file])\n",
    "\n",
    "    actor_keys = list(actor_data.keys())\n",
    "\n",
    "    while True:\n",
    "        for actor in actor_keys:\n",
    "            samples = []\n",
    "\n",
    "            for _ in range(same_samples_per_actor):\n",
    "                same_video1 = random.choice(actor_data[actor])\n",
    "                same_video2 = random.choice(actor_data[actor])\n",
    "                samples.append((np.array([same_video1, same_video2]).astype(np.float32), 1))\n",
    "\n",
    "            while True:\n",
    "                diff_actor = random.choice(actor_keys)\n",
    "                if diff_actor != actor:\n",
    "                    break\n",
    "\n",
    "            for _ in range(diff_samples_per_actor):\n",
    "                same_video1 = random.choice(actor_data[actor])\n",
    "                diff_video = random.choice(actor_data[diff_actor])\n",
    "                samples.append((np.array([same_video1, diff_video]).astype(np.float32), 0))\n",
    "\n",
    "            random.shuffle(samples)\n",
    "\n",
    "            for sample in samples:\n",
    "                yield sample\n",
    "\n",
    "def data_generator(X, same_samples=10000, diff_samples=10000, train=True, val_split=0.25):\n",
    "    actor_data = {}\n",
    "    for file in X:\n",
    "        actor = int(file[9:12])\n",
    "        action = int(file[17:20])\n",
    "\n",
    "        split_threshold = int((1 - val_split) * 60) if train else int(val_split * 60)\n",
    "\n",
    "        is_train_or_val = action <= split_threshold\n",
    "        if train != is_train_or_val:\n",
    "            continue\n",
    "\n",
    "        if actor not in actor_data:\n",
    "            actor_data[actor] = []\n",
    "        if len(X[file]) == 0:\n",
    "            continue\n",
    "        actor_data[actor].append(X[file])\n",
    "\n",
    "    samples = []\n",
    "    \n",
    "    for _ in range(same_samples):\n",
    "        actor = random.choice(list(actor_data.keys()))\n",
    "        video1 = random.choice(actor_data[actor])\n",
    "        video2 = random.choice(actor_data[actor])\n",
    "        samples.append((np.array([video1, video2]).astype(np.float32), 1))\n",
    "\n",
    "    for _ in range(diff_samples):\n",
    "        actor1 = random.choice(list(actor_data.keys()))\n",
    "        actor2 = random.choice(list(actor_data.keys()))\n",
    "        while actor1 == actor2:\n",
    "            actor2 = random.choice(list(actor_data.keys()))\n",
    "        video1 = random.choice(actor_data[actor1])\n",
    "        video2 = random.choice(actor_data[actor2])\n",
    "        samples.append((np.array([video1, video2]).astype(np.float32), 0))\n",
    "    \n",
    "    random.shuffle(samples)\n",
    "\n",
    "    while True:\n",
    "        for sample in samples:\n",
    "            yield sample\n",
    "\n",
    "\n",
    "if per_actor:\n",
    "    train_gen = data_generator_per_actor(X, same_samples_per_actor, diff_samples_per_actor, train=True, val_split=0.25)\n",
    "    val_gen = data_generator_per_actor(X, same_samples_per_actor, diff_samples_per_actor, train=False, val_split=0.5)\n",
    "    test_gen = data_generator_per_actor(X, same_samples_per_actor, diff_samples_per_actor, train=False, val_split=0)\n",
    "else:\n",
    "    train_gen = data_generator(X, same_samples_per_actor, diff_samples_per_actor, train=True, val_split=0.25)\n",
    "    val_gen = data_generator(X, same_samples_per_actor, diff_samples_per_actor, train=False, val_split=0.5)\n",
    "    test_gen = data_generator(X, same_samples_per_actor, diff_samples_per_actor, train=False, val_split=0)"
   ]
  },
  {
   "attachments": {},
   "cell_type": "markdown",
   "metadata": {},
   "source": [
    "## SGN\n",
    "\n",
    "All code in this section is adapted from Microsoft's SGN. [Github](https://github.com/microsoft/SGN)"
   ]
  },
  {
   "cell_type": "code",
   "execution_count": 6,
   "metadata": {},
   "outputs": [],
   "source": [
    "# Hyperparameters/Tuning Parameters\n",
    "dataset='NTU'\n",
    "batch_size=32\n",
    "max_epochs=20\n",
    "lr=.0001\n",
    "weight_decay=0.1\n",
    "do_train=1\n",
    "seg=20\n",
    "# load_model='best_model'\n",
    "load_model=False"
   ]
  },
  {
   "cell_type": "code",
   "execution_count": 7,
   "metadata": {},
   "outputs": [],
   "source": [
    "import time\n",
    "import shutil\n",
    "import os\n",
    "import os.path as osp\n",
    "import csv\n",
    "import numpy as np\n",
    "import torch\n",
    "import torch.nn as nn\n",
    "import torch.optim as optim\n",
    "from torch.optim.lr_scheduler import MultiStepLR\n",
    "from torch.utils.data import Dataset, DataLoader\n",
    "from model import SGN\n",
    "from data import AverageMeter#, NTUDataLoaders\n",
    "from util import make_dir\n",
    "from sklearn.metrics import confusion_matrix, precision_recall_fscore_support, accuracy_score\n",
    "from torch.cuda.amp import GradScaler, autocast\n",
    "from torch.optim.lr_scheduler import ReduceLROnPlateau\n",
    "from torch.nn import CrossEntropyLoss\n",
    "import torch.nn as nn\n",
    "import torch.nn.functional as F\n",
    "from torch.optim.lr_scheduler import CosineAnnealingLR"
   ]
  },
  {
   "cell_type": "code",
   "execution_count": 12,
   "metadata": {},
   "outputs": [],
   "source": [
    "# Tweaks for Linkage Attack\n",
    "class SGN_Linkage_Attack(nn.Module):\n",
    "    def __init__(self, model_a, model_b, output_size):\n",
    "        super(SGN_Linkage_Attack, self).__init__()\n",
    "        self.model_a = model_a\n",
    "        self.model_b = model_b\n",
    "        self.fc = nn.Linear(1024, output_size)\n",
    "        pretrained = torch.load('C:\\\\Users\\\\Carrt\\\\OneDrive\\\\Code\\\\Motion Privacy\\\\Attacking Models\\\\SGN Attack Model\\\\results\\\\NTU\\\\SGN\\\\0_best.pth')['state_dict']\n",
    "        del pretrained['fc.weight']\n",
    "        del pretrained['fc.bias']\n",
    "        self.model_a.load_state_dict(pretrained)\n",
    "        self.model_b.load_state_dict(pretrained)\n",
    "        for param in self.model_a.parameters():\n",
    "            param.requires_grad = False\n",
    "        for param in self.model_b.parameters():\n",
    "            param.requires_grad = False\n",
    "\n",
    "    def forward(self, x):\n",
    "        x_a = x[:,0,:,:]\n",
    "        x_b = x[:,1,:,:]\n",
    "        a_out = self.model_a(x_a).cuda()\n",
    "        b_out = self.model_b(x_b).cuda()\n",
    "        out = torch.cat((a_out, b_out), dim=1)\n",
    "        out = self.fc(out)\n",
    "        out = torch.sigmoid(out)\n",
    "        return out\n",
    "    \n",
    "    def print_weights(self):\n",
    "        print('FC Weights: ', self.fc[0].weight)\n",
    "        print('FC Bias: ', self.fc[0].bias)\n",
    "        print('Model A state_dict:', self.model_a.state_dict())\n",
    "        print('Model B state_dict:', self.model_b.state_dict())\n",
    "\n",
    "class SGN_Linkage_Dataset(Dataset):\n",
    "    def __init__(self, data_gen, dataset_len, seg=20):\n",
    "        self.data_gen = data_gen\n",
    "        self.len = dataset_len\n",
    "        self.seg = seg\n",
    "\n",
    "    def __len__(self):\n",
    "        return self.len\n",
    "\n",
    "    def __getitem__(self, idx):\n",
    "        x, y = next(self.data_gen)\n",
    "        x = self.preprocess(x)\n",
    "        return x, y\n",
    "\n",
    "    def preprocess(self, x):\n",
    "        x_a = x[0]\n",
    "        x_b = x[1]\n",
    "\n",
    "        x_a = self.tolist_fix([x_a])\n",
    "        x_a = torch.tensor(x_a).cuda()\n",
    "        x_b = self.tolist_fix([x_b])\n",
    "        x_b = torch.tensor(x_b).cuda()\n",
    "\n",
    "        x = torch.cat((x_a, x_b), dim=0)\n",
    "\n",
    "        # epsilon = 1e-8\n",
    "        # x_a = (x_a - x_a.mean(dim=1, keepdim=True)) / (x_a.std(dim=1, keepdim=True) + epsilon)\n",
    "        # x_b = (x_b - x_b.mean(dim=1, keepdim=True)) / (x_b.std(dim=1, keepdim=True) + epsilon)\n",
    "\n",
    "        return x\n",
    "\n",
    "    def tolist_fix(self, joints, train=1):\n",
    "        seqs = []\n",
    "\n",
    "        for idx, seq in enumerate(joints):\n",
    "            zero_row = []\n",
    "            for i in range(len(seq)):\n",
    "                if np.array_equal(seq[i, :], np.zeros(75)):\n",
    "                    zero_row.append(i)\n",
    "\n",
    "            seq = np.delete(seq, zero_row, axis=0)\n",
    "            seqs = self.sub_seq(seqs, seq, train=train)\n",
    "\n",
    "        return seqs\n",
    "\n",
    "    def sub_seq(self, seqs, seq, train=1):\n",
    "        group = self.seg\n",
    "\n",
    "        if seq.shape[0] < self.seg:\n",
    "            pad = np.zeros(\n",
    "                (self.seg - seq.shape[0], seq.shape[1])).astype(np.float32)\n",
    "            seq = np.concatenate([seq, pad], axis=0)\n",
    "\n",
    "        ave_duration = seq.shape[0] // group\n",
    "\n",
    "        if train == 1:\n",
    "            offsets = np.multiply(\n",
    "                list(range(group)), ave_duration) + np.random.randint(ave_duration, size=group)\n",
    "            seq = seq[offsets]\n",
    "            seqs.append(seq)\n",
    "\n",
    "        return seqs\n",
    "\n",
    "class LabelSmoothingLoss(nn.Module):\n",
    "    def __init__(self, classes, smoothing=0.0, dim=-1):\n",
    "        super(LabelSmoothingLoss, self).__init__()\n",
    "        self.confidence = 1.0 - smoothing\n",
    "        self.smoothing = smoothing\n",
    "        self.cls = classes\n",
    "        self.dim = dim\n",
    "\n",
    "    def forward(self, pred, target):\n",
    "        pred = pred.log_softmax(dim=self.dim)\n",
    "        with torch.no_grad():\n",
    "            true_dist = torch.zeros_like(pred)\n",
    "            true_dist.fill_(self.smoothing / (self.cls - 1))\n",
    "            target = target.long()  # Convert target tensor to long\n",
    "            true_dist.scatter_(1, target.data.unsqueeze(1), self.confidence)\n",
    "        return torch.mean(torch.sum(-true_dist * pred, dim=self.dim))\n",
    "\n",
    "class FocalLoss(nn.Module):\n",
    "    def __init__(self, num_classes, alpha=0.25, gamma=2.0):\n",
    "        super(FocalLoss, self).__init__()\n",
    "        self.num_classes = num_classes\n",
    "        self.alpha = alpha\n",
    "        self.gamma = gamma\n",
    "\n",
    "    def forward(self, inputs, targets):\n",
    "        # Move targets to the same device as the indexed tensor (if not already)\n",
    "        targets = targets.to(inputs.device)\n",
    "\n",
    "        # Convert targets to one-hot encoding\n",
    "        one_hot_targets = torch.eye(self.num_classes, device=inputs.device)[targets]\n",
    "\n",
    "        # Compute the softmax of the inputs\n",
    "        probabilities = F.softmax(inputs, dim=1)\n",
    "\n",
    "        # Compute the focal loss\n",
    "        pt = torch.where(one_hot_targets == 1, probabilities, 1 - probabilities)\n",
    "        ce_loss = F.cross_entropy(inputs, targets, reduction='none').unsqueeze(1)\n",
    "        focal_loss = self.alpha * (1 - pt)**self.gamma * ce_loss\n",
    "\n",
    "        return focal_loss.mean()\n",
    "\n",
    "class CategoricalHingeLoss(nn.Module):\n",
    "    def __init__(self, num_classes):\n",
    "        super(CategoricalHingeLoss, self).__init__()\n",
    "        self.num_classes = num_classes\n",
    "\n",
    "    def forward(self, inputs, targets):\n",
    "        # Convert targets to one-hot encoding\n",
    "        targets_one_hot = torch.zeros(targets.shape[0], self.num_classes).cuda()\n",
    "        targets_one_hot.scatter_(1, targets.unsqueeze(1), 1)\n",
    "        pos_scores = (inputs * targets_one_hot).sum(dim=1)\n",
    "        neg_scores = (inputs * (1 - targets_one_hot)).sum(dim=1)\n",
    "        hinge_loss = torch.clamp(1 + neg_scores - pos_scores, min=0)\n",
    "        return hinge_loss.mean()\n",
    "\n",
    "def evaluate(model, criterion, validation_loader):\n",
    "    model.eval()\n",
    "    total_loss = 0\n",
    "    total_samples = 0\n",
    "    all_targets = []\n",
    "    all_predictions = []\n",
    "\n",
    "    with torch.no_grad():\n",
    "        for x, targets in tqdm(validation_loader, leave=True, desc='Validation', position=1):\n",
    "            x, targets = x.cuda(), targets.float().cuda()\n",
    "\n",
    "            outputs = model(x)\n",
    "            loss = criterion(outputs.squeeze(), targets)\n",
    "\n",
    "            total_loss += loss.item() * targets.size(0)\n",
    "            total_samples += targets.size(0)\n",
    "\n",
    "            predictions = (torch.sigmoid(outputs) > 0.5).long().squeeze()  # Convert outputs to binary format\n",
    "            all_targets.extend(targets.tolist())\n",
    "            all_predictions.extend(predictions.tolist())\n",
    "\n",
    "    # Calculate validation loss and accuracy\n",
    "    val_loss = total_loss / total_samples\n",
    "    val_accuracy = accuracy_score(all_targets, all_predictions)\n",
    "\n",
    "    return val_loss, val_accuracy\n",
    "\n",
    "def evaluate_metrics(model, criterion, data_loader):\n",
    "    model.eval()\n",
    "    total_loss = 0\n",
    "    total_samples = 0\n",
    "    all_targets = []\n",
    "    all_predictions = []\n",
    "\n",
    "    with torch.no_grad():\n",
    "        for x, targets in tqdm(data_loader, leave=False, desc='Testing', position=1):\n",
    "            x, targets = x.cuda(), targets.cuda()\n",
    "\n",
    "            outputs = model(x)\n",
    "            loss = criterion(outputs, targets)\n",
    "\n",
    "            total_loss += loss.item() * targets.size(0)\n",
    "            total_samples += targets.size(0)\n",
    "\n",
    "            predictions = (torch.sigmoid(outputs) > 0.5).long().squeeze()  # Convert one-hot encoded predictions to binary format\n",
    "            all_targets.extend(targets.tolist())\n",
    "            all_predictions.extend(predictions.tolist())\n",
    "\n",
    "    # Calculate metrics\n",
    "    loss = total_loss / total_samples\n",
    "    accuracy = accuracy_score(all_targets, all_predictions)\n",
    "    cm = confusion_matrix(all_targets, all_predictions)\n",
    "    precision, recall, f1, _ = precision_recall_fscore_support(all_targets, all_predictions, average='binary')\n",
    "\n",
    "    return accuracy, loss, cm, precision, recall, f1\n"
   ]
  },
  {
   "cell_type": "code",
   "execution_count": 13,
   "metadata": {},
   "outputs": [
    {
     "data": {
      "application/vnd.jupyter.widget-view+json": {
       "model_id": "3ffe4d05b2f5413180d62f0987b15295",
       "version_major": 2,
       "version_minor": 0
      },
      "text/plain": [
       "Epochs:   0%|          | 0/20 [00:00<?, ?it/s]"
      ]
     },
     "metadata": {},
     "output_type": "display_data"
    },
    {
     "data": {
      "application/vnd.jupyter.widget-view+json": {
       "model_id": "2021315ae99c4684b94ff4f5dcef9c38",
       "version_major": 2,
       "version_minor": 0
      },
      "text/plain": [
       "Training Batch:   0%|          | 0/31 [00:00<?, ?it/s]"
      ]
     },
     "metadata": {},
     "output_type": "display_data"
    },
    {
     "data": {
      "application/vnd.jupyter.widget-view+json": {
       "model_id": "0b98071e38a74ec9b2e0777dadecdf60",
       "version_major": 2,
       "version_minor": 0
      },
      "text/plain": [
       "Validation:   0%|          | 0/15 [00:00<?, ?it/s]"
      ]
     },
     "metadata": {},
     "output_type": "display_data"
    },
    {
     "name": "stdout",
     "output_type": "stream",
     "text": [
      "Epoch 1, Training Loss: 0.6935361546854819, Validation Loss: 0.6924545884132385, Validation Accuracy: 0.5520833333333334\n",
      "New best validation loss, checkpoint saved\n"
     ]
    },
    {
     "data": {
      "application/vnd.jupyter.widget-view+json": {
       "model_id": "5e0c37db9ef848fc898da83977557d84",
       "version_major": 2,
       "version_minor": 0
      },
      "text/plain": [
       "Training Batch:   0%|          | 0/31 [00:00<?, ?it/s]"
      ]
     },
     "metadata": {},
     "output_type": "display_data"
    },
    {
     "data": {
      "application/vnd.jupyter.widget-view+json": {
       "model_id": "64ae0cb7df7f473ebdff67bd4f4337aa",
       "version_major": 2,
       "version_minor": 0
      },
      "text/plain": [
       "Validation:   0%|          | 0/15 [00:00<?, ?it/s]"
      ]
     },
     "metadata": {},
     "output_type": "display_data"
    },
    {
     "name": "stdout",
     "output_type": "stream",
     "text": [
      "Epoch 2, Training Loss: 0.6943474392737111, Validation Loss: 0.693867830435435, Validation Accuracy: 0.475\n"
     ]
    },
    {
     "data": {
      "application/vnd.jupyter.widget-view+json": {
       "model_id": "d389343450e9429aaf7fe584a6630c70",
       "version_major": 2,
       "version_minor": 0
      },
      "text/plain": [
       "Training Batch:   0%|          | 0/31 [00:00<?, ?it/s]"
      ]
     },
     "metadata": {},
     "output_type": "display_data"
    },
    {
     "data": {
      "application/vnd.jupyter.widget-view+json": {
       "model_id": "69dd1015e68c436ca517dc56b4af26ca",
       "version_major": 2,
       "version_minor": 0
      },
      "text/plain": [
       "Validation:   0%|          | 0/15 [00:00<?, ?it/s]"
      ]
     },
     "metadata": {},
     "output_type": "display_data"
    },
    {
     "name": "stdout",
     "output_type": "stream",
     "text": [
      "Epoch 3, Training Loss: 0.6928690556556948, Validation Loss: 0.6934301296869914, Validation Accuracy: 0.5125\n"
     ]
    },
    {
     "data": {
      "application/vnd.jupyter.widget-view+json": {
       "model_id": "b9a35add70334f97a9abcbf7c5c00d0c",
       "version_major": 2,
       "version_minor": 0
      },
      "text/plain": [
       "Training Batch:   0%|          | 0/31 [00:00<?, ?it/s]"
      ]
     },
     "metadata": {},
     "output_type": "display_data"
    },
    {
     "data": {
      "application/vnd.jupyter.widget-view+json": {
       "model_id": "a065b916843b40eba078a1f11af9328a",
       "version_major": 2,
       "version_minor": 0
      },
      "text/plain": [
       "Validation:   0%|          | 0/15 [00:00<?, ?it/s]"
      ]
     },
     "metadata": {},
     "output_type": "display_data"
    },
    {
     "name": "stdout",
     "output_type": "stream",
     "text": [
      "Epoch 4, Training Loss: 0.6936935205613414, Validation Loss: 0.6945608615875244, Validation Accuracy: 0.4708333333333333\n"
     ]
    },
    {
     "data": {
      "application/vnd.jupyter.widget-view+json": {
       "model_id": "e750f63e76164e0a90ddfc1d6745bcdf",
       "version_major": 2,
       "version_minor": 0
      },
      "text/plain": [
       "Training Batch:   0%|          | 0/31 [00:00<?, ?it/s]"
      ]
     },
     "metadata": {},
     "output_type": "display_data"
    },
    {
     "data": {
      "application/vnd.jupyter.widget-view+json": {
       "model_id": "7cb6695ec2b64f84a9523676339dc579",
       "version_major": 2,
       "version_minor": 0
      },
      "text/plain": [
       "Validation:   0%|          | 0/15 [00:00<?, ?it/s]"
      ]
     },
     "metadata": {},
     "output_type": "display_data"
    },
    {
     "name": "stdout",
     "output_type": "stream",
     "text": [
      "Epoch 5, Training Loss: 0.6932987897626816, Validation Loss: 0.6937655886014302, Validation Accuracy: 0.5375\n"
     ]
    },
    {
     "data": {
      "application/vnd.jupyter.widget-view+json": {
       "model_id": "ff3e4b9fd19b4bc6b10e071f43dbca50",
       "version_major": 2,
       "version_minor": 0
      },
      "text/plain": [
       "Training Batch:   0%|          | 0/31 [00:00<?, ?it/s]"
      ]
     },
     "metadata": {},
     "output_type": "display_data"
    },
    {
     "data": {
      "application/vnd.jupyter.widget-view+json": {
       "model_id": "a2637472b7dd4590a218d0c9f554577b",
       "version_major": 2,
       "version_minor": 0
      },
      "text/plain": [
       "Validation:   0%|          | 0/15 [00:00<?, ?it/s]"
      ]
     },
     "metadata": {},
     "output_type": "display_data"
    },
    {
     "name": "stdout",
     "output_type": "stream",
     "text": [
      "Epoch 6, Training Loss: 0.6939672212446889, Validation Loss: 0.6939871986707051, Validation Accuracy: 0.4875\n"
     ]
    },
    {
     "data": {
      "application/vnd.jupyter.widget-view+json": {
       "model_id": "5a615364c9054dfb96a901507677635e",
       "version_major": 2,
       "version_minor": 0
      },
      "text/plain": [
       "Training Batch:   0%|          | 0/31 [00:00<?, ?it/s]"
      ]
     },
     "metadata": {},
     "output_type": "display_data"
    },
    {
     "data": {
      "application/vnd.jupyter.widget-view+json": {
       "model_id": "c68e596d344c49979a73da233fea3b62",
       "version_major": 2,
       "version_minor": 0
      },
      "text/plain": [
       "Validation:   0%|          | 0/15 [00:00<?, ?it/s]"
      ]
     },
     "metadata": {},
     "output_type": "display_data"
    },
    {
     "name": "stdout",
     "output_type": "stream",
     "text": [
      "Epoch 7, Training Loss: 0.6928189762177006, Validation Loss: 0.6938697735468546, Validation Accuracy: 0.4895833333333333\n"
     ]
    },
    {
     "data": {
      "application/vnd.jupyter.widget-view+json": {
       "model_id": "05e8a67342e24d48828c743345fad7fd",
       "version_major": 2,
       "version_minor": 0
      },
      "text/plain": [
       "Training Batch:   0%|          | 0/31 [00:00<?, ?it/s]"
      ]
     },
     "metadata": {},
     "output_type": "display_data"
    },
    {
     "data": {
      "application/vnd.jupyter.widget-view+json": {
       "model_id": "3581b7b2ba394d27871ba1a55298094c",
       "version_major": 2,
       "version_minor": 0
      },
      "text/plain": [
       "Validation:   0%|          | 0/15 [00:00<?, ?it/s]"
      ]
     },
     "metadata": {},
     "output_type": "display_data"
    },
    {
     "name": "stdout",
     "output_type": "stream",
     "text": [
      "Epoch 8, Training Loss: 0.6934413294638356, Validation Loss: 0.6932237227757772, Validation Accuracy: 0.475\n"
     ]
    },
    {
     "data": {
      "application/vnd.jupyter.widget-view+json": {
       "model_id": "697d1e813608497598473be25741b769",
       "version_major": 2,
       "version_minor": 0
      },
      "text/plain": [
       "Training Batch:   0%|          | 0/31 [00:00<?, ?it/s]"
      ]
     },
     "metadata": {},
     "output_type": "display_data"
    },
    {
     "data": {
      "application/vnd.jupyter.widget-view+json": {
       "model_id": "8172844624f14e248093ba4a88ca9192",
       "version_major": 2,
       "version_minor": 0
      },
      "text/plain": [
       "Validation:   0%|          | 0/15 [00:00<?, ?it/s]"
      ]
     },
     "metadata": {},
     "output_type": "display_data"
    },
    {
     "name": "stdout",
     "output_type": "stream",
     "text": [
      "Epoch 9, Training Loss: 0.6928772676375604, Validation Loss: 0.6936977664629619, Validation Accuracy: 0.5604166666666667\n"
     ]
    },
    {
     "data": {
      "application/vnd.jupyter.widget-view+json": {
       "model_id": "26aed70d42da463db728ef2df2f12a33",
       "version_major": 2,
       "version_minor": 0
      },
      "text/plain": [
       "Training Batch:   0%|          | 0/31 [00:00<?, ?it/s]"
      ]
     },
     "metadata": {},
     "output_type": "display_data"
    },
    {
     "data": {
      "application/vnd.jupyter.widget-view+json": {
       "model_id": "d6b71d4c26a34db390fa5180165bb3b4",
       "version_major": 2,
       "version_minor": 0
      },
      "text/plain": [
       "Validation:   0%|          | 0/15 [00:00<?, ?it/s]"
      ]
     },
     "metadata": {},
     "output_type": "display_data"
    },
    {
     "name": "stdout",
     "output_type": "stream",
     "text": [
      "Epoch 10, Training Loss: 0.6934712471500519, Validation Loss: 0.6942312439282735, Validation Accuracy: 0.47291666666666665\n"
     ]
    },
    {
     "data": {
      "application/vnd.jupyter.widget-view+json": {
       "model_id": "5e2c5333a1584b02aa12ecd086875113",
       "version_major": 2,
       "version_minor": 0
      },
      "text/plain": [
       "Training Batch:   0%|          | 0/31 [00:00<?, ?it/s]"
      ]
     },
     "metadata": {},
     "output_type": "display_data"
    },
    {
     "data": {
      "application/vnd.jupyter.widget-view+json": {
       "model_id": "c387d6ddf18246988841dba265b67deb",
       "version_major": 2,
       "version_minor": 0
      },
      "text/plain": [
       "Validation:   0%|          | 0/15 [00:00<?, ?it/s]"
      ]
     },
     "metadata": {},
     "output_type": "display_data"
    },
    {
     "name": "stdout",
     "output_type": "stream",
     "text": [
      "Epoch 11, Training Loss: 0.6929434268705307, Validation Loss: 0.6937003850936889, Validation Accuracy: 0.49166666666666664\n"
     ]
    },
    {
     "data": {
      "application/vnd.jupyter.widget-view+json": {
       "model_id": "3d832331bca94b9aa726286306477aef",
       "version_major": 2,
       "version_minor": 0
      },
      "text/plain": [
       "Training Batch:   0%|          | 0/31 [00:00<?, ?it/s]"
      ]
     },
     "metadata": {},
     "output_type": "display_data"
    },
    {
     "data": {
      "application/vnd.jupyter.widget-view+json": {
       "model_id": "b2046911051241408a2898d7cfc99743",
       "version_major": 2,
       "version_minor": 0
      },
      "text/plain": [
       "Validation:   0%|          | 0/15 [00:00<?, ?it/s]"
      ]
     },
     "metadata": {},
     "output_type": "display_data"
    },
    {
     "name": "stdout",
     "output_type": "stream",
     "text": [
      "Epoch 12, Training Loss: 0.6937011480331421, Validation Loss: 0.6933922410011292, Validation Accuracy: 0.4875\n"
     ]
    },
    {
     "data": {
      "application/vnd.jupyter.widget-view+json": {
       "model_id": "4afbe43e7646499f836c96ba95b43ac2",
       "version_major": 2,
       "version_minor": 0
      },
      "text/plain": [
       "Training Batch:   0%|          | 0/31 [00:00<?, ?it/s]"
      ]
     },
     "metadata": {},
     "output_type": "display_data"
    },
    {
     "data": {
      "application/vnd.jupyter.widget-view+json": {
       "model_id": "c4acf75687874f38a72a1940c684d371",
       "version_major": 2,
       "version_minor": 0
      },
      "text/plain": [
       "Validation:   0%|          | 0/15 [00:00<?, ?it/s]"
      ]
     },
     "metadata": {},
     "output_type": "display_data"
    },
    {
     "name": "stdout",
     "output_type": "stream",
     "text": [
      "Epoch 13, Training Loss: 0.6927474679485444, Validation Loss: 0.693964954217275, Validation Accuracy: 0.5354166666666667\n"
     ]
    },
    {
     "data": {
      "application/vnd.jupyter.widget-view+json": {
       "model_id": "cdf918d753fd465b8783d26bb5181b6c",
       "version_major": 2,
       "version_minor": 0
      },
      "text/plain": [
       "Training Batch:   0%|          | 0/31 [00:00<?, ?it/s]"
      ]
     },
     "metadata": {},
     "output_type": "display_data"
    },
    {
     "data": {
      "application/vnd.jupyter.widget-view+json": {
       "model_id": "112938e81d6a4d38b5d373c11dde4f7f",
       "version_major": 2,
       "version_minor": 0
      },
      "text/plain": [
       "Validation:   0%|          | 0/15 [00:00<?, ?it/s]"
      ]
     },
     "metadata": {},
     "output_type": "display_data"
    },
    {
     "name": "stdout",
     "output_type": "stream",
     "text": [
      "Epoch 14, Training Loss: 0.693362714782838, Validation Loss: 0.6939577221870422, Validation Accuracy: 0.49583333333333335\n"
     ]
    },
    {
     "data": {
      "application/vnd.jupyter.widget-view+json": {
       "model_id": "4ab02ab8b7c3499aad3eb138457ea2ff",
       "version_major": 2,
       "version_minor": 0
      },
      "text/plain": [
       "Training Batch:   0%|          | 0/31 [00:00<?, ?it/s]"
      ]
     },
     "metadata": {},
     "output_type": "display_data"
    },
    {
     "data": {
      "application/vnd.jupyter.widget-view+json": {
       "model_id": "0cb5130d235e4266830a88ff22f0df88",
       "version_major": 2,
       "version_minor": 0
      },
      "text/plain": [
       "Validation:   0%|          | 0/15 [00:00<?, ?it/s]"
      ]
     },
     "metadata": {},
     "output_type": "display_data"
    },
    {
     "name": "stdout",
     "output_type": "stream",
     "text": [
      "Epoch 15, Training Loss: 0.693180795638792, Validation Loss: 0.6936138431231181, Validation Accuracy: 0.49166666666666664\n"
     ]
    },
    {
     "data": {
      "application/vnd.jupyter.widget-view+json": {
       "model_id": "874ef4db88554a20bb0424a2c5a5abba",
       "version_major": 2,
       "version_minor": 0
      },
      "text/plain": [
       "Training Batch:   0%|          | 0/31 [00:00<?, ?it/s]"
      ]
     },
     "metadata": {},
     "output_type": "display_data"
    },
    {
     "data": {
      "application/vnd.jupyter.widget-view+json": {
       "model_id": "3e790404cc284479a78e1e3b6740a333",
       "version_major": 2,
       "version_minor": 0
      },
      "text/plain": [
       "Validation:   0%|          | 0/15 [00:00<?, ?it/s]"
      ]
     },
     "metadata": {},
     "output_type": "display_data"
    },
    {
     "name": "stdout",
     "output_type": "stream",
     "text": [
      "Epoch 16, Training Loss: 0.6941235103914815, Validation Loss: 0.6933702190717062, Validation Accuracy: 0.49375\n"
     ]
    },
    {
     "data": {
      "application/vnd.jupyter.widget-view+json": {
       "model_id": "a59e0ffd16b3471c8d100448bbb472d8",
       "version_major": 2,
       "version_minor": 0
      },
      "text/plain": [
       "Training Batch:   0%|          | 0/31 [00:00<?, ?it/s]"
      ]
     },
     "metadata": {},
     "output_type": "display_data"
    },
    {
     "data": {
      "application/vnd.jupyter.widget-view+json": {
       "model_id": "1cecf32e8e0045f4beef7c9b6801c610",
       "version_major": 2,
       "version_minor": 0
      },
      "text/plain": [
       "Validation:   0%|          | 0/15 [00:00<?, ?it/s]"
      ]
     },
     "metadata": {},
     "output_type": "display_data"
    },
    {
     "name": "stdout",
     "output_type": "stream",
     "text": [
      "Epoch 17, Training Loss: 0.6929765382120686, Validation Loss: 0.6936861554781596, Validation Accuracy: 0.5041666666666667\n"
     ]
    },
    {
     "data": {
      "application/vnd.jupyter.widget-view+json": {
       "model_id": "21af33f102564b91bf0fef0a3480cebf",
       "version_major": 2,
       "version_minor": 0
      },
      "text/plain": [
       "Training Batch:   0%|          | 0/31 [00:00<?, ?it/s]"
      ]
     },
     "metadata": {},
     "output_type": "display_data"
    },
    {
     "data": {
      "application/vnd.jupyter.widget-view+json": {
       "model_id": "0e9fd7721d0f46a697cdabbedcb5ddad",
       "version_major": 2,
       "version_minor": 0
      },
      "text/plain": [
       "Validation:   0%|          | 0/15 [00:00<?, ?it/s]"
      ]
     },
     "metadata": {},
     "output_type": "display_data"
    },
    {
     "name": "stdout",
     "output_type": "stream",
     "text": [
      "Epoch 18, Training Loss: 0.6936401532542321, Validation Loss: 0.6937977433204651, Validation Accuracy: 0.5083333333333333\n"
     ]
    },
    {
     "data": {
      "application/vnd.jupyter.widget-view+json": {
       "model_id": "58a1b84abc164ab297e63e3a20390692",
       "version_major": 2,
       "version_minor": 0
      },
      "text/plain": [
       "Training Batch:   0%|          | 0/31 [00:00<?, ?it/s]"
      ]
     },
     "metadata": {},
     "output_type": "display_data"
    },
    {
     "data": {
      "application/vnd.jupyter.widget-view+json": {
       "model_id": "944c41eb44444f59b313c98ee376ddeb",
       "version_major": 2,
       "version_minor": 0
      },
      "text/plain": [
       "Validation:   0%|          | 0/15 [00:00<?, ?it/s]"
      ]
     },
     "metadata": {},
     "output_type": "display_data"
    },
    {
     "name": "stdout",
     "output_type": "stream",
     "text": [
      "Epoch 19, Training Loss: 0.6923920973654716, Validation Loss: 0.6945550004641216, Validation Accuracy: 0.48333333333333334\n"
     ]
    },
    {
     "data": {
      "application/vnd.jupyter.widget-view+json": {
       "model_id": "d9502238e9534b0da5d1c7205e850cb0",
       "version_major": 2,
       "version_minor": 0
      },
      "text/plain": [
       "Training Batch:   0%|          | 0/31 [00:00<?, ?it/s]"
      ]
     },
     "metadata": {},
     "output_type": "display_data"
    },
    {
     "data": {
      "application/vnd.jupyter.widget-view+json": {
       "model_id": "dda00b16ed504fa48e479aab75ea4430",
       "version_major": 2,
       "version_minor": 0
      },
      "text/plain": [
       "Validation:   0%|          | 0/15 [00:00<?, ?it/s]"
      ]
     },
     "metadata": {},
     "output_type": "display_data"
    },
    {
     "name": "stdout",
     "output_type": "stream",
     "text": [
      "Epoch 20, Training Loss: 0.6937361897960785, Validation Loss: 0.6929188768068949, Validation Accuracy: 0.5125\n"
     ]
    },
    {
     "data": {
      "application/vnd.jupyter.widget-view+json": {
       "model_id": "09bb896dbed44674958628fdbbc0ea22",
       "version_major": 2,
       "version_minor": 0
      },
      "text/plain": [
       "Testing:   0%|          | 0/15 [00:00<?, ?it/s]"
      ]
     },
     "metadata": {},
     "output_type": "display_data"
    },
    {
     "ename": "ValueError",
     "evalue": "Using a target size (torch.Size([32])) that is different to the input size (torch.Size([32, 1])) is deprecated. Please ensure they have the same size.",
     "output_type": "error",
     "traceback": [
      "\u001b[1;31m---------------------------------------------------------------------------\u001b[0m",
      "\u001b[1;31mValueError\u001b[0m                                Traceback (most recent call last)",
      "Cell \u001b[1;32mIn[13], line 96\u001b[0m\n\u001b[0;32m     93\u001b[0m     \u001b[39mprint\u001b[39m(\u001b[39mf\u001b[39m\u001b[39m'\u001b[39m\u001b[39mRecall: \u001b[39m\u001b[39m{\u001b[39;00mrecall\u001b[39m}\u001b[39;00m\u001b[39m'\u001b[39m)\n\u001b[0;32m     94\u001b[0m     \u001b[39mprint\u001b[39m(\u001b[39mf\u001b[39m\u001b[39m'\u001b[39m\u001b[39mF1: \u001b[39m\u001b[39m{\u001b[39;00mf1\u001b[39m}\u001b[39;00m\u001b[39m'\u001b[39m)\n\u001b[1;32m---> 96\u001b[0m main(do_train\u001b[39m=\u001b[39;49m\u001b[39mTrue\u001b[39;49;00m)\n",
      "Cell \u001b[1;32mIn[13], line 88\u001b[0m, in \u001b[0;36mmain\u001b[1;34m(do_train)\u001b[0m\n\u001b[0;32m     85\u001b[0m model\u001b[39m.\u001b[39mload_state_dict(torch\u001b[39m.\u001b[39mload(os\u001b[39m.\u001b[39mpath\u001b[39m.\u001b[39mjoin(checkpoint_dir, \u001b[39m'\u001b[39m\u001b[39mbest_model.pt\u001b[39m\u001b[39m'\u001b[39m)))\n\u001b[0;32m     87\u001b[0m \u001b[39m# Evaluate the model\u001b[39;00m\n\u001b[1;32m---> 88\u001b[0m accuracy, loss, cm, precision, recall, f1 \u001b[39m=\u001b[39m evaluate_metrics(model, criterion, test_loader)\n\u001b[0;32m     89\u001b[0m \u001b[39mprint\u001b[39m(\u001b[39mf\u001b[39m\u001b[39m'\u001b[39m\u001b[39mAccuracy: \u001b[39m\u001b[39m{\u001b[39;00maccuracy\u001b[39m}\u001b[39;00m\u001b[39m'\u001b[39m)\n\u001b[0;32m     90\u001b[0m \u001b[39mprint\u001b[39m(\u001b[39mf\u001b[39m\u001b[39m'\u001b[39m\u001b[39mLoss: \u001b[39m\u001b[39m{\u001b[39;00mloss\u001b[39m}\u001b[39;00m\u001b[39m'\u001b[39m)\n",
      "Cell \u001b[1;32mIn[12], line 191\u001b[0m, in \u001b[0;36mevaluate_metrics\u001b[1;34m(model, criterion, data_loader)\u001b[0m\n\u001b[0;32m    188\u001b[0m x, targets \u001b[39m=\u001b[39m x\u001b[39m.\u001b[39mcuda(), targets\u001b[39m.\u001b[39mcuda()\n\u001b[0;32m    190\u001b[0m outputs \u001b[39m=\u001b[39m model(x)\n\u001b[1;32m--> 191\u001b[0m loss \u001b[39m=\u001b[39m criterion(outputs, targets)\n\u001b[0;32m    193\u001b[0m total_loss \u001b[39m+\u001b[39m\u001b[39m=\u001b[39m loss\u001b[39m.\u001b[39mitem() \u001b[39m*\u001b[39m targets\u001b[39m.\u001b[39msize(\u001b[39m0\u001b[39m)\n\u001b[0;32m    194\u001b[0m total_samples \u001b[39m+\u001b[39m\u001b[39m=\u001b[39m targets\u001b[39m.\u001b[39msize(\u001b[39m0\u001b[39m)\n",
      "File \u001b[1;32mc:\\Users\\Carrt\\AppData\\Local\\Programs\\Python\\Python39\\lib\\site-packages\\torch\\nn\\modules\\module.py:1194\u001b[0m, in \u001b[0;36mModule._call_impl\u001b[1;34m(self, *input, **kwargs)\u001b[0m\n\u001b[0;32m   1190\u001b[0m \u001b[39m# If we don't have any hooks, we want to skip the rest of the logic in\u001b[39;00m\n\u001b[0;32m   1191\u001b[0m \u001b[39m# this function, and just call forward.\u001b[39;00m\n\u001b[0;32m   1192\u001b[0m \u001b[39mif\u001b[39;00m \u001b[39mnot\u001b[39;00m (\u001b[39mself\u001b[39m\u001b[39m.\u001b[39m_backward_hooks \u001b[39mor\u001b[39;00m \u001b[39mself\u001b[39m\u001b[39m.\u001b[39m_forward_hooks \u001b[39mor\u001b[39;00m \u001b[39mself\u001b[39m\u001b[39m.\u001b[39m_forward_pre_hooks \u001b[39mor\u001b[39;00m _global_backward_hooks\n\u001b[0;32m   1193\u001b[0m         \u001b[39mor\u001b[39;00m _global_forward_hooks \u001b[39mor\u001b[39;00m _global_forward_pre_hooks):\n\u001b[1;32m-> 1194\u001b[0m     \u001b[39mreturn\u001b[39;00m forward_call(\u001b[39m*\u001b[39m\u001b[39minput\u001b[39m, \u001b[39m*\u001b[39m\u001b[39m*\u001b[39mkwargs)\n\u001b[0;32m   1195\u001b[0m \u001b[39m# Do not call functions when jit is used\u001b[39;00m\n\u001b[0;32m   1196\u001b[0m full_backward_hooks, non_full_backward_hooks \u001b[39m=\u001b[39m [], []\n",
      "File \u001b[1;32mc:\\Users\\Carrt\\AppData\\Local\\Programs\\Python\\Python39\\lib\\site-packages\\torch\\nn\\modules\\loss.py:619\u001b[0m, in \u001b[0;36mBCELoss.forward\u001b[1;34m(self, input, target)\u001b[0m\n\u001b[0;32m    618\u001b[0m \u001b[39mdef\u001b[39;00m \u001b[39mforward\u001b[39m(\u001b[39mself\u001b[39m, \u001b[39minput\u001b[39m: Tensor, target: Tensor) \u001b[39m-\u001b[39m\u001b[39m>\u001b[39m Tensor:\n\u001b[1;32m--> 619\u001b[0m     \u001b[39mreturn\u001b[39;00m F\u001b[39m.\u001b[39;49mbinary_cross_entropy(\u001b[39minput\u001b[39;49m, target, weight\u001b[39m=\u001b[39;49m\u001b[39mself\u001b[39;49m\u001b[39m.\u001b[39;49mweight, reduction\u001b[39m=\u001b[39;49m\u001b[39mself\u001b[39;49m\u001b[39m.\u001b[39;49mreduction)\n",
      "File \u001b[1;32mc:\\Users\\Carrt\\AppData\\Local\\Programs\\Python\\Python39\\lib\\site-packages\\torch\\nn\\functional.py:3086\u001b[0m, in \u001b[0;36mbinary_cross_entropy\u001b[1;34m(input, target, weight, size_average, reduce, reduction)\u001b[0m\n\u001b[0;32m   3084\u001b[0m     reduction_enum \u001b[39m=\u001b[39m _Reduction\u001b[39m.\u001b[39mget_enum(reduction)\n\u001b[0;32m   3085\u001b[0m \u001b[39mif\u001b[39;00m target\u001b[39m.\u001b[39msize() \u001b[39m!=\u001b[39m \u001b[39minput\u001b[39m\u001b[39m.\u001b[39msize():\n\u001b[1;32m-> 3086\u001b[0m     \u001b[39mraise\u001b[39;00m \u001b[39mValueError\u001b[39;00m(\n\u001b[0;32m   3087\u001b[0m         \u001b[39m\"\u001b[39m\u001b[39mUsing a target size (\u001b[39m\u001b[39m{}\u001b[39;00m\u001b[39m) that is different to the input size (\u001b[39m\u001b[39m{}\u001b[39;00m\u001b[39m) is deprecated. \u001b[39m\u001b[39m\"\u001b[39m\n\u001b[0;32m   3088\u001b[0m         \u001b[39m\"\u001b[39m\u001b[39mPlease ensure they have the same size.\u001b[39m\u001b[39m\"\u001b[39m\u001b[39m.\u001b[39mformat(target\u001b[39m.\u001b[39msize(), \u001b[39minput\u001b[39m\u001b[39m.\u001b[39msize())\n\u001b[0;32m   3089\u001b[0m     )\n\u001b[0;32m   3091\u001b[0m \u001b[39mif\u001b[39;00m weight \u001b[39mis\u001b[39;00m \u001b[39mnot\u001b[39;00m \u001b[39mNone\u001b[39;00m:\n\u001b[0;32m   3092\u001b[0m     new_size \u001b[39m=\u001b[39m _infer_size(target\u001b[39m.\u001b[39msize(), weight\u001b[39m.\u001b[39msize())\n",
      "\u001b[1;31mValueError\u001b[0m: Using a target size (torch.Size([32])) that is different to the input size (torch.Size([32, 1])) is deprecated. Please ensure they have the same size."
     ]
    }
   ],
   "source": [
    "def main(do_train = True):\n",
    "    # Initiate the two SGN models\n",
    "    num_classes = 1 # Is the same or not the same\n",
    "    SGN_Encoder1 = SGN(num_classes, dataset, seg, batch_size, do_train).cuda()\n",
    "    SGN_Encoder2 = SGN(num_classes, dataset, seg, batch_size, do_train).cuda()\n",
    "    \n",
    "    # Combine the two SGN Models\n",
    "    model = SGN_Linkage_Attack(SGN_Encoder1, SGN_Encoder2, num_classes).cuda()\n",
    "\n",
    "    # Load the data and create dataloaders\n",
    "    num_actors = len(set(int(file[9:12]) for file in X))\n",
    "    samples_per_actor = same_samples_per_actor + diff_samples_per_actor\n",
    "    if per_actor:\n",
    "        train_len = int(samples_per_actor * num_actors * 0.5)\n",
    "        val_len = int(samples_per_actor * num_actors * 0.25)\n",
    "        test_len = int(samples_per_actor * num_actors * 0.25)\n",
    "    else:\n",
    "        train_len = int(samples_per_actor * 0.5)\n",
    "        val_len = int(samples_per_actor * 0.25)\n",
    "        test_len = int(samples_per_actor * 0.25)\n",
    "\n",
    "    train_dataset = SGN_Linkage_Dataset(train_gen, train_len)\n",
    "    val_dataset = SGN_Linkage_Dataset(val_gen, val_len)\n",
    "    test_dataset = SGN_Linkage_Dataset(test_gen, test_len)\n",
    "\n",
    "    train_loader = DataLoader(train_dataset, batch_size=batch_size, shuffle=True, drop_last=True)\n",
    "    test_loader = DataLoader(test_dataset, batch_size=batch_size, shuffle=False, drop_last=True)\n",
    "    validation_loader = DataLoader(val_dataset, batch_size=batch_size, shuffle=False, drop_last=True)\n",
    "\n",
    "    # Set up checkpoint director\n",
    "    checkpoint_dir = 'models'\n",
    "    os.makedirs(checkpoint_dir, exist_ok=True)\n",
    "\n",
    "    # Load the model if specified\n",
    "    if load_model:\n",
    "        # Load the model\n",
    "        model.load_state_dict(torch.load(f'{checkpoint_dir}/{load_model}.pt'))\n",
    "        print('Model loaded')\n",
    "\n",
    "    # Initialize variables for tracking loss\n",
    "    best_loss = float('inf')\n",
    "    best_epoch = 0\n",
    "\n",
    "    # Train the model\n",
    "    # criterion = LabelSmoothingLoss(num_classes, smoothing=0.1).cuda()\n",
    "    criterion = nn.BCELoss().cuda()\n",
    "    # optimizer = optim.Adam(model.parameters(), lr=lr, weight_decay=weight_decay)\n",
    "    optimizer = optim.SGD(model.parameters(), lr=lr, momentum=0.9, weight_decay=weight_decay)\n",
    "\n",
    "    if do_train:\n",
    "        for epoch in tqdm(range(max_epochs), desc='Epochs'):\n",
    "            # Train\n",
    "            model.train(True)\n",
    "            total_train_loss = 0  # Add this line to store total training loss\n",
    "            for i, (x, y) in enumerate(tqdm(train_loader, leave=True, desc='Training Batch', position=1)):\n",
    "                x = x.cuda()\n",
    "                y = y.float().cuda()\n",
    "                \n",
    "                optimizer.zero_grad()\n",
    "\n",
    "                output = model(x)\n",
    "                loss = criterion(output.squeeze(), y)\n",
    "\n",
    "                total_train_loss += loss.item()  # Update total training loss\n",
    "                loss.backward()\n",
    "\n",
    "                # torch.nn.utils.clip_grad_norm_(model.parameters(), max_norm=1)\n",
    "\n",
    "                optimizer.step()\n",
    "\n",
    "            avg_train_loss = total_train_loss / len(train_loader)  # Calculate average training loss\n",
    "\n",
    "            # Evaluate\n",
    "            val_loss, val_acc = evaluate(model, criterion, validation_loader)\n",
    "            print(f'Epoch {epoch+1}, Training Loss: {avg_train_loss}, Validation Loss: {val_loss}, Validation Accuracy: {val_acc}')\n",
    "\n",
    "            # Save the best model\n",
    "            if val_loss < best_loss:\n",
    "                best_loss = val_loss\n",
    "                best_epoch = epoch\n",
    "                torch.save(model.state_dict(), os.path.join(checkpoint_dir, 'best_model.pt'))\n",
    "                print(f'New best validation loss, checkpoint saved')\n",
    "\n",
    "    # Load the best model\n",
    "    model.load_state_dict(torch.load(os.path.join(checkpoint_dir, 'best_model.pt')))\n",
    "\n",
    "    # Evaluate the model\n",
    "    accuracy, loss, cm, precision, recall, f1 = evaluate_metrics(model, criterion, test_loader)\n",
    "    print(f'Accuracy: {accuracy}')\n",
    "    print(f'Loss: {loss}')\n",
    "    print(f'Confusion Matrix: {cm}')\n",
    "    print(f'Precision: {precision}')\n",
    "    print(f'Recall: {recall}')\n",
    "    print(f'F1: {f1}')\n",
    "\n",
    "main(do_train=True)"
   ]
  }
 ],
 "metadata": {
  "kernelspec": {
   "display_name": "Python 3",
   "language": "python",
   "name": "python3"
  },
  "language_info": {
   "codemirror_mode": {
    "name": "ipython",
    "version": 3
   },
   "file_extension": ".py",
   "mimetype": "text/x-python",
   "name": "python",
   "nbconvert_exporter": "python",
   "pygments_lexer": "ipython3",
   "version": "3.9.13"
  },
  "orig_nbformat": 4,
  "vscode": {
   "interpreter": {
    "hash": "063dd9079dbbbc7ce9a24508feb60cfa7f5aa9bc9e0c912b3996301118c4566f"
   }
  }
 },
 "nbformat": 4,
 "nbformat_minor": 2
}
