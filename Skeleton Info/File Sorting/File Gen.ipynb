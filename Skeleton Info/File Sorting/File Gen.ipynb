{
 "cells": [
  {
   "cell_type": "code",
   "execution_count": 1,
   "metadata": {},
   "outputs": [],
   "source": [
    "from os import listdir\n",
    "from os.path import isfile, join\n",
    "import pickle\n",
    "\n",
    "path = 'D:\\\\Datasets\\\\Motion Privacy\\\\NTU RGB+D 120\\\\Skeleton Data'"
   ]
  },
  {
   "cell_type": "code",
   "execution_count": 2,
   "metadata": {},
   "outputs": [],
   "source": [
    "def load_files():\n",
    "    # Read the files\n",
    "    files = [f for f in listdir(path) if isfile(join(path, f))]\n",
    "\n",
    "    # Get stats for each file based on name\n",
    "    files_ = []\n",
    "    for file in files:\n",
    "        data = {'file': file,\n",
    "                's': file[0:4],\n",
    "                'c': file[4:8],\n",
    "                'p': file[8:12],\n",
    "                'r': file[12:16],\n",
    "                'a': file[16:20]\n",
    "                }\n",
    "        files_.append(data)\n",
    "\n",
    "    return files_\n",
    "files_ = load_files()"
   ]
  },
  {
   "cell_type": "code",
   "execution_count": null,
   "metadata": {},
   "outputs": [],
   "source": [
    "ntu60 = []\n",
    "ntu60_no_dupe_actors = []\n",
    "ntu120 = []\n",
    "ntu120_no_dupe_actors = []\n",
    "ntu120_actors = set()\n",
    "\n",
    "for file in files_:\n",
    "    if int(file['a'][1:]) <= 60:\n",
    "        ntu60.append(file['file'])\n",
    "    if int(file['a'][1:]) > 60:\n",
    "        ntu120_actors.add(int(file['a'][1:]))\n",
    "        ntu120.append(file['file'])\n",
    "        if int(file['a'][1:]) > 40:\n",
    "            ntu120_no_dupe_actors.append(file['file'])\n",
    "\n",
    "for file in files_:\n",
    "    if int(file['a'][1:]) <= 60:\n",
    "        if int(file['a'][1:]) not in ntu120_actors:\n",
    "            ntu60_no_dupe_actors.append(file['file'])"
   ]
  },
  {
   "cell_type": "code",
   "execution_count": null,
   "metadata": {},
   "outputs": [],
   "source": [
    "with open('ntu60.pkl', 'wb') as f:\n",
    "    pickle.dump(ntu60, f)\n",
    "with open('ntu60_no_dupe_actors.pkl', 'wb') as f:\n",
    "    pickle.dump(ntu60_no_dupe_actors, f)\n",
    "with open('ntu120.pkl', 'wb') as f:\n",
    "    pickle.dump(ntu120, f)\n",
    "with open('ntu120_no_dupe_actors.pkl', 'wb') as f:\n",
    "    pickle.dump(ntu120_no_dupe_actors, f)"
   ]
  },
  {
   "cell_type": "code",
   "execution_count": null,
   "metadata": {},
   "outputs": [],
   "source": [
    "with open('ntu60_no_dupe_actors.pkl', 'wb') as f:\n",
    "    pickle.dump(ntu60_no_dupe_actors, f)"
   ]
  }
 ],
 "metadata": {
  "kernelspec": {
   "display_name": "Python 3",
   "language": "python",
   "name": "python3"
  },
  "language_info": {
   "codemirror_mode": {
    "name": "ipython",
    "version": 3
   },
   "file_extension": ".py",
   "mimetype": "text/x-python",
   "name": "python",
   "nbconvert_exporter": "python",
   "pygments_lexer": "ipython3",
   "version": "3.9.13"
  },
  "orig_nbformat": 4
 },
 "nbformat": 4,
 "nbformat_minor": 2
}
