{
 "cells": [
  {
   "cell_type": "code",
   "execution_count": 2,
   "metadata": {},
   "outputs": [],
   "source": [
    "import pickle\n",
    "from os import listdir\n",
    "from os.path import isfile, join\n",
    "import pandas as pd"
   ]
  },
  {
   "cell_type": "code",
   "execution_count": 7,
   "metadata": {},
   "outputs": [],
   "source": [
    "# Load the Genders\n",
    "Genders = pd.read_csv('Genders.csv')\n",
    "\n",
    "# Convert M to 1 and F to 0\n",
    "Genders = Genders.replace('M', 1).replace('F', 0)\n",
    "\n",
    "# Convert dataframe to oject where P is the key, and Gender is the value\n",
    "Genders = Genders.set_index('P').T.to_dict('list')"
   ]
  },
  {
   "cell_type": "code",
   "execution_count": 3,
   "metadata": {},
   "outputs": [],
   "source": [
    "path = 'D:\\\\Datasets\\\\Motion Privacy\\\\NTU RGB+D 120\\\\Skeleton Data'\n",
    "files = [f for f in listdir(path) if isfile(join(path, f))]"
   ]
  },
  {
   "cell_type": "code",
   "execution_count": 4,
   "metadata": {},
   "outputs": [],
   "source": [
    "files_ = []\n",
    "for file in files:\n",
    "    data = {'file': file,\n",
    "            's': file[0:4],\n",
    "            'c': file[4:8],\n",
    "            'p': file[8:12],\n",
    "            'r': file[12:16],\n",
    "            'a': file[16:20]\n",
    "            }\n",
    "    files_.append(data)"
   ]
  },
  {
   "cell_type": "code",
   "execution_count": 11,
   "metadata": {},
   "outputs": [
    {
     "name": "stdout",
     "output_type": "stream",
     "text": [
      "79920\n",
      "34560\n",
      "0.6981132075471698\n"
     ]
    }
   ],
   "source": [
    "m = 0\n",
    "f = 0\n",
    "for file in files_:\n",
    "    if Genders[file['p']][0]:\n",
    "        m += 1\n",
    "    else:\n",
    "        f += 1\n",
    "print(m)\n",
    "print(f)\n",
    "print(m/(m+f))"
   ]
  }
 ],
 "metadata": {
  "kernelspec": {
   "display_name": "Python 3",
   "language": "python",
   "name": "python3"
  },
  "language_info": {
   "codemirror_mode": {
    "name": "ipython",
    "version": 3
   },
   "file_extension": ".py",
   "mimetype": "text/x-python",
   "name": "python",
   "nbconvert_exporter": "python",
   "pygments_lexer": "ipython3",
   "version": "3.9.13"
  },
  "orig_nbformat": 4
 },
 "nbformat": 4,
 "nbformat_minor": 2
}
