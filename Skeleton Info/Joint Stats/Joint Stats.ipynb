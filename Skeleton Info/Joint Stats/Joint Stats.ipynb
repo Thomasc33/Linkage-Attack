{
 "cells": [
  {
   "attachments": {},
   "cell_type": "markdown",
   "metadata": {},
   "source": [
    "# Data Loading for Action Recognition Dataset"
   ]
  },
  {
   "cell_type": "code",
   "execution_count": 2,
   "metadata": {},
   "outputs": [],
   "source": [
    "from os import listdir\n",
    "from os.path import isfile, join\n",
    "import pickle\n",
    "from tqdm import tqdm\n",
    "import numpy as np\n",
    "import pandas as pd"
   ]
  },
  {
   "cell_type": "code",
   "execution_count": 17,
   "metadata": {},
   "outputs": [],
   "source": [
    "ON_MAC = False\n",
    "path_windows = 'D:/Datasets/Motion Privacy/NTU RGB+D 120/Skeleton Data'\n",
    "path_mac = '/Users/thomas/Downloads/nturgb+d_skeletons'\n",
    "path = path_mac if ON_MAC else path_windows\n",
    "files = [f for f in listdir(path) if isfile(join(path, f))]"
   ]
  },
  {
   "cell_type": "code",
   "execution_count": 18,
   "metadata": {},
   "outputs": [],
   "source": [
    "# Get stats for each file based on name\n",
    "files_ = []\n",
    "for file in files:\n",
    "    data = {'file': file,\n",
    "            's': file[0:4],\n",
    "            'c': file[4:8],\n",
    "            'p': file[8:12],\n",
    "            'r': file[12:16],\n",
    "            'a': file[16:20]\n",
    "            }\n",
    "    files_.append(data)\n",
    "df = pd.DataFrame(files_)"
   ]
  },
  {
   "attachments": {},
   "cell_type": "markdown",
   "metadata": {},
   "source": [
    "## Gather Information about the bodyID's in the .skeleton files"
   ]
  },
  {
   "cell_type": "code",
   "execution_count": 5,
   "metadata": {},
   "outputs": [],
   "source": [
    "load_bodies = False\n",
    "if load_bodies:\n",
    "    try:\n",
    "        with open('bodies.pickle', 'rb') as handle:\n",
    "            bodies = pickle.load(handle)\n",
    "    except FileNotFoundError:\n",
    "        bodies = {}\n",
    "\n",
    "    if bodies == {}:\n",
    "        for file_ in tqdm(files_, desc='Files Parsed'):\n",
    "            try:\n",
    "                file = join(path, file_['file'])\n",
    "                data = open(file, 'r')\n",
    "                lines = data.readlines()\n",
    "                frames_count = int(lines.pop(0).replace('\\n', ''))\n",
    "                file_['frames'] = frames_count\n",
    "            except UnicodeDecodeError: # .DS_Store file\n",
    "                print('UnicodeDecodeError: ', file)\n",
    "                continue\n",
    "\n",
    "            for f in range(frames_count):\n",
    "                # Get actor count\n",
    "                actors = int(lines.pop(0).replace('\\n', ''))\n",
    "\n",
    "                for a in range(actors):\n",
    "                    # Get actor info\n",
    "                    actor = lines.pop(0).replace('\\n', '').split(' ')\n",
    "                    bodyID = actor[0]\n",
    "                    if actors == 1: bodies[bodyID] = file_['p']\n",
    "\n",
    "                    # Remove joint info\n",
    "                    joint_count = int(lines.pop(0).replace('\\n', ''))\n",
    "                    for j in range(joint_count):\n",
    "                        lines.pop(0)\n",
    "        # Save bodies\n",
    "        with open('bodies.pickle', 'wb') as handle:\n",
    "            pickle.dump(bodies, handle, protocol=pickle.HIGHEST_PROTOCOL)"
   ]
  },
  {
   "attachments": {},
   "cell_type": "markdown",
   "metadata": {},
   "source": [
    "## Gather all the frames/joints for each P### specified in P_list"
   ]
  },
  {
   "cell_type": "code",
   "execution_count": 21,
   "metadata": {},
   "outputs": [],
   "source": [
    "def get_stats(P_list, split_video=False):\n",
    "    frames = {}\n",
    "    \n",
    "    if not split_video:\n",
    "        try:\n",
    "            with open(f'frames{P_list[0]}-{P_list[-1]}.pickle', 'rb') as handle:\n",
    "                print(f'Loading {P_list} from pickle')\n",
    "                frames = pickle.load(handle)\n",
    "        except FileNotFoundError:\n",
    "            pass\n",
    "\n",
    "    if frames == {}:        \n",
    "        for file_ in tqdm(files_, desc='Files Parsed'):\n",
    "            if file_['p'] not in P_list: continue\n",
    "\n",
    "            try:\n",
    "                file = join(path, file_['file'])\n",
    "                data = open(file, 'r')\n",
    "                lines = data.readlines()\n",
    "                frames_count = int(lines.pop(0).replace('\\n', ''))\n",
    "                file_['frames'] = frames_count\n",
    "            except UnicodeDecodeError: # .DS_Store file\n",
    "                print('UnicodeDecodeError: ', file)\n",
    "                continue\n",
    "\n",
    "            for f in range(frames_count):\n",
    "                # Get actor count\n",
    "                actors = int(lines.pop(0).replace('\\n', ''))\n",
    "\n",
    "                for a in range(actors):\n",
    "                    # Get actor info\n",
    "                    actor = lines.pop(0).replace('\\n', '').split(' ')\n",
    "                    bodyID = actor[0]\n",
    "\n",
    "                    # Get joints and add to frames under bodyID key\n",
    "                    if file_['p'] not in frames: frames[file_['p']] = []\n",
    "                    joint_count = int(lines.pop(0).replace('\\n', ''))\n",
    "                    \n",
    "                    frame = {'bodyID': bodyID, 'frame': [] }\n",
    "                    for j in range(joint_count):\n",
    "                        joint = lines.pop(0).replace('\\n', '').split(' ')\n",
    "                        frame['frame'].append({\n",
    "                            'x': joint[0],\n",
    "                            'y': joint[1],\n",
    "                            'z': joint[2]\n",
    "                        })\n",
    "                    if split_video:\n",
    "                        frame = [frame]\n",
    "                    frames[file_['p']].append(frame)\n",
    "        # Save bodies\n",
    "        if not split_video:\n",
    "            with open(f'frames{P_list[0]}-{P_list[-1]}.pickle', 'wb') as handle:\n",
    "                pickle.dump(frames, handle, protocol=pickle.HIGHEST_PROTOCOL)\n",
    "    return frames"
   ]
  },
  {
   "cell_type": "code",
   "execution_count": 4,
   "metadata": {},
   "outputs": [],
   "source": [
    "P_lists = [\n",
    "    ['P001', 'P002', 'P003', 'P004', 'P005', 'P006', 'P007', 'P008', 'P009', 'P010'],\n",
    "    ['P011', 'P012', 'P013', 'P014', 'P015', 'P016', 'P017', 'P018', 'P019', 'P020'],\n",
    "    ['P021', 'P022', 'P023', 'P024', 'P025', 'P026', 'P027', 'P028', 'P029', 'P030'],\n",
    "    ['P031', 'P032', 'P033', 'P034', 'P035', 'P036', 'P037', 'P038', 'P039', 'P040'],\n",
    "    ['P041', 'P042', 'P043', 'P044', 'P045', 'P046', 'P047', 'P048', 'P049', 'P050'],\n",
    "    ['P051', 'P052', 'P053', 'P054', 'P055', 'P056', 'P057', 'P058', 'P059', 'P060'],\n",
    "    ['P061', 'P062', 'P063', 'P064', 'P065', 'P066', 'P067', 'P068', 'P069', 'P070'],\n",
    "    ['P071', 'P072', 'P073', 'P074', 'P075', 'P076', 'P077', 'P078', 'P079', 'P080'],\n",
    "    ['P081', 'P082', 'P083', 'P084', 'P085', 'P086', 'P087', 'P088', 'P089', 'P090'],\n",
    "    ['P091', 'P092', 'P093', 'P094', 'P095', 'P096', 'P097', 'P098', 'P099', 'P100'],\n",
    "    ['P101', 'P102', 'P103', 'P104', 'P105', 'P106']\n",
    "]"
   ]
  },
  {
   "attachments": {},
   "cell_type": "markdown",
   "metadata": {},
   "source": [
    "# Statistics Gathering"
   ]
  },
  {
   "attachments": {},
   "cell_type": "markdown",
   "metadata": {},
   "source": [
    "## Base Functions"
   ]
  },
  {
   "cell_type": "code",
   "execution_count": 5,
   "metadata": {},
   "outputs": [],
   "source": [
    "connected_joints = [\n",
    "    (1,2), # Base spine to mid spine\n",
    "    (2,3), # Mid spine to neck\n",
    "    (3,4), # Neck to head\n",
    "    (5,9), # Left shoulder to Right Shoulder\n",
    "    (13,17), # Left hip to Right hip\n",
    "    (5,6), # Left shoulder to Left elbow\n",
    "    (6,7), # Left elbow to Left wrist\n",
    "    (7,8), # Left wrist to Left hand\n",
    "    (9,10), # Right shoulder to Right elbow\n",
    "    (10,11), # Right elbow to Right wrist\n",
    "    (11,12), # Right wrist to Right hand\n",
    "    (13,14), # Left hip to Left knee\n",
    "    (14,15), # Left knee to Left ankle\n",
    "    (15,16), # Left ankle to Left foot\n",
    "    (17,18), # Right hip to Right knee\n",
    "    (18,19), # Right knee to Right ankle\n",
    "    (19,20), # Right ankle to Right foot\n",
    "    (1,5), # Base spine to Left shoulder\n",
    "    (1,9), # Base spine to Right shoulder\n",
    "    (1,13), # Base spine to Left hip\n",
    "    (1,17), # Base spine to Right hip\n",
    "    (21,5), # Spine to Left shoulder\n",
    "    (21,9), # Spine to Right shoulder\n",
    "]\n",
    "\n",
    "# Remove 1 from each joint to get 0-indexed\n",
    "connected_joints = [(x-1, y-1) for x, y in connected_joints]"
   ]
  },
  {
   "cell_type": "code",
   "execution_count": 6,
   "metadata": {},
   "outputs": [],
   "source": [
    "# Calculate distance between joints\n",
    "# Store distances in array\n",
    "# Store array in dict with key of conections\n",
    "# Store connections dict in dict with key of person\n",
    "# Use Joint#-Joint# as key for stats\n",
    "\n",
    "# Attempt to load stats\n",
    "def load_stats():\n",
    "    stats = None\n",
    "    try:\n",
    "        with open('stats.pickle', 'rb') as handle:\n",
    "            stats = pickle.load(handle)\n",
    "    except FileNotFoundError:\n",
    "        print('Stats not found, calculating...')\n",
    "\n",
    "    if not stats:\n",
    "        stats = {}\n",
    "        for p_list in P_lists:\n",
    "            print('Processing: ', p_list)\n",
    "            frames = get_stats(p_list)\n",
    "            for p in tqdm(frames):\n",
    "                stats[p] = {}\n",
    "                for con in connected_joints:\n",
    "                    con_str = str(con[0]+1) + '-' + str(con[1]+1)\n",
    "                    stats[p][con_str] = []\n",
    "\n",
    "                    for frame in frames[p]:\n",
    "                        f = frame['frame']\n",
    "                        x1 = float(f[con[0]]['x'])\n",
    "                        y1 = float(f[con[0]]['y'])\n",
    "                        z1 = float(f[con[0]]['z'])\n",
    "                        x2 = float(f[con[1]]['x'])\n",
    "                        y2 = float(f[con[1]]['y'])\n",
    "                        z2 = float(f[con[1]]['z'])\n",
    "                        dist = np.sqrt((x2-x1)**2 + (y2-y1)**2 + (z2-z1)**2)\n",
    "                        stats[p][con_str].append(dist)\n",
    "            print('Deleting frames...')\n",
    "            del frames # Free up memory\n",
    "\n",
    "        # Save Stats\n",
    "        with open(f'stats.pickle', 'wb') as handle:\n",
    "            pickle.dump(stats, handle, protocol=pickle.HIGHEST_PROTOCOL)\n",
    "            print('Stats saved')\n",
    "    \n",
    "    return stats"
   ]
  },
  {
   "attachments": {},
   "cell_type": "markdown",
   "metadata": {},
   "source": [
    "## Find Differences Between Genders"
   ]
  },
  {
   "cell_type": "code",
   "execution_count": 10,
   "metadata": {},
   "outputs": [],
   "source": [
    "stats = load_stats()"
   ]
  },
  {
   "cell_type": "code",
   "execution_count": 11,
   "metadata": {},
   "outputs": [],
   "source": [
    "# Get mean of each joint\n",
    "for p in stats:\n",
    "    for con in stats[p]:\n",
    "        stats[p][con] = np.mean(stats[p][con])"
   ]
  },
  {
   "cell_type": "code",
   "execution_count": 12,
   "metadata": {},
   "outputs": [
    {
     "data": {
      "text/html": [
       "<div>\n",
       "<style scoped>\n",
       "    .dataframe tbody tr th:only-of-type {\n",
       "        vertical-align: middle;\n",
       "    }\n",
       "\n",
       "    .dataframe tbody tr th {\n",
       "        vertical-align: top;\n",
       "    }\n",
       "\n",
       "    .dataframe thead th {\n",
       "        text-align: right;\n",
       "    }\n",
       "</style>\n",
       "<table border=\"1\" class=\"dataframe\">\n",
       "  <thead>\n",
       "    <tr style=\"text-align: right;\">\n",
       "      <th></th>\n",
       "      <th>1-2</th>\n",
       "      <th>2-3</th>\n",
       "      <th>3-4</th>\n",
       "      <th>5-9</th>\n",
       "      <th>13-17</th>\n",
       "      <th>5-6</th>\n",
       "      <th>6-7</th>\n",
       "      <th>7-8</th>\n",
       "      <th>9-10</th>\n",
       "      <th>10-11</th>\n",
       "      <th>...</th>\n",
       "      <th>15-16</th>\n",
       "      <th>17-18</th>\n",
       "      <th>18-19</th>\n",
       "      <th>19-20</th>\n",
       "      <th>1-5</th>\n",
       "      <th>1-9</th>\n",
       "      <th>1-13</th>\n",
       "      <th>1-17</th>\n",
       "      <th>21-5</th>\n",
       "      <th>21-9</th>\n",
       "    </tr>\n",
       "  </thead>\n",
       "  <tbody>\n",
       "    <tr>\n",
       "      <th>P001</th>\n",
       "      <td>0.268503</td>\n",
       "      <td>0.266034</td>\n",
       "      <td>0.119742</td>\n",
       "      <td>0.262041</td>\n",
       "      <td>0.115447</td>\n",
       "      <td>0.220760</td>\n",
       "      <td>0.212158</td>\n",
       "      <td>0.065602</td>\n",
       "      <td>0.219877</td>\n",
       "      <td>0.211053</td>\n",
       "      <td>...</td>\n",
       "      <td>0.098613</td>\n",
       "      <td>0.318986</td>\n",
       "      <td>0.327953</td>\n",
       "      <td>0.099681</td>\n",
       "      <td>0.456397</td>\n",
       "      <td>0.459140</td>\n",
       "      <td>0.065153</td>\n",
       "      <td>0.065094</td>\n",
       "      <td>0.146367</td>\n",
       "      <td>0.146196</td>\n",
       "    </tr>\n",
       "    <tr>\n",
       "      <th>P002</th>\n",
       "      <td>0.268685</td>\n",
       "      <td>0.267287</td>\n",
       "      <td>0.118956</td>\n",
       "      <td>0.278126</td>\n",
       "      <td>0.122010</td>\n",
       "      <td>0.223074</td>\n",
       "      <td>0.214684</td>\n",
       "      <td>0.069512</td>\n",
       "      <td>0.220360</td>\n",
       "      <td>0.214337</td>\n",
       "      <td>...</td>\n",
       "      <td>0.099618</td>\n",
       "      <td>0.304463</td>\n",
       "      <td>0.331084</td>\n",
       "      <td>0.098978</td>\n",
       "      <td>0.464927</td>\n",
       "      <td>0.465302</td>\n",
       "      <td>0.068172</td>\n",
       "      <td>0.067730</td>\n",
       "      <td>0.150588</td>\n",
       "      <td>0.152561</td>\n",
       "    </tr>\n",
       "    <tr>\n",
       "      <th>P003</th>\n",
       "      <td>0.283443</td>\n",
       "      <td>0.280910</td>\n",
       "      <td>0.122562</td>\n",
       "      <td>0.309406</td>\n",
       "      <td>0.135060</td>\n",
       "      <td>0.242723</td>\n",
       "      <td>0.229588</td>\n",
       "      <td>0.071153</td>\n",
       "      <td>0.241256</td>\n",
       "      <td>0.230761</td>\n",
       "      <td>...</td>\n",
       "      <td>0.118313</td>\n",
       "      <td>0.339105</td>\n",
       "      <td>0.355139</td>\n",
       "      <td>0.118304</td>\n",
       "      <td>0.497950</td>\n",
       "      <td>0.494336</td>\n",
       "      <td>0.075140</td>\n",
       "      <td>0.074056</td>\n",
       "      <td>0.167068</td>\n",
       "      <td>0.166769</td>\n",
       "    </tr>\n",
       "    <tr>\n",
       "      <th>P004</th>\n",
       "      <td>0.302754</td>\n",
       "      <td>0.298901</td>\n",
       "      <td>0.135968</td>\n",
       "      <td>0.303778</td>\n",
       "      <td>0.130268</td>\n",
       "      <td>0.250867</td>\n",
       "      <td>0.238291</td>\n",
       "      <td>0.075865</td>\n",
       "      <td>0.246877</td>\n",
       "      <td>0.237270</td>\n",
       "      <td>...</td>\n",
       "      <td>0.119862</td>\n",
       "      <td>0.365201</td>\n",
       "      <td>0.352650</td>\n",
       "      <td>0.122444</td>\n",
       "      <td>0.517578</td>\n",
       "      <td>0.510914</td>\n",
       "      <td>0.071223</td>\n",
       "      <td>0.073704</td>\n",
       "      <td>0.172328</td>\n",
       "      <td>0.161736</td>\n",
       "    </tr>\n",
       "    <tr>\n",
       "      <th>P005</th>\n",
       "      <td>0.282966</td>\n",
       "      <td>0.279771</td>\n",
       "      <td>0.133788</td>\n",
       "      <td>0.307070</td>\n",
       "      <td>0.134299</td>\n",
       "      <td>0.249277</td>\n",
       "      <td>0.234122</td>\n",
       "      <td>0.075968</td>\n",
       "      <td>0.237980</td>\n",
       "      <td>0.233087</td>\n",
       "      <td>...</td>\n",
       "      <td>0.108427</td>\n",
       "      <td>0.371295</td>\n",
       "      <td>0.365847</td>\n",
       "      <td>0.108558</td>\n",
       "      <td>0.485715</td>\n",
       "      <td>0.486716</td>\n",
       "      <td>0.073534</td>\n",
       "      <td>0.072980</td>\n",
       "      <td>0.163030</td>\n",
       "      <td>0.166453</td>\n",
       "    </tr>\n",
       "  </tbody>\n",
       "</table>\n",
       "<p>5 rows × 23 columns</p>\n",
       "</div>"
      ],
      "text/plain": [
       "           1-2       2-3       3-4       5-9     13-17       5-6       6-7  \\\n",
       "P001  0.268503  0.266034  0.119742  0.262041  0.115447  0.220760  0.212158   \n",
       "P002  0.268685  0.267287  0.118956  0.278126  0.122010  0.223074  0.214684   \n",
       "P003  0.283443  0.280910  0.122562  0.309406  0.135060  0.242723  0.229588   \n",
       "P004  0.302754  0.298901  0.135968  0.303778  0.130268  0.250867  0.238291   \n",
       "P005  0.282966  0.279771  0.133788  0.307070  0.134299  0.249277  0.234122   \n",
       "\n",
       "           7-8      9-10     10-11  ...     15-16     17-18     18-19  \\\n",
       "P001  0.065602  0.219877  0.211053  ...  0.098613  0.318986  0.327953   \n",
       "P002  0.069512  0.220360  0.214337  ...  0.099618  0.304463  0.331084   \n",
       "P003  0.071153  0.241256  0.230761  ...  0.118313  0.339105  0.355139   \n",
       "P004  0.075865  0.246877  0.237270  ...  0.119862  0.365201  0.352650   \n",
       "P005  0.075968  0.237980  0.233087  ...  0.108427  0.371295  0.365847   \n",
       "\n",
       "         19-20       1-5       1-9      1-13      1-17      21-5      21-9  \n",
       "P001  0.099681  0.456397  0.459140  0.065153  0.065094  0.146367  0.146196  \n",
       "P002  0.098978  0.464927  0.465302  0.068172  0.067730  0.150588  0.152561  \n",
       "P003  0.118304  0.497950  0.494336  0.075140  0.074056  0.167068  0.166769  \n",
       "P004  0.122444  0.517578  0.510914  0.071223  0.073704  0.172328  0.161736  \n",
       "P005  0.108558  0.485715  0.486716  0.073534  0.072980  0.163030  0.166453  \n",
       "\n",
       "[5 rows x 23 columns]"
      ]
     },
     "execution_count": 12,
     "metadata": {},
     "output_type": "execute_result"
    }
   ],
   "source": [
    "# Convert stats to dataframe where each row is an actor and the columns are the connections\n",
    "df = pd.DataFrame.from_dict(stats, orient='index')\n",
    "del stats # Free up memory\n",
    "df.head()"
   ]
  },
  {
   "cell_type": "code",
   "execution_count": 13,
   "metadata": {},
   "outputs": [],
   "source": [
    "import pandas as pd\n",
    "import numpy as np\n",
    "import math\n",
    "import matplotlib.pyplot as plt\n",
    "%matplotlib inline"
   ]
  },
  {
   "cell_type": "code",
   "execution_count": 14,
   "metadata": {},
   "outputs": [],
   "source": [
    "# Load CSV file with gender of each actor\n",
    "genders = pd.read_csv('Genders.csv')"
   ]
  },
  {
   "cell_type": "code",
   "execution_count": 15,
   "metadata": {},
   "outputs": [],
   "source": [
    "# Gather arrays for male and female\n",
    "groups = genders.groupby('Gender')\n",
    "groups = [groups.get_group(x) for x in groups.groups]\n",
    "female = groups[0]\n",
    "male = groups[1]"
   ]
  },
  {
   "cell_type": "code",
   "execution_count": 16,
   "metadata": {},
   "outputs": [],
   "source": [
    "# Split up statistics dataframe \n",
    "male_stats = df.loc[male['P']]\n",
    "female_stats = df.loc[female['P']]"
   ]
  },
  {
   "cell_type": "code",
   "execution_count": 17,
   "metadata": {},
   "outputs": [],
   "source": [
    "# Calculate the mean for each column\n",
    "m_mean = male_stats.mean(axis=0)\n",
    "f_mean = female_stats.mean(axis=0)"
   ]
  },
  {
   "cell_type": "code",
   "execution_count": 18,
   "metadata": {},
   "outputs": [
    {
     "data": {
      "image/png": "[encoded data removed]",
      "text/plain": [
       "<Figure size 2000x1000 with 24 Axes>"
      ]
     },
     "metadata": {},
     "output_type": "display_data"
    }
   ],
   "source": [
    "# Plot the differences\n",
    "fig, ax = plt.subplots(4, 6, figsize=(20,10))\n",
    "fig.suptitle('Mean Distance Between Joints', fontsize=16)\n",
    "fig.tight_layout(pad=3.0)\n",
    "\n",
    "for i, con in enumerate(m_mean.index):\n",
    "    # Display bar chart for each connection for male and female\n",
    "    ax[math.floor(i/6)][i%6].bar(['Male', 'Female'], [m_mean[con], f_mean[con]], align='center')\n",
    "    ax[math.floor(i/6)][i%6].set_xticks([0,1])\n",
    "\n",
    "    # Set title\n",
    "    ax[math.floor(i/6)][i%6].set_title(con)\n",
    "\n",
    "plt.show()"
   ]
  },
  {
   "cell_type": "code",
   "execution_count": 19,
   "metadata": {},
   "outputs": [],
   "source": [
    "# Save data to CSV\n",
    "m_mean.to_csv('Male Mean.csv')\n",
    "f_mean.to_csv('Female Mean.csv')"
   ]
  },
  {
   "attachments": {},
   "cell_type": "markdown",
   "metadata": {},
   "source": [
    "## T-Test for Gender Differences"
   ]
  },
  {
   "cell_type": "code",
   "execution_count": 20,
   "metadata": {},
   "outputs": [],
   "source": [
    "# Verify that the dataframes exist\n",
    "try:\n",
    "    male_stats.head()\n",
    "except NameError:\n",
    "    print('Run the section above this one first!')"
   ]
  },
  {
   "cell_type": "code",
   "execution_count": 21,
   "metadata": {},
   "outputs": [
    {
     "name": "stdout",
     "output_type": "stream",
     "text": [
      "Con\t Independent\t\t Welch\n",
      "1-2\t 7.140399863214291e-12\t 2.023290519544718e-09\n",
      "2-3\t 8.035588306366944e-13\t 1.0740872827171244e-09\n",
      "3-4\t 1.4716352620074524e-09\t 2.2334564089577829e-10\n",
      "5-9\t 6.052862590580122e-19\t 8.7552538674295e-20\n",
      "13-17\t 1.5980223078617235e-25\t 1.7412695982957636e-22\n",
      "5-6\t 4.332954708684399e-18\t 3.061590568790771e-14\n",
      "6-7\t 3.5333123613746897e-19\t 7.095176110084313e-16\n",
      "7-8\t 1.6316320512694648e-11\t 1.2848648596269665e-12\n",
      "9-10\t 1.744424988076988e-18\t 6.765662349394278e-16\n",
      "10-11\t 7.570709550103827e-20\t 4.813382437684829e-16\n",
      "11-12\t 4.612774956778405e-13\t 2.2164504675015675e-12\n",
      "13-14\t 9.827177368567034e-12\t 2.4199736336719702e-11\n",
      "14-15\t 5.012453552815964e-10\t 2.074226093159609e-08\n",
      "15-16\t 1.8225680897042312e-12\t 2.2177627310686765e-13\n",
      "17-18\t 1.8968124650414955e-11\t 1.3363794057466671e-11\n",
      "18-19\t 1.6193781038128298e-10\t 3.7356509786128366e-09\n",
      "19-20\t 4.863799655902991e-12\t 3.632036811613149e-13\n",
      "1-5\t 4.446957404119548e-14\t 4.1413012577449684e-10\n",
      "1-9\t 7.385812872895381e-14\t 7.800022661303315e-10\n",
      "1-13\t 5.741811711156051e-22\t 2.9277092814460376e-20\n",
      "1-17\t 1.6437151278260692e-22\t 3.540542836781025e-20\n",
      "21-5\t 1.5290790227798302e-23\t 2.3199825953543988e-21\n",
      "21-9\t 4.810286117648124e-25\t 2.1288133856687863e-21\n",
      "Significant difference found for 1-2 using both t-tests\n",
      "Significant difference found for 2-3 using both t-tests\n",
      "Significant difference found for 3-4 using both t-tests\n",
      "Significant difference found for 5-9 using both t-tests\n",
      "Significant difference found for 13-17 using both t-tests\n",
      "Significant difference found for 5-6 using both t-tests\n",
      "Significant difference found for 6-7 using both t-tests\n",
      "Significant difference found for 7-8 using both t-tests\n",
      "Significant difference found for 9-10 using both t-tests\n",
      "Significant difference found for 10-11 using both t-tests\n",
      "Significant difference found for 11-12 using both t-tests\n",
      "Significant difference found for 13-14 using both t-tests\n",
      "Significant difference found for 14-15 using both t-tests\n",
      "Significant difference found for 15-16 using both t-tests\n",
      "Significant difference found for 17-18 using both t-tests\n",
      "Significant difference found for 18-19 using both t-tests\n",
      "Significant difference found for 19-20 using both t-tests\n",
      "Significant difference found for 1-5 using both t-tests\n",
      "Significant difference found for 1-9 using both t-tests\n",
      "Significant difference found for 1-13 using both t-tests\n",
      "Significant difference found for 1-17 using both t-tests\n",
      "Significant difference found for 21-5 using both t-tests\n",
      "Significant difference found for 21-9 using both t-tests\n"
     ]
    },
    {
     "data": {
      "text/plain": [
       "['1-2',\n",
       " '2-3',\n",
       " '3-4',\n",
       " '5-9',\n",
       " '13-17',\n",
       " '5-6',\n",
       " '6-7',\n",
       " '7-8',\n",
       " '9-10',\n",
       " '10-11',\n",
       " '11-12',\n",
       " '13-14',\n",
       " '14-15',\n",
       " '15-16',\n",
       " '17-18',\n",
       " '18-19',\n",
       " '19-20',\n",
       " '1-5',\n",
       " '1-9',\n",
       " '1-13',\n",
       " '1-17',\n",
       " '21-5',\n",
       " '21-9']"
      ]
     },
     "execution_count": 21,
     "metadata": {},
     "output_type": "execute_result"
    }
   ],
   "source": [
    "from scipy.stats import ttest_ind\n",
    "\n",
    "scores = {}\n",
    "\n",
    "# Perform t-test on each connection\n",
    "print('Con\\t Independent\\t\\t Welch')\n",
    "for con in male_stats:\n",
    "    # To Store t test stat/p-values\n",
    "    scores[con] = {}\n",
    "\n",
    "    # Calculate t-test using independent and welch methods\n",
    "    ind_stat, ind_p = ttest_ind(male_stats[con], female_stats[con])\n",
    "    welch_stat, welch_p = ttest_ind(male_stats[con], female_stats[con], equal_var=False)\n",
    "\n",
    "    # Print results\n",
    "    print(f'{con}\\t {ind_p}\\t {welch_p}')\n",
    "\n",
    "    # Store results\n",
    "    scores[con]['ind_p'] = ind_p\n",
    "    scores[con]['ind_stat'] = ind_stat\n",
    "    scores[con]['welch_p'] = welch_p\n",
    "    scores[con]['welch_stat'] = welch_stat\n",
    "    \n",
    "# Print significant results (p < 0.05)\n",
    "sig_cons = []\n",
    "for con in scores:\n",
    "    if scores[con]['ind_p'] < 0.05 and scores[con]['welch_p'] < 0.05:\n",
    "        print(f'Significant difference found for {con} using both t-tests')\n",
    "        sig_cons.append(con)\n",
    "    elif scores[con]['ind_p'] < 0.05:\n",
    "        print(f'Significant difference found for {con} using independent t-test')\n",
    "        sig_cons.append(con)\n",
    "    elif scores[con]['welch_p'] < 0.05:\n",
    "        print(f'Significant difference found for {con} using welch t-test')\n",
    "        sig_cons.append(con)\n",
    "\n",
    "sig_cons"
   ]
  },
  {
   "cell_type": "code",
   "execution_count": 22,
   "metadata": {},
   "outputs": [],
   "source": [
    "# Export scores to CSV\n",
    "scores_df = pd.DataFrame.from_dict(scores, orient='index')\n",
    "scores_df.to_csv('T-Test Scores.csv')"
   ]
  },
  {
   "cell_type": "code",
   "execution_count": 23,
   "metadata": {},
   "outputs": [],
   "source": [
    "# Free up memory\n",
    "del male_stats\n",
    "del female_stats\n",
    "del df"
   ]
  },
  {
   "attachments": {},
   "cell_type": "markdown",
   "metadata": {},
   "source": [
    "## Standard Deviation for Each Joint for Each Actor"
   ]
  },
  {
   "cell_type": "code",
   "execution_count": 24,
   "metadata": {},
   "outputs": [],
   "source": [
    "# Refresh Stats\n",
    "stats = load_stats()"
   ]
  },
  {
   "cell_type": "code",
   "execution_count": 25,
   "metadata": {},
   "outputs": [],
   "source": [
    "# Calculate the standard deviation for each connection\n",
    "for p in stats:\n",
    "    for con in stats[p]:\n",
    "        stats[p][con] = np.std(stats[p][con])"
   ]
  },
  {
   "cell_type": "code",
   "execution_count": 26,
   "metadata": {},
   "outputs": [],
   "source": [
    "# Convert to DataFrame\n",
    "df = pd.DataFrame.from_dict(stats, orient='index')\n",
    "\n",
    "# Average Standard Deviation for each connection\n",
    "JointWise_std = df.mean(axis=0)\n",
    "\n",
    "# Average Standard Deviation for each actor\n",
    "ActorWise_std = df.mean(axis=1)\n",
    "\n",
    "del stats # Free up memory"
   ]
  },
  {
   "cell_type": "code",
   "execution_count": 27,
   "metadata": {},
   "outputs": [],
   "source": [
    "ActorWise_std.to_csv('ActorWise_std.csv')\n",
    "JointWise_std.to_csv('JointWise_std.csv')"
   ]
  },
  {
   "attachments": {},
   "cell_type": "markdown",
   "metadata": {},
   "source": [
    "## Global Standard Deviation"
   ]
  },
  {
   "cell_type": "code",
   "execution_count": 7,
   "metadata": {},
   "outputs": [],
   "source": [
    "# Refresh Stats\n",
    "stats = load_stats()"
   ]
  },
  {
   "cell_type": "code",
   "execution_count": 9,
   "metadata": {},
   "outputs": [
    {
     "name": "stdout",
     "output_type": "stream",
     "text": [
      "Gathering distances...\n"
     ]
    },
    {
     "name": "stderr",
     "output_type": "stream",
     "text": [
      "Actor: 100%|██████████| 106/106 [08:15<00:00,  4.67s/it]\n"
     ]
    }
   ],
   "source": [
    "# Try to load distances\n",
    "try:\n",
    "    with open('distances.pickle', 'rb') as handle:\n",
    "        distances = pickle.load(handle)\n",
    "        print('Distances loaded')\n",
    "except FileNotFoundError:\n",
    "    # Put all distances into one array\n",
    "    distances = np.array([])\n",
    "    print('Gathering distances...')\n",
    "    for p in tqdm(stats, position=0, desc='Actor'):\n",
    "        for con in tqdm(stats[p], position=1, desc='Connection', leave=False):\n",
    "            d = np.array(stats[p][con])\n",
    "            distances = np.concatenate((distances, d))\n",
    "\n",
    "    # Pickle distances\n",
    "    with open('global_distances.pickle', 'wb') as handle:\n",
    "        pickle.dump(distances, handle, protocol=pickle.HIGHEST_PROTOCOL)\n",
    "        print('Distances saved')\n",
    "        \n",
    "del stats # Free up memory"
   ]
  },
  {
   "cell_type": "code",
   "execution_count": 10,
   "metadata": {},
   "outputs": [
    {
     "data": {
      "text/plain": [
       "0.13549542053389732"
      ]
     },
     "execution_count": 10,
     "metadata": {},
     "output_type": "execute_result"
    }
   ],
   "source": [
    "# Calculate standard deviation of all distances\n",
    "Global_std = np.std(distances)\n",
    "Global_std"
   ]
  }
 ],
 "metadata": {
  "kernelspec": {
   "display_name": "Python 3",
   "language": "python",
   "name": "python3"
  },
  "language_info": {
   "codemirror_mode": {
    "name": "ipython",
    "version": 3
   },
   "file_extension": ".py",
   "mimetype": "text/x-python",
   "name": "python",
   "nbconvert_exporter": "python",
   "pygments_lexer": "ipython3",
   "version": "3.9.13"
  },
  "orig_nbformat": 4,
  "vscode": {
   "interpreter": {
    "hash": "063dd9079dbbbc7ce9a24508feb60cfa7f5aa9bc9e0c912b3996301118c4566f"
   }
  }
 },
 "nbformat": 4,
 "nbformat_minor": 2
}
