{
 "cells": [
  {
   "cell_type": "code",
   "execution_count": 1,
   "metadata": {},
   "outputs": [],
   "source": [
    "import pickle\n",
    "import numpy as np\n",
    "import pandas as pd\n",
    "from tqdm import tqdm"
   ]
  },
  {
   "cell_type": "code",
   "execution_count": 2,
   "metadata": {},
   "outputs": [],
   "source": [
    "connected_joints = [\n",
    "    (1,2), # Base spine to mid spine\n",
    "    (2,3), # Mid spine to neck\n",
    "    (3,4), # Neck to head\n",
    "    (5,9), # Left shoulder to Right Shoulder\n",
    "    (13,17), # Left hip to Right hip\n",
    "    (5,6), # Left shoulder to Left elbow\n",
    "    (6,7), # Left elbow to Left wrist\n",
    "    (7,8), # Left wrist to Left hand\n",
    "    (9,10), # Right shoulder to Right elbow\n",
    "    (10,11), # Right elbow to Right wrist\n",
    "    (11,12), # Right wrist to Right hand\n",
    "    (13,14), # Left hip to Left knee\n",
    "    (14,15), # Left knee to Left ankle\n",
    "    (15,16), # Left ankle to Left foot\n",
    "    (17,18), # Right hip to Right knee\n",
    "    (18,19), # Right knee to Right ankle\n",
    "    (19,20), # Right ankle to Right foot\n",
    "    (1,5), # Base spine to Left shoulder\n",
    "    (1,9), # Base spine to Right shoulder\n",
    "    (1,13), # Base spine to Left hip\n",
    "    (1,17), # Base spine to Right hip\n",
    "    (21,5), # Spine to Left shoulder\n",
    "    (21,9), # Spine to Right shoulder\n",
    "]\n",
    "\n",
    "# Remove 1 from each joint to get 0-indexed\n",
    "connected_joints = [(x-1, y-1) for x, y in connected_joints]"
   ]
  },
  {
   "cell_type": "code",
   "execution_count": 3,
   "metadata": {},
   "outputs": [],
   "source": [
    "joints = {}\n",
    "\n",
    "try:\n",
    "    with open('l2-norm-dict.pkl', 'rb') as f:\n",
    "        joints = pickle.load(f)\n",
    "except:\n",
    "    with (open(\"X.pkl\", \"rb\")) as f:\n",
    "        X = pickle.load(f)\n",
    "\n",
    "    for j in connected_joints:\n",
    "        joints[f\"{(int(j[0]) + 1)}-{(int(j[1]) + 1)}\"] = []\n",
    "\n",
    "    for p in tqdm(X, desc=\"Actor\", position=0):\n",
    "        for frame in tqdm(X[p], desc=\"Frame\", position=1, leave=False, miniters=int(len(X[p])/10)):\n",
    "            for j in connected_joints:\n",
    "                joints[f\"{(int(j[0]) + 1)}-{(int(j[1]) + 1)}\"].append(np.linalg.norm(np.array([frame[j[0] * 3], frame[j[0] * 3 + 1], frame[j[0] * 3 + 2]]) - np.array([frame[j[1] * 3], frame[j[1] * 3 + 1], frame[j[1] * 3 + 2]])))\n",
    "    \n",
    "    with open('l2-norm-dict.pkl', 'wb') as f:\n",
    "        pickle.dump(joints, f)"
   ]
  },
  {
   "cell_type": "code",
   "execution_count": 4,
   "metadata": {},
   "outputs": [],
   "source": [
    "average_skeleton_joints = {}\n",
    "for j in joints:\n",
    "    average_skeleton_joints[j] = np.mean(joints[j])\n",
    "\n",
    "with open('average-skeleton-joints.pkl', 'wb') as f:\n",
    "    pickle.dump(average_skeleton_joints, f)"
   ]
  },
  {
   "cell_type": "code",
   "execution_count": null,
   "metadata": {},
   "outputs": [],
   "source": []
  }
 ],
 "metadata": {
  "kernelspec": {
   "display_name": "Python 3",
   "language": "python",
   "name": "python3"
  },
  "language_info": {
   "codemirror_mode": {
    "name": "ipython",
    "version": 3
   },
   "file_extension": ".py",
   "mimetype": "text/x-python",
   "name": "python",
   "nbconvert_exporter": "python",
   "pygments_lexer": "ipython3",
   "version": "3.9.13"
  },
  "orig_nbformat": 4,
  "vscode": {
   "interpreter": {
    "hash": "063dd9079dbbbc7ce9a24508feb60cfa7f5aa9bc9e0c912b3996301118c4566f"
   }
  }
 },
 "nbformat": 4,
 "nbformat_minor": 2
}
