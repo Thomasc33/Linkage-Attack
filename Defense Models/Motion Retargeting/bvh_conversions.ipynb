{
 "cells": [
  {
   "cell_type": "code",
   "execution_count": 11,
   "metadata": {},
   "outputs": [],
   "source": [
    "import numpy as np\n",
    "import os\n",
    "from os import listdir\n",
    "from os.path import isfile, join\n",
    "import pickle\n",
    "from tqdm import tqdm\n",
    "\n",
    "path = 'D:/Datasets/Motion Privacy/NTU RGB+D 120/Skeleton Data'\n",
    "frame_time = 0.03333333 # 30 fps"
   ]
  },
  {
   "cell_type": "code",
   "execution_count": 3,
   "metadata": {},
   "outputs": [],
   "source": [
    "with open('template.bvh', 'rb') as f:\n",
    "    template = f.read()"
   ]
  },
  {
   "cell_type": "code",
   "execution_count": 14,
   "metadata": {},
   "outputs": [
    {
     "name": "stderr",
     "output_type": "stream",
     "text": [
      "Files Parsed:   0%|          | 0/114480 [00:00<?, ?it/s]\n"
     ]
    }
   ],
   "source": [
    "# Attempt to load X and Y from pickle before generating them\n",
    "def load_files():\n",
    "    # Read the files\n",
    "    files = [f for f in listdir(path) if isfile(join(path, f))]\n",
    "\n",
    "    # Get stats for each file based on name\n",
    "    files_ = []\n",
    "    for file in files:\n",
    "        data = {'file': file,\n",
    "                's': file[0:4],\n",
    "                'c': file[4:8],\n",
    "                'p': file[8:12],\n",
    "                'r': file[12:16],\n",
    "                'a': file[16:20]\n",
    "                }\n",
    "        files_.append(data)\n",
    "\n",
    "    # Generate X and Y\n",
    "    for file_ in tqdm(files_, desc='Files Parsed', position=0):\n",
    "        try:\n",
    "            file = join(path, file_['file'])\n",
    "            data = open(file, 'r')\n",
    "            lines = data.readlines()\n",
    "            frames_count = int(lines.pop(0).replace('\\n', ''))\n",
    "            file_['frames'] = frames_count\n",
    "        except UnicodeDecodeError: # .DS_Store file\n",
    "            print('UnicodeDecodeError: ', file)\n",
    "            continue\n",
    "\n",
    "        # Get P and File\n",
    "        p = file_['p']\n",
    "        file = file_['file']\n",
    "        \n",
    "        # Skip file if 2 actors\n",
    "        if lines[0].replace('\\n', '') != '1': continue\n",
    "        multi_actor = False\n",
    "\n",
    "        # Get frame data\n",
    "        frame_values = []\n",
    "        for f in tqdm(range(frames_count), desc='Frames Parsed', position=1, leave=False):\n",
    "            try:\n",
    "                # Get actor count\n",
    "                actors = int(lines.pop(0).replace('\\n', ''))\n",
    "                if actors > 1: \n",
    "                    multi_actor = True\n",
    "                    break\n",
    "                # Get actor info\n",
    "                t = lines.pop(0)\n",
    "\n",
    "                # Get joint count\n",
    "                joint_count = int(lines.pop(0).replace('\\n', ''))\n",
    "\n",
    "                # Get joint info\n",
    "                frame_value = []\n",
    "                for j in range(joint_count):\n",
    "                    joint = lines.pop(0).replace('\\n', '').split(' ')\n",
    "                    frame_value.extend(joint[0:3])\n",
    "                    frame_value.extend(joint[8:11])\n",
    "\n",
    "                frame_values.append(frame_value)\n",
    "            except:\n",
    "                break\n",
    "        \n",
    "        if multi_actor: continue\n",
    "\n",
    "        # Format file\n",
    "        frames = len(frame_values)\n",
    "        bvh = template.decode('utf-8')\n",
    "        bvh = bvh + 'Frames: ' + str(frames)\n",
    "        bvh = bvh + '\\nFrame Time: ' + str(frame_time)\n",
    "        for frame_value in frame_values:\n",
    "            bvh = bvh + '\\n' + ' '.join(frame_value)\n",
    "        \n",
    "        # Save file\n",
    "        if not os.path.exists(f'./data/Skeleton Data BVH/{p}'):\n",
    "            os.makedirs(f'./data/Skeleton Data BVH/{p}')\n",
    "            \n",
    "        with open(f'./data/Skeleton Data BVH/{p}/{file}.bvh', 'wb') as f:\n",
    "            f.write(bvh.encode('utf-8'))\n",
    "\n",
    "        break # Only do one file for now\n",
    "load_files()"
   ]
  }
 ],
 "metadata": {
  "kernelspec": {
   "display_name": "Python 3",
   "language": "python",
   "name": "python3"
  },
  "language_info": {
   "codemirror_mode": {
    "name": "ipython",
    "version": 3
   },
   "file_extension": ".py",
   "mimetype": "text/x-python",
   "name": "python",
   "nbconvert_exporter": "python",
   "pygments_lexer": "ipython3",
   "version": "3.9.13"
  },
  "orig_nbformat": 4
 },
 "nbformat": 4,
 "nbformat_minor": 2
}
