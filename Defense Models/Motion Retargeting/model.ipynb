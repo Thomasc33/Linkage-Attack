{
 "cells": [
  {
   "cell_type": "code",
   "execution_count": 1,
   "metadata": {},
   "outputs": [],
   "source": [
    "import pickle"
   ]
  },
  {
   "cell_type": "code",
   "execution_count": 2,
   "metadata": {},
   "outputs": [],
   "source": [
    "x_path = 'C:/Users/Carrt/OneDrive/Code/Motion Privacy/External Repositories/Skeleton-anonymization/X_unet.pkl'\n",
    "\n",
    "with open(x_path, 'rb') as f:\n",
    "    X = pickle.load(f)"
   ]
  },
  {
   "cell_type": "code",
   "execution_count": 11,
   "metadata": {},
   "outputs": [],
   "source": [
    "def anonymizer_to_rf(t):\n",
    "    # (75)\n",
    "    # [x:0,y:1,z:2][300][joints][actors]\n",
    "    xyz, frames, joints, actors = t.shape\n",
    "    # transpose to make loop simple\n",
    "    # [frame][actors][joints][xyz]\n",
    "    t = t.transpose(1, 3, 2, 0)\n",
    "    # make empty array\n",
    "    frames = []\n",
    "\n",
    "    # crazy loop\n",
    "    for frame in t:\n",
    "        f = []\n",
    "        for actor in frame:\n",
    "            for joint in actor:\n",
    "                for xyz in joint:\n",
    "                    f.append(xyz)\n",
    "      \n",
    "        # Cut to 75\n",
    "        if len(f) != 75:\n",
    "            f = f[:75]\n",
    "\n",
    "        frames.append(f)\n",
    "\n",
    "    return frames"
   ]
  },
  {
   "cell_type": "code",
   "execution_count": 17,
   "metadata": {},
   "outputs": [],
   "source": [
    "temp = anonymizer_to_rf(X['P001'][0])[0]"
   ]
  },
  {
   "cell_type": "code",
   "execution_count": 23,
   "metadata": {},
   "outputs": [
    {
     "ename": "ModuleNotFoundError",
     "evalue": "No module named 'bpy'",
     "output_type": "error",
     "traceback": [
      "\u001b[1;31m---------------------------------------------------------------------------\u001b[0m",
      "\u001b[1;31mModuleNotFoundError\u001b[0m                       Traceback (most recent call last)",
      "Cell \u001b[1;32mIn[23], line 1\u001b[0m\n\u001b[1;32m----> 1\u001b[0m \u001b[39mimport\u001b[39;00m \u001b[39mbpy\u001b[39;00m\n\u001b[0;32m      3\u001b[0m \u001b[39m# Create armature object\u001b[39;00m\n\u001b[0;32m      4\u001b[0m arm \u001b[39m=\u001b[39m bpy\u001b[39m.\u001b[39mdata\u001b[39m.\u001b[39marmatures\u001b[39m.\u001b[39mnew(\u001b[39m'\u001b[39m\u001b[39mSkeleton\u001b[39m\u001b[39m'\u001b[39m)\n",
      "\u001b[1;31mModuleNotFoundError\u001b[0m: No module named 'bpy'"
     ]
    }
   ],
   "source": [
    "import bpy\n",
    "\n",
    "# Create armature object\n",
    "arm = bpy.data.armatures.new('Skeleton')\n",
    "arm_ob = bpy.data.objects.new('Skeleton', arm)\n",
    "bpy.context.scene.collection.objects.link(arm_ob)\n",
    "\n",
    "# Set edit mode to add bones\n",
    "bpy.ops.object.mode_set(mode='EDIT')\n",
    "\n",
    "# Define bone hierarchy and names\n",
    "bones = {\n",
    "    'Hips': ['Spine1'],\n",
    "    'Spine1': ['Spine2'],\n",
    "    'Spine2': ['Neck'],\n",
    "    'Neck': ['Head'],\n",
    "    'Spine1': ['ShoulderLeft', 'ShoulderRight'],\n",
    "    'ShoulderLeft': ['ElbowLeft'],\n",
    "    'ElbowLeft': ['WristLeft'],\n",
    "    'WristLeft': ['HandLeft'],\n",
    "    'ShoulderRight': ['ElbowRight'],\n",
    "    'ElbowRight': ['WristRight'],\n",
    "    'WristRight': ['HandRight'],\n",
    "    'Hips': ['HipLeft', 'HipRight'],\n",
    "    'HipLeft': ['KneeLeft'],\n",
    "    'KneeLeft': ['AnkleLeft'],\n",
    "    'AnkleLeft': ['FootLeft'],\n",
    "    'HipRight': ['KneeRight'],\n",
    "    'KneeRight': ['AnkleRight'],\n",
    "    'AnkleRight': ['FootRight'],\n",
    "}\n",
    "\n",
    "bone_names = list(bones.keys())\n",
    "\n",
    "# Add root bone\n",
    "hip_bone = arm.edit_bones.new('Hips')\n",
    "hip_bone.head = (0, 0, 0)\n",
    "hip_bone.tail = (0, 0, 1)\n",
    "\n",
    "# Add remaining bones and position them\n",
    "for bone_name in bone_names:\n",
    "    bone = arm.edit_bones.new(bone_name)\n",
    "    if bone_name == 'Hips':\n",
    "        continue\n",
    "    parent_bone_name = next(\n",
    "        k for k, v in bones.items() if bone_name in v\n",
    "    )\n",
    "    bone.parent = arm.edit_bones[parent_bone_name]\n",
    "    bone.head = bone.parent.tail\n",
    "    bone.tail = bone.parent.tail + (0, 0, 1)\n",
    "\n",
    "# Set back to object mode\n",
    "bpy.ops.object.mode_set(mode='OBJECT')\n"
   ]
  }
 ],
 "metadata": {
  "kernelspec": {
   "display_name": "Python 3",
   "language": "python",
   "name": "python3"
  },
  "language_info": {
   "codemirror_mode": {
    "name": "ipython",
    "version": 3
   },
   "file_extension": ".py",
   "mimetype": "text/x-python",
   "name": "python",
   "nbconvert_exporter": "python",
   "pygments_lexer": "ipython3",
   "version": "3.9.13"
  },
  "orig_nbformat": 4
 },
 "nbformat": 4,
 "nbformat_minor": 2
}
