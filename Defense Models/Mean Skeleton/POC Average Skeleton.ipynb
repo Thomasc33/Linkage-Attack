{
 "cells": [
  {
   "cell_type": "code",
   "execution_count": 15,
   "metadata": {},
   "outputs": [],
   "source": [
    "import pickle\n",
    "import numpy as np\n",
    "from tqdm import tqdm\n",
    "import time"
   ]
  },
  {
   "cell_type": "code",
   "execution_count": 2,
   "metadata": {},
   "outputs": [],
   "source": [
    "def rad_to_deg(rad): return rad * 180 / np.pi"
   ]
  },
  {
   "cell_type": "code",
   "execution_count": 3,
   "metadata": {},
   "outputs": [],
   "source": [
    "connected_joints = [(0, 1),(0, 16),(0, 12),(1, 20),(20, 2),(2, 3),(20, 8),(20, 4),(8, 9),(9, 10),(10, 11),(11, 23),(11, 24),(4, 5),(5, 6),(6, 7),(7, 21),(7, 22),(16, 17),(17, 18),(18, 19),(12, 13),(13, 14),(14, 15)]\n",
    "\n",
    "connected_joints = [(x-1, y-1) for x, y in connected_joints]"
   ]
  },
  {
   "cell_type": "code",
   "execution_count": 5,
   "metadata": {},
   "outputs": [
    {
     "name": "stderr",
     "output_type": "stream",
     "text": [
      "Actor: 100%|██████████| 106/106 [13:21<00:00,  7.56s/it]\n"
     ]
    }
   ],
   "source": [
    "joints = {}\n",
    "X_path = 'C:\\\\Users\\\\Carrt\\\\OneDrive\\\\Code\\\\Motion Privacy\\\\Attacking Models\\\\RF Attack Model\\\\X.pkl'\n",
    "try:\n",
    "    with open('l2-norm-dict.pkl', 'rb') as f:\n",
    "        joints = pickle.load(f)\n",
    "except:\n",
    "    with (open(X_path, \"rb\")) as f:\n",
    "        X = pickle.load(f)\n",
    "\n",
    "    for j in connected_joints:\n",
    "        joints[f\"{(int(j[0]) + 1)}-{(int(j[1]) + 1)}\"] = []\n",
    "\n",
    "    for p in tqdm(X, desc=\"Actor\", position=0):\n",
    "        for frame in tqdm(X[p], desc=\"Frame\", position=1, leave=False, miniters=int(len(X[p])/10)):\n",
    "            for j in connected_joints:\n",
    "                joints[f\"{(int(j[0]) + 1)}-{(int(j[1]) + 1)}\"].append(np.linalg.norm(np.array([frame[j[0] * 3], frame[j[0] * 3 + 1], frame[j[0] * 3 + 2]]) - np.array([frame[j[1] * 3], frame[j[1] * 3 + 1], frame[j[1] * 3 + 2]])))\n",
    "    \n",
    "    with open('l2-norm-dict.pkl', 'wb') as f:\n",
    "        pickle.dump(joints, f)\n",
    "\n",
    "    average_skeleton_joints = {}\n",
    "    for j in joints:\n",
    "        average_skeleton_joints[j] = np.mean(joints[j])\n",
    "\n",
    "    with open('average-skeleton-joints.pkl', 'wb') as f:\n",
    "        pickle.dump(average_skeleton_joints, f)"
   ]
  },
  {
   "cell_type": "code",
   "execution_count": 6,
   "metadata": {},
   "outputs": [
    {
     "data": {
      "text/plain": [
       "{'0-1': 0.4333,\n",
       " '0-16': 0.925,\n",
       " '0-12': 0.04556,\n",
       " '1-20': 0.6714,\n",
       " '20-2': 0.928,\n",
       " '2-3': 0.285,\n",
       " '20-8': 0.877,\n",
       " '20-4': 1.305,\n",
       " '8-9': 0.4976,\n",
       " '9-10': 0.2344,\n",
       " '10-11': 0.2286,\n",
       " '11-23': 0.391,\n",
       " '11-24': 0.1262,\n",
       " '4-5': 0.2756,\n",
       " '5-6': 0.2367,\n",
       " '6-7': 0.229,\n",
       " '7-21': 0.425,\n",
       " '7-22': 0.1247,\n",
       " '16-17': 0.685,\n",
       " '17-18': 0.3394,\n",
       " '18-19': 0.3533,\n",
       " '12-13': 0.4375,\n",
       " '13-14': 0.3394,\n",
       " '14-15': 0.353}"
      ]
     },
     "execution_count": 6,
     "metadata": {},
     "output_type": "execute_result"
    }
   ],
   "source": [
    "with open('average-skeleton-joints.pkl', 'rb') as f:\n",
    "    average_skeleton_joints = pickle.load(f)\n",
    "average_skeleton_joints"
   ]
  },
  {
   "cell_type": "code",
   "execution_count": 7,
   "metadata": {},
   "outputs": [
    {
     "data": {
      "text/plain": [
       "array([ 0.2181,  0.1726,  3.785 ,  0.2323,  0.4326,  3.715 ,  0.2457,\n",
       "        0.6875,  3.635 ,  0.2129,  0.808 ,  3.582 ,  0.1109,  0.6113,\n",
       "        3.717 ,  0.1009,  0.4287,  3.742 ,  0.1187,  0.3428,  3.557 ,\n",
       "        0.1165,  0.3174,  3.55  ,  0.345 ,  0.574 ,  3.588 ,  0.4211,\n",
       "        0.3848,  3.627 ,  0.1919,  0.3188,  3.541 ,  0.1299,  0.3171,\n",
       "        3.543 ,  0.1627,  0.1746,  3.78  ,  0.1975, -0.1361,  3.904 ,\n",
       "        0.2443, -0.4202,  4.055 ,  0.204 , -0.4763,  4.094 ,  0.27  ,\n",
       "        0.1678,  3.73  ,  0.3105, -0.1462,  3.818 ,  0.3428, -0.433 ,\n",
       "        3.943 ,  0.2952, -0.502 ,  3.969 ,  0.2426,  0.6245,  3.656 ,\n",
       "        0.12  ,  0.2957,  3.533 ,  0.099 ,  0.346 ,  3.527 ,  0.0871,\n",
       "        0.2988,  3.547 ,  0.1268,  0.2815,  3.549 ], dtype=float16)"
      ]
     },
     "execution_count": 7,
     "metadata": {},
     "output_type": "execute_result"
    }
   ],
   "source": [
    "test = X['P001'][0]\n",
    "test"
   ]
  },
  {
   "cell_type": "code",
   "execution_count": 8,
   "metadata": {},
   "outputs": [],
   "source": [
    "end_effectors = [\n",
    "    3, # Head\n",
    "    23, # Tip fo Right Hand\n",
    "    24, # Right Thumb\n",
    "    21, # Tip of Left Hand\n",
    "    22, # Left Thumb\n",
    "    15, # Left Foot\n",
    "    19, # Right Foot\n",
    "]"
   ]
  },
  {
   "cell_type": "code",
   "execution_count": 9,
   "metadata": {},
   "outputs": [],
   "source": [
    "paths_to_end_effectors = [\n",
    "    [0,1,20,2,3],\n",
    "    [0,1,20,8,9,10,11,23],\n",
    "    [0,1,20,8,9,10,11,24],\n",
    "    [0,1,20,4,5,6,7,21],\n",
    "    [0,1,20,4,5,6,7,22],\n",
    "    [0,12,13,14,15],\n",
    "    [0,16,17,18,19]\n",
    "]"
   ]
  },
  {
   "cell_type": "code",
   "execution_count": 34,
   "metadata": {},
   "outputs": [
    {
     "name": "stdout",
     "output_type": "stream",
     "text": [
      "[0.2181, 0.1726, 3.785, -0.2059, 0.1665, 3.375, -0.6743, 0.6094, 2.787, 0.01233, 0.718, 3.414, 0.188, -0.644, 3.541, -0.145, 0.6094, 3.463, 0.3315, 0.3853, 3.842, 0.3323, 0.3472, 3.766, 0.457, -0.009766, 3.945, 0.1342, 0.612, 3.365, 0.4438, 0.5635, 3.678, 0.1917, 0.147, 3.537, 0.218, 0.2158, 3.783, -0.2563, 0.1927, 3.389, -0.1223, -0.1103, 3.617, 0.0448, -0.5376, 3.854, 0.2793, -0.745, 3.844, -0.3467, 0.1915, 3.133, -0.01587, -0.1311, 3.518, 0.2059, -0.5024, 3.787, -0.4277, 0.422, 3.082, 0.5283, 0.2751, 3.875, 0.03137, 0.3586, 3.473, 0.11584, 0.2421, 3.508, 0.01825, 0.3154, 3.432]\n",
      "Time: 0.0009992122650146484\n"
     ]
    }
   ],
   "source": [
    "verbose = False\n",
    "t = time.time()\n",
    "new_skele = [0 for i in range(25 * 3)]\n",
    "new_skele[0:3] = test[0:3]\n",
    "for path in paths_to_end_effectors:\n",
    "    for connection in range(len(path) - 1):\n",
    "        # If second joint in connection is already calculated, skip\n",
    "        if new_skele[path[connection + 1] * 3] != 0:\n",
    "            continue\n",
    "\n",
    "        vector = test[path[connection] * 3: path[connection] * 3 + 3] - test[path[connection + 1] * 3: path[connection + 1] * 3 + 3]\n",
    "        length = np.linalg.norm(vector)\n",
    "        normalized_vector = vector / length\n",
    "        if verbose: print(f\"{path[connection]}-{path[connection + 1]}: {length} - {normalized_vector}\")\n",
    "\n",
    "        x_rotation = np.arctan2(normalized_vector[1], normalized_vector[2])\n",
    "        y_rotation = np.arctan2(normalized_vector[0], normalized_vector[2])\n",
    "        z_rotation = np.arctan2(normalized_vector[0], normalized_vector[1])\n",
    "\n",
    "        if verbose:\n",
    "            print(f\"Radians: X: {x_rotation} Y: {y_rotation} Z: {z_rotation}\")\n",
    "            print(f\"Degrees: X: {rad_to_deg(x_rotation)} Y: {rad_to_deg(y_rotation)} Z: {rad_to_deg(z_rotation)}\")\n",
    "\n",
    "        distance = average_skeleton_joints[f\"{path[connection]}-{path[connection + 1]}\"]\n",
    "        if verbose: print(f\"Distance: {distance}\")\n",
    "\n",
    "        dx = distance * np.cos(y_rotation) * np.cos(z_rotation)\n",
    "        dy = distance * np.sin(z_rotation) * np.cos(x_rotation)\n",
    "        dz = distance * np.sin(x_rotation) * np.cos(y_rotation)\n",
    "        if verbose: print(f\"dx: {dx} dy: {dy} dz: {dz}\")\n",
    "\n",
    "        new_pos = test[path[connection] * 3: path[connection] * 3 + 3] + np.array([dx, dy, dz])\n",
    "        if verbose: print(f\"New Position: {new_pos}\")\n",
    "        new_skele[path[connection + 1] * 3: path[connection + 1] * 3 + 3] = new_pos\n",
    "end_t = time.time()\n",
    "print(new_skele)\n",
    "print(f\"Time: {end_t - t}\")"
   ]
  }
 ],
 "metadata": {
  "kernelspec": {
   "display_name": "Python 3",
   "language": "python",
   "name": "python3"
  },
  "language_info": {
   "codemirror_mode": {
    "name": "ipython",
    "version": 3
   },
   "file_extension": ".py",
   "mimetype": "text/x-python",
   "name": "python",
   "nbconvert_exporter": "python",
   "pygments_lexer": "ipython3",
   "version": "3.9.13"
  },
  "orig_nbformat": 4
 },
 "nbformat": 4,
 "nbformat_minor": 2
}
