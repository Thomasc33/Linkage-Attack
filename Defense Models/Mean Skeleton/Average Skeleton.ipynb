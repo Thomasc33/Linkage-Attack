{
 "cells": [
  {
   "cell_type": "code",
   "execution_count": 4,
   "metadata": {},
   "outputs": [],
   "source": [
    "import pickle\n",
    "import numpy as np\n",
    "from tqdm import tqdm"
   ]
  },
  {
   "cell_type": "code",
   "execution_count": 2,
   "metadata": {},
   "outputs": [],
   "source": [
    "connected_joints = [(0, 1),(0, 16),(0, 12),(1, 20),(20, 2),(2, 3),(20, 8),(20, 4),(8, 9),(9, 10),(10, 11),(11, 23),(11, 24),(4, 5),(5, 6),(6, 7),(7, 21),(7, 22),(16, 17),(17, 18),(18, 19),(12, 13),(13, 14),(14, 15)]\n",
    "\n",
    "connected_joints = [(x-1, y-1) for x, y in connected_joints]"
   ]
  },
  {
   "cell_type": "code",
   "execution_count": 6,
   "metadata": {},
   "outputs": [
    {
     "name": "stderr",
     "output_type": "stream",
     "text": [
      "Actor: 100%|██████████| 106/106 [07:48<00:00,  4.42s/it]\n"
     ]
    }
   ],
   "source": [
    "joints = {}\n",
    "X_path = '/Users/thomas/Code/Motion-Privacy/X.pkl'\n",
    "try:\n",
    "    with open('l2-norm-dict.pkl', 'rb') as f:\n",
    "        joints = pickle.load(f)\n",
    "except:\n",
    "    with (open(X_path, \"rb\")) as f:\n",
    "        X = pickle.load(f)\n",
    "\n",
    "    for j in connected_joints:\n",
    "        joints[f\"{(int(j[0]) + 1)}-{(int(j[1]) + 1)}\"] = []\n",
    "\n",
    "    for p in tqdm(X, desc=\"Actor\", position=0):\n",
    "        for frame in tqdm(X[p], desc=\"Frame\", position=1, leave=False, miniters=int(len(X[p])/10)):\n",
    "            for j in connected_joints:\n",
    "                joints[f\"{(int(j[0]) + 1)}-{(int(j[1]) + 1)}\"].append(np.linalg.norm(np.array([frame[j[0] * 3], frame[j[0] * 3 + 1], frame[j[0] * 3 + 2]]) - np.array([frame[j[1] * 3], frame[j[1] * 3 + 1], frame[j[1] * 3 + 2]])))\n",
    "    \n",
    "    with open('l2-norm-dict.pkl', 'wb') as f:\n",
    "        pickle.dump(joints, f)"
   ]
  },
  {
   "cell_type": "code",
   "execution_count": 7,
   "metadata": {},
   "outputs": [],
   "source": [
    "average_skeleton_joints = {}\n",
    "for j in joints:\n",
    "    average_skeleton_joints[j] = np.mean(joints[j])\n",
    "\n",
    "with open('average-skeleton-joints.pkl', 'wb') as f:\n",
    "    pickle.dump(average_skeleton_joints, f)"
   ]
  },
  {
   "cell_type": "code",
   "execution_count": 8,
   "metadata": {},
   "outputs": [
    {
     "data": {
      "text/plain": [
       "{'0-1': 0.4333,\n",
       " '0-16': 0.925,\n",
       " '0-12': 0.04556,\n",
       " '1-20': 0.6714,\n",
       " '20-2': 0.928,\n",
       " '2-3': 0.285,\n",
       " '20-8': 0.877,\n",
       " '20-4': 1.305,\n",
       " '8-9': 0.4976,\n",
       " '9-10': 0.2344,\n",
       " '10-11': 0.2286,\n",
       " '11-23': 0.391,\n",
       " '11-24': 0.1262,\n",
       " '4-5': 0.2756,\n",
       " '5-6': 0.2367,\n",
       " '6-7': 0.229,\n",
       " '7-21': 0.425,\n",
       " '7-22': 0.1247,\n",
       " '16-17': 0.685,\n",
       " '17-18': 0.3394,\n",
       " '18-19': 0.3533,\n",
       " '12-13': 0.4375,\n",
       " '13-14': 0.3394,\n",
       " '14-15': 0.353}"
      ]
     },
     "execution_count": 8,
     "metadata": {},
     "output_type": "execute_result"
    }
   ],
   "source": [
    "average_skeleton_joints"
   ]
  },
  {
   "cell_type": "code",
   "execution_count": 12,
   "metadata": {},
   "outputs": [
    {
     "data": {
      "text/plain": [
       "array([ 0.2181,  0.1726,  3.785 ,  0.2323,  0.4326,  3.715 ,  0.2457,\n",
       "        0.6875,  3.635 ,  0.2129,  0.808 ,  3.582 ,  0.1109,  0.6113,\n",
       "        3.717 ,  0.1009,  0.4287,  3.742 ,  0.1187,  0.3428,  3.557 ,\n",
       "        0.1165,  0.3174,  3.55  ,  0.345 ,  0.574 ,  3.588 ,  0.4211,\n",
       "        0.3848,  3.627 ,  0.1919,  0.3188,  3.541 ,  0.1299,  0.3171,\n",
       "        3.543 ,  0.1627,  0.1746,  3.78  ,  0.1975, -0.1361,  3.904 ,\n",
       "        0.2443, -0.4202,  4.055 ,  0.204 , -0.4763,  4.094 ,  0.27  ,\n",
       "        0.1678,  3.73  ,  0.3105, -0.1462,  3.818 ,  0.3428, -0.433 ,\n",
       "        3.943 ,  0.2952, -0.502 ,  3.969 ,  0.2426,  0.6245,  3.656 ,\n",
       "        0.12  ,  0.2957,  3.533 ,  0.099 ,  0.346 ,  3.527 ,  0.0871,\n",
       "        0.2988,  3.547 ,  0.1268,  0.2815,  3.549 ], dtype=float16)"
      ]
     },
     "execution_count": 12,
     "metadata": {},
     "output_type": "execute_result"
    }
   ],
   "source": [
    "test = X['P001'][0]\n",
    "test"
   ]
  },
  {
   "cell_type": "code",
   "execution_count": 13,
   "metadata": {},
   "outputs": [],
   "source": [
    "end_effectors = [\n",
    "    3, # Head\n",
    "    23, # Tip fo Right Hand\n",
    "    24, # Right Thumb\n",
    "    21, # Tip of Left Hand\n",
    "    22, # Left Thumb\n",
    "    15, # Left Foot\n",
    "    19, # Right Foot\n",
    "]"
   ]
  },
  {
   "cell_type": "code",
   "execution_count": null,
   "metadata": {},
   "outputs": [],
   "source": [
    "paths_to_end_effectors = [\n",
    "    [0,1,20,2,3],\n",
    "    [0,1,20,8,9,10,11,23],\n",
    "    [0,1,20,8,9,10,11,24],\n",
    "    [0,1,20,4,5,6,7,21],\n",
    "    [0,1,20,4,5,6,7,22],\n",
    "    [0,12,13,14,15],\n",
    "    [0,16,17,18,19]\n",
    "]"
   ]
  },
  {
   "cell_type": "code",
   "execution_count": null,
   "metadata": {},
   "outputs": [],
   "source": []
  }
 ],
 "metadata": {
  "kernelspec": {
   "display_name": "Python 3",
   "language": "python",
   "name": "python3"
  },
  "language_info": {
   "codemirror_mode": {
    "name": "ipython",
    "version": 3
   },
   "file_extension": ".py",
   "mimetype": "text/x-python",
   "name": "python",
   "nbconvert_exporter": "python",
   "pygments_lexer": "ipython3",
   "version": "3.11.0"
  },
  "orig_nbformat": 4
 },
 "nbformat": 4,
 "nbformat_minor": 2
}
