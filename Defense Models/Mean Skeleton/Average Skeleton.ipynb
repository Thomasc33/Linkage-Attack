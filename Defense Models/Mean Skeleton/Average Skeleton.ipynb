{
 "cells": [
  {
   "cell_type": "code",
   "execution_count": 4,
   "metadata": {},
   "outputs": [],
   "source": [
    "import pickle\n",
    "import numpy as np\n",
    "from tqdm import tqdm"
   ]
  },
  {
   "cell_type": "code",
   "execution_count": 2,
   "metadata": {},
   "outputs": [],
   "source": [
    "connected_joints = [(0, 1),(0, 16),(0, 12),(1, 20),(20, 2),(2, 3),(20, 8),(20, 4),(8, 9),(9, 10),(10, 11),(11, 23),(11, 24),(4, 5),(5, 6),(6, 7),(7, 21),(7, 22),(16, 17),(17, 18),(18, 19),(12, 13),(13, 14),(14, 15)]\n",
    "\n",
    "connected_joints = [(x-1, y-1) for x, y in connected_joints]"
   ]
  },
  {
   "cell_type": "code",
   "execution_count": 5,
   "metadata": {},
   "outputs": [
    {
     "name": "stderr",
     "output_type": "stream",
     "text": [
      "Actor:   1%|          | 1/106 [00:10<18:17, 10.45s/it]"
     ]
    }
   ],
   "source": [
    "joints = {}\n",
    "X_path = '/Users/thomas/Code/Motion-Privacy/X.pkl'\n",
    "try:\n",
    "    with open('l2-norm-dict.pkl', 'rb') as f:\n",
    "        joints = pickle.load(f)\n",
    "except:\n",
    "    with (open(X_path, \"rb\")) as f:\n",
    "        X = pickle.load(f)\n",
    "\n",
    "    for j in connected_joints:\n",
    "        joints[f\"{(int(j[0]) + 1)}-{(int(j[1]) + 1)}\"] = []\n",
    "\n",
    "    for p in tqdm(X, desc=\"Actor\", position=0):\n",
    "        for frame in tqdm(X[p], desc=\"Frame\", position=1, leave=False, miniters=int(len(X[p])/10)):\n",
    "            for j in connected_joints:\n",
    "                joints[f\"{(int(j[0]) + 1)}-{(int(j[1]) + 1)}\"].append(np.linalg.norm(np.array([frame[j[0] * 3], frame[j[0] * 3 + 1], frame[j[0] * 3 + 2]]) - np.array([frame[j[1] * 3], frame[j[1] * 3 + 1], frame[j[1] * 3 + 2]])))\n",
    "    \n",
    "    with open('l2-norm-dict.pkl', 'wb') as f:\n",
    "        pickle.dump(joints, f)"
   ]
  }
 ],
 "metadata": {
  "kernelspec": {
   "display_name": "Python 3",
   "language": "python",
   "name": "python3"
  },
  "language_info": {
   "codemirror_mode": {
    "name": "ipython",
    "version": 3
   },
   "file_extension": ".py",
   "mimetype": "text/x-python",
   "name": "python",
   "nbconvert_exporter": "python",
   "pygments_lexer": "ipython3",
   "version": "3.11.0"
  },
  "orig_nbformat": 4
 },
 "nbformat": 4,
 "nbformat_minor": 2
}
